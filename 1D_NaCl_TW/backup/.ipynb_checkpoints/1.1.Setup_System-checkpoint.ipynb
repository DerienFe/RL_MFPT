{
 "cells": [
  {
   "cell_type": "markdown",
   "id": "04fcef54-9cd3-4885-9972-e35345981784",
   "metadata": {
    "tags": []
   },
   "source": [
    "# 1.1 Setting up the system for OpenMM (NaCl)"
   ]
  },
  {
   "cell_type": "markdown",
   "id": "5f6a27d6-9258-4842-8064-d92ed2bc05ef",
   "metadata": {
    "tags": []
   },
   "source": [
    "## Imports"
   ]
  },
  {
   "cell_type": "code",
   "execution_count": 8,
   "id": "defcc4c3-b05b-4a85-af78-3e3bd2d0c9d7",
   "metadata": {},
   "outputs": [],
   "source": [
    "## import required packages\n",
    "import os, math, sys\n",
    "import simtk.openmm.app  as omm_app\n",
    "import simtk.openmm as omm\n",
    "import simtk.unit as unit"
   ]
  },
  {
   "cell_type": "markdown",
   "id": "d90993d6-4a7f-455e-98ae-b2194bb707c9",
   "metadata": {
    "tags": []
   },
   "source": [
    "### Aims of this Notebook"
   ]
  },
  {
   "cell_type": "markdown",
   "id": "028977bb-b36c-480a-8f77-b7e37308a31b",
   "metadata": {},
   "source": [
    "This is an example notebook on how to set up a simulation system under the OpenMM suite from given Charmm-GUI input topology and parameter files.\n",
    "\n",
    "You will learn: \n",
    "1. Read in topology files (Charmm psf and pdb) for simulation\n",
    "2. Read in the set of Charmm parameters provided\n",
    "3. Create and save the OpenMM system for simulation. \n",
    "4. Add a custom bias with a harmonic potential "
   ]
  },
  {
   "cell_type": "markdown",
   "id": "3c3c0766-8f44-4449-9c01-1557432efe89",
   "metadata": {
    "tags": []
   },
   "source": [
    "## Introduction"
   ]
  },
  {
   "cell_type": "markdown",
   "id": "4b4b53e1-6995-422d-89c9-3028ad8fdda7",
   "metadata": {
    "tags": []
   },
   "source": [
    "### Simulating NaCl in water\n",
    "\n",
    "For the purpose of this workshop, we previously parameterized a Na+ Cl- complex from a PDB crystal structure, solvated the system and generated the necessary files for simulation using Charmm-GUI (topology and parameters which can be found under the **/toppar/** folder). We will be using Charmm36m as our Force Field. If you are interested on generating your own parameters for your system using Charmm-GUI you can find videos/demos and help here: https://www.charmm-gui.org/?doc=demo"
   ]
  },
  {
   "cell_type": "markdown",
   "id": "27cc6044-d841-4624-9c8c-73231c3e22f4",
   "metadata": {},
   "source": [
    "We will be sampling the dissociation of NaCl in water and will try to reconstruct the free energy profile from the resulting simulations. In order to sample more efficiently we will use the umbrella sampling method to bias the distance between the ionic complex.  "
   ]
  },
  {
   "cell_type": "markdown",
   "id": "6ba68841-914d-4377-b1a8-aef54883ae40",
   "metadata": {},
   "source": [
    "**Our simulated system looks like this:**"
   ]
  },
  {
   "cell_type": "markdown",
   "id": "46456159-19fb-4ed1-b956-418f9988d86b",
   "metadata": {},
   "source": [
    "<center>\n",
    "<img src=\"images/solvated_system.png\" alt=\"NaCl\" width=\"500\"/>\n",
    "</center>"
   ]
  },
  {
   "cell_type": "markdown",
   "id": "13a1dbe9-f92e-4425-90da-c00f1235cb01",
   "metadata": {},
   "source": [
    "------"
   ]
  },
  {
   "cell_type": "markdown",
   "id": "14c7790a-5fe7-4d32-98f8-c9409c91b86a",
   "metadata": {
    "tags": []
   },
   "source": [
    "## Hands-on Code"
   ]
  },
  {
   "cell_type": "markdown",
   "id": "5d5e8923-17c4-4d3b-a5e9-876560923eea",
   "metadata": {
    "tags": []
   },
   "source": [
    "### System creation"
   ]
  },
  {
   "cell_type": "markdown",
   "id": "b95da9dc-d92a-4048-a473-82c7d7ec1a75",
   "metadata": {},
   "source": [
    "We first import the necessary psf/pdb files with the topology info to be able to look up the atom parameters on the force field."
   ]
  },
  {
   "cell_type": "code",
   "execution_count": 9,
   "id": "cbb8ffcb-41dd-41fb-8175-70414d786eec",
   "metadata": {},
   "outputs": [],
   "source": [
    "psf_file = 'toppar/step3_input.psf' #Path\n",
    "pdb_file = 'toppar/step3_input.pdb' #Path"
   ]
  },
  {
   "cell_type": "markdown",
   "id": "362955db-8542-407b-9333-c3326b5de02d",
   "metadata": {},
   "source": [
    "OpenMM has specific functions that read in whatever is necessary from the files:"
   ]
  },
  {
   "cell_type": "code",
   "execution_count": 10,
   "id": "28909c76-76e7-4542-90ce-018a28b4e247",
   "metadata": {},
   "outputs": [],
   "source": [
    "psf = omm_app.CharmmPsfFile(psf_file)\n",
    "pdb = omm_app.PDBFile(pdb_file)"
   ]
  },
  {
   "cell_type": "markdown",
   "id": "70600526-fbc2-468f-8afc-b040ee6c8c56",
   "metadata": {},
   "source": [
    "From the **/toppar/** folder we read in as well the parameter file with the info for our 2 ions (Na and Cl)"
   ]
  },
  {
   "cell_type": "code",
   "execution_count": 11,
   "id": "98059c7f-957f-47ed-b340-0fed0931fa27",
   "metadata": {},
   "outputs": [],
   "source": [
    "params = omm_app.CharmmParameterSet('toppar/toppar_water_ions.str')"
   ]
  },
  {
   "cell_type": "markdown",
   "id": "fdf867b5-4a50-4f4e-acde-1cdd9619312b",
   "metadata": {},
   "source": [
    "Once everything necessary is in, we can create the system to simulate in OpenMM"
   ]
  },
  {
   "cell_type": "code",
   "execution_count": 12,
   "id": "87c1f047-1baf-44ce-a8ac-27ae445db736",
   "metadata": {},
   "outputs": [],
   "source": [
    "## Create an OpenMM system\n",
    "system = psf.createSystem(params)"
   ]
  },
  {
   "cell_type": "markdown",
   "id": "a17ec68f-eba7-4d5b-b7e6-141d2e6c35bf",
   "metadata": {
    "tags": []
   },
   "source": [
    "### Defining the biasing potential"
   ]
  },
  {
   "cell_type": "markdown",
   "id": "39b7436a-814d-49d9-891c-78e8a4b3ae7f",
   "metadata": {},
   "source": [
    "Now that we have our system we can add our custom bias to it.\n",
    "\n",
    "In this case since we want to quickly see the dissociation of NaCl, for that, we will be biasing the distance between our two complexed ions. \n",
    "\n",
    "The most suitable bias for separating them would be a harmonic biasing potential. All we need to do is tell OpenMM the formula of the biasing potential and the degree of dredom we want to add the biasing potential to, the formula would look like: \n",
    "\n",
    "$$\n",
    "  U_{i} = k_{i}(r - r_{o})^2\n",
    "$$"
   ]
  },
  {
   "cell_type": "code",
   "execution_count": 13,
   "id": "bf83fcb1-3ee9-4809-8a5c-71200d9f1c86",
   "metadata": {},
   "outputs": [
    {
     "data": {
      "text/plain": [
       "9"
      ]
     },
     "execution_count": 13,
     "metadata": {},
     "output_type": "execute_result"
    }
   ],
   "source": [
    "## add a harmonic biasing potential on butane dihedral to the OpenMM system\n",
    "\n",
    "#Define the equation\n",
    "bias_bond = omm.CustomBondForce(\"0.5*k*(r-r0)^2\")\n",
    "\n",
    "#Set parameters\n",
    "bias_bond.addGlobalParameter(\"k\", 1.0)\n",
    "bias_bond.addGlobalParameter(\"r0\", 0.0) # Initial value of the distance\n",
    "\n",
    "#Define the bond\n",
    "bias_bond.addBond(0, 1) #Here you would have to put the atoms you will be adding the bond to\n",
    "\n",
    "#We add it to the system \n",
    "system.addForce(bias_bond)"
   ]
  },
  {
   "cell_type": "markdown",
   "id": "ba1d3618-ee67-45d4-8a21-490461b90126",
   "metadata": {},
   "source": [
    "### Saving the system for the next step"
   ]
  },
  {
   "cell_type": "markdown",
   "id": "23fd5265-ec9f-48ae-bc9e-19f9f62ecbb0",
   "metadata": {},
   "source": [
    "Now that all is set up, we can save the file in a readble format. This will be in an XML formated text file, which can be used or re-read at any point later. You can open the file to see how the information is structured for yourself. "
   ]
  },
  {
   "cell_type": "code",
   "execution_count": 14,
   "id": "f2cacd03-0f82-4f30-a360-2bff9648ae64",
   "metadata": {},
   "outputs": [],
   "source": [
    "## save the OpenMM system\n",
    "with open(\"output_files/NaCl_solvated_system\", 'w') as file_handle:\n",
    "    file_handle.write(omm.XmlSerializer.serialize(system))"
   ]
  },
  {
   "cell_type": "markdown",
   "id": "83eadf5d-8909-4440-88bc-76b70f7546c9",
   "metadata": {},
   "source": [
    "-------"
   ]
  },
  {
   "cell_type": "markdown",
   "id": "9f356098-5ec5-4a97-88cb-cb746d6f2eb3",
   "metadata": {},
   "source": [
    "## Optional tasks"
   ]
  },
  {
   "cell_type": "markdown",
   "id": "a9c6bc58-656f-4cb3-974f-472f52dbaac5",
   "metadata": {},
   "source": [
    "We recommend if time allows, or at home, to try the following:\n"
   ]
  },
  {
   "cell_type": "code",
   "execution_count": null,
   "id": "f304046b-fb04-48d3-9b6f-da2780aa2cc6",
   "metadata": {},
   "outputs": [],
   "source": []
  }
 ],
 "metadata": {
  "kernelspec": {
   "display_name": "Python 3 (ipykernel)",
   "language": "python",
   "name": "python3"
  },
  "language_info": {
   "codemirror_mode": {
    "name": "ipython",
    "version": 3
   },
   "file_extension": ".py",
   "mimetype": "text/x-python",
   "name": "python",
   "nbconvert_exporter": "python",
   "pygments_lexer": "ipython3",
   "version": "3.7.12"
  }
 },
 "nbformat": 4,
 "nbformat_minor": 5
}
