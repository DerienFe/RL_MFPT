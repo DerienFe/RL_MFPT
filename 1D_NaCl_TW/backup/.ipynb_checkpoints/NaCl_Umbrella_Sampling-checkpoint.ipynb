{
 "cells": [
  {
   "cell_type": "markdown",
   "id": "e9478275",
   "metadata": {
    "tags": []
   },
   "source": [
    "# 1.1 Setting up the system for OpenMM (NaCl)"
   ]
  },
  {
   "cell_type": "markdown",
   "id": "190b076c-fa72-413c-9f21-4584ea0ceed4",
   "metadata": {
    "tags": []
   },
   "source": [
    "## Imports"
   ]
  },
  {
   "cell_type": "code",
   "execution_count": null,
   "id": "8e0b1f25-300e-4525-aa65-5f3edcd5fad4",
   "metadata": {},
   "outputs": [],
   "source": [
    "## import required packages\n",
    "import sys\n",
    "import time\n",
    "import numpy as np\n",
    "import matplotlib.pyplot as plt\n",
    "import openmm.app as omm_app\n",
    "import openmm as omm\n",
    "import openmm.unit as unit\n",
    "from tqdm.notebook import tqdm_notebook\n",
    "import mdtraj\n",
    "sys.path.append(\"..\")"
   ]
  },
  {
   "cell_type": "markdown",
   "id": "13550b68-5bac-40a0-915f-a7f7388f4b5e",
   "metadata": {
    "tags": []
   },
   "source": [
    "### Aims of this Notebook"
   ]
  },
  {
   "cell_type": "markdown",
   "id": "93a2a515-78fa-45a6-851f-675669308af3",
   "metadata": {},
   "source": [
    "This is an example notebook on how to set up a simulation system using the OpenMM suite from given CHARMM-GUI input topology and parameter files.\n",
    "\n",
    "You will learn how to:\n",
    "1. Read in topology files (CHARMM psf and pdb) for a simulation\n",
    "2. Read in the set of CHARMM parameters provided\n",
    "3. Create and save the OpenMM system for simulation. \n",
    "4. Add a custom bias with a harmonic potential We will learn this on a test system of a Na<sup>+</sup> Cl<sup>-</sup> complex in water which has already been processed by CHARMM-GUI into an OpenMM compatible format. We will be sampling the dissociation of the ions, and will try to reconstruct the free energy profile from the resulting simulations. In order to sample more efficiently we will use the umbrella sampling method to bias the distance between the ionic complex."
   ]
  },
  {
   "cell_type": "markdown",
   "id": "865e5334-1a08-416e-9d77-9cb95322e58f",
   "metadata": {
    "tags": []
   },
   "source": [
    "## Introduction"
   ]
  },
  {
   "cell_type": "markdown",
   "id": "a2663b0e-42bf-4025-b22a-6e562599930a",
   "metadata": {
    "tags": []
   },
   "source": [
    "### Simulating NaCl in water\n",
    "\n",
    "For the purpose of this workshop, we used standard parameters for a Na<sup>+</sup> Cl<sup>-</sup> complex from a PDB crystal structure, and then solvated the system and generated the necessary simulation files using CHARMM-GUI (topology and parameters which can be found under the `toppar/` folder). We will be using CHARMM36m as our Force Field.\n",
    "If you are interested on generating your own parameters for your system using CHARMM-GUI you can find videos/demos and help [here](https://www.charmm-gui.org/?doc=demo)."
   ]
  },
  {
   "cell_type": "markdown",
   "id": "3c9af286-736a-4d61-a2c8-da5a03549e3d",
   "metadata": {},
   "source": [
    "**Our simulated system looks like this:**"
   ]
  },
  {
   "cell_type": "markdown",
   "id": "886e8ad0-0f49-4035-9ab2-db8909f6b53d",
   "metadata": {},
   "source": [
    "<center>\n",
    "<img src=\"images/solvated_system.png\" alt=\"NaCl\" width=\"500\"/>\n",
    "</center>"
   ]
  },
  {
   "cell_type": "markdown",
   "id": "89469c77-a9b5-4213-94f6-99a41721e84c",
   "metadata": {},
   "source": [
    "------"
   ]
  },
  {
   "cell_type": "markdown",
   "id": "282aec33-526d-4343-8760-8dd38033a320",
   "metadata": {
    "tags": []
   },
   "source": [
    "## Hands-on Code"
   ]
  },
  {
   "cell_type": "markdown",
   "id": "1156900f-1b12-4a05-b716-48a148e7f14d",
   "metadata": {
    "tags": []
   },
   "source": [
    "### System creation"
   ]
  },
  {
   "cell_type": "markdown",
   "id": "4831d0ae-9291-4c7c-80d9-5d5bcd3c37e3",
   "metadata": {},
   "source": [
    "We first import the necessary `psf/pdb` files with the topology info to be able to look up the atom parameters in the force field."
   ]
  },
  {
   "cell_type": "code",
   "execution_count": null,
   "id": "e2de3ee8-4d97-4e0a-8cc6-bd30397ed13d",
   "metadata": {},
   "outputs": [],
   "source": [
    "psf_file = 'toppar/step3_input.psf' # Path\n",
    "pdb_file = 'toppar/step3_input.pdb' # Path"
   ]
  },
  {
   "cell_type": "markdown",
   "id": "529a6ec1-7126-4b29-b6ea-dac03e8e962d",
   "metadata": {},
   "source": [
    "OpenMM has specific functions that read in what is necessary from the files:"
   ]
  },
  {
   "cell_type": "code",
   "execution_count": null,
   "id": "7b53aa52-014d-4a91-92d1-a353cc8e9f26",
   "metadata": {},
   "outputs": [],
   "source": [
    "psf = omm_app.CharmmPsfFile(psf_file)\n",
    "pdb = omm_app.PDBFile(pdb_file)"
   ]
  },
  {
   "cell_type": "markdown",
   "id": "a23283b7-f2b6-4a87-bf08-382e77a37874",
   "metadata": {},
   "source": [
    "From the `toppar/` folder we read the parameter file which containts the force filed parameters for our 2 ions (Na<sup>+</sup> and Cl<sup>-</sup>) and the TIP3 water model we are using."
   ]
  },
  {
   "cell_type": "code",
   "execution_count": null,
   "id": "ce1e302b-2877-41ef-ae91-23881ab38bf1",
   "metadata": {},
   "outputs": [],
   "source": [
    "params = omm_app.CharmmParameterSet('toppar/toppar_water_ions.str')"
   ]
  },
  {
   "cell_type": "markdown",
   "id": "0e25a4ec-7c73-4323-bb14-73282f67217d",
   "metadata": {},
   "source": [
    "Once everything necessary is defined, we can create the system to simulate in OpenMM:"
   ]
  },
  {
   "cell_type": "code",
   "execution_count": null,
   "id": "1e0013a9-cbd5-41a1-9926-7e8cebeb8e0a",
   "metadata": {},
   "outputs": [],
   "source": [
    "## Create an OpenMM system\n",
    "system = psf.createSystem(params)"
   ]
  },
  {
   "cell_type": "markdown",
   "id": "6f5caed5-ab98-49b1-9d41-1b0b57b8ca88",
   "metadata": {
    "tags": []
   },
   "source": [
    "### Defining the biasing potential"
   ]
  },
  {
   "cell_type": "markdown",
   "id": "588aea9b-40c7-476e-9377-7f5ec696e05f",
   "metadata": {},
   "source": [
    "Now that we have our system we can add our custom bias to it in order to .\n",
    "\n",
    "In this case since we want to quickly see the dissociation of NaCl, for that, we will be biasing the distance between our two complexed ions. \n",
    "\n",
    "The most common bias for separating them is a harmonic biasing potential. All we need to do is tell OpenMM the formula of the biasing potential and the degree of freedom we want to add the biasing potential to.\n",
    " The general formula for a harmonic bias potential is:\n",
    "\n",
    "$$\n",
    "  U_{i} = k_{i}(r - r_{o})^2\n",
    "$$Where $k_i$ is the force constant associated with the bias, and $r$ and $r_0$ are the current and initial values of the biased degree of freedom respectively."
   ]
  },
  {
   "cell_type": "code",
   "execution_count": null,
   "id": "72658d51-0715-4596-b364-1a91111717f4",
   "metadata": {},
   "outputs": [],
   "source": [
    "## add a harmonic biasing potential on Na - Cl distance to the OpenMM system\n",
    "\n",
    "# Define the equation\n",
    "bias_bond = omm.CustomBondForce(\"0.5*k*(r-r0)^2\")\n",
    "\n",
    "# Initialize parameters, these will be later set\n",
    "bias_bond.addGlobalParameter(\"k\", 1.0)  # Force constant in kJ/(mol*nm^2)\n",
    "bias_bond.addGlobalParameter(\"r0\", 0.0) # Optimal value of the distance in nm\n",
    "\n",
    "# Define the bond\n",
    "bias_bond.addBond(0, 1) # Here you would have to put the atoms you will be adding the bond to\n",
    "\n",
    "# We add it to the system\n",
    "system.addForce(bias_bond)"
   ]
  },
  {
   "cell_type": "markdown",
   "id": "78c5de93-2371-4d52-9426-36c6ec22ed1b",
   "metadata": {},
   "source": [
    "### Saving the system for the next step"
   ]
  },
  {
   "cell_type": "markdown",
   "id": "c69eae20-7164-4f40-9499-10ad6f2394ef",
   "metadata": {},
   "source": [
    "Now that all is set up, we can save the file in a readable format. This will be in an XML formated text file, which can be used or re-read at any point later. You can open the file to see how the information is structured for yourself. "
   ]
  },
  {
   "cell_type": "code",
   "execution_count": null,
   "id": "60967cbe-2b43-4008-8888-1ac96058a012",
   "metadata": {},
   "outputs": [],
   "source": [
    "## save the OpenMM system\n",
    "with open(\"output_files/NaCl_solvated_system\", 'w') as file_handle:\n",
    "    file_handle.write(omm.XmlSerializer.serialize(system))"
   ]
  },
  {
   "cell_type": "markdown",
   "id": "20ced882-ba7d-4d2d-a32c-5142e64e829b",
   "metadata": {},
   "source": [
    "-------"
   ]
  },
  {
   "cell_type": "markdown",
   "id": "99fa0049-a962-4266-826f-98526337b98b",
   "metadata": {
    "tags": []
   },
   "source": [
    "# 1.2 Running Umbrella Sampling on NaCl"
   ]
  },
  {
   "cell_type": "markdown",
   "id": "3e9ecb5c-907a-4d35-9cff-fba80c2a08c6",
   "metadata": {
    "tags": []
   },
   "source": [
    "## Introduction"
   ]
  },
  {
   "cell_type": "markdown",
   "id": "adc546b4-d307-4279-9d6c-68806713fea0",
   "metadata": {},
   "source": [
    "In **umbrella sampling**, the reaction coordinate (or collective variable, CV) which we want to sample is split into multiple windows and in each window, the CV (an atomic distance in our NaCl example) is restrained around each centre using a (harmonic) biasing potential. We will run simulations in each window sequentially, but of course they can run in parallel in your typical workstation."
   ]
  },
  {
   "cell_type": "markdown",
   "id": "4ad67572-5d6b-46be-8b62-d899cbec4682",
   "metadata": {},
   "source": [
    "<center>\n",
    "<img src=\"images/US.jpg\" alt=\"NaCl\" width=\"500\"/>\n",
    "</center>"
   ]
  },
  {
   "cell_type": "markdown",
   "id": "8a3cfc0e-d673-4f6f-b31f-3b5b4004e2d1",
   "metadata": {},
   "source": [
    "**Note:** From this production, the data we will get will be **biased**. in order to be able to get back any kinetics or a correct free energy profile, we will need to unbias it, which is explained in section 1.4."
   ]
  },
  {
   "cell_type": "markdown",
   "id": "2809b09f-fb74-4f83-9ff0-d51904419898",
   "metadata": {},
   "source": [
    "-------"
   ]
  },
  {
   "cell_type": "markdown",
   "id": "db955f2d-7922-4ffd-bbca-e904bd07d528",
   "metadata": {
    "tags": []
   },
   "source": [
    "## Hands-on Code"
   ]
  },
  {
   "cell_type": "markdown",
   "id": "8eebf390-b227-479d-a37b-2aa07c5e9ea1",
   "metadata": {},
   "source": [
    "### Setting up the OpenMM context for simulation"
   ]
  },
  {
   "cell_type": "markdown",
   "id": "df905368-8903-405f-873d-e0d7636beafc",
   "metadata": {},
   "source": [
    "To run our simulations we need to construct an OpenMM **context**, which needs a **system**, an **integrator** and a **platform**. Here we will use Langevin Dynamics for NVT ensemble simulation. The platform specifies on what kind of hardware we will run the simulations."
   ]
  },
  {
   "cell_type": "code",
   "execution_count": null,
   "id": "e101f814-8306-4885-8a00-7f927ab16cef",
   "metadata": {},
   "outputs": [],
   "source": [
    "## reading in the OpenMM system we created\n",
    "with open(\"output_files/NaCl_solvated_system\", 'r') as file_handle:\n",
    "    xml = file_handle.read()\n",
    "system = omm.XmlSerializer.deserialize(xml)"
   ]
  },
  {
   "cell_type": "markdown",
   "id": "b07a6092-1ee0-4862-8c1d-30c4b0c6246d",
   "metadata": {},
   "source": [
    "OpenMM works with multiple computer architectures. By [default](http://docs.openmm.org/7.7.0/userguide/application/02_running_sims.html#platforms), it selects the optimal.\n",
    "In this case you need to specify the platform using the commented lines of code below. The CPU option should work on every computer, but if you can, try out CUDA or OpenCL for GPU speeds."
   ]
  },
  {
   "cell_type": "code",
   "execution_count": null,
   "id": "625329e1-5e28-49d1-ae8f-a8b6f26eac9d",
   "metadata": {},
   "outputs": [],
   "source": [
    "# Setting up the platform\n",
    "\n",
    "# platform = omm.Platform.getPlatformByName('CUDA')     # If you have GPU try this\n",
    "# platform = omm.Platform.getPlatformByName('OpenCL')   # Or this one, if the preivous does not work\n",
    "# platform = omm.Platform.getPlatformByName('CPU')      # Try first using CUDA or OpenCL it is way faster"
   ]
  },
  {
   "cell_type": "markdown",
   "id": "19bd70da-683e-4f9d-8546-8d19d267077d",
   "metadata": {},
   "source": [
    "Now we set up all simulation-related parameters to ready up the context for our simulations"
   ]
  },
  {
   "cell_type": "code",
   "execution_count": null,
   "id": "28909c76-76e7-4542-90ce-018a28b4e247",
   "metadata": {},
   "outputs": [],
   "source": [
    "#### setup an OpenMM context\n",
    "\n",
    "T = 298.15      # temperature in K\n",
    "fricCoef = 10   # friction coefficient in 1/ps\n",
    "stepsize = 2    # integration step size in fs\n",
    "dcdfreq = 100   # save coordinates at every 100 step\n",
    "steps = 100000  # total steps\n",
    "\n",
    "integrator = omm.LangevinIntegrator(T*unit.kelvin, #Desired Integrator\n",
    "                                    fricCoef/unit.picoseconds,\n",
    "                                    stepsize*unit.femtoseconds) \n",
    "## construct an OpenMM context\n",
    "context = omm.Context(system, integrator)   # you may pass platform as a third positional argument"
   ]
  },
  {
   "cell_type": "markdown",
   "id": "bbf70034-9c52-473c-b800-7c3e22bd0f46",
   "metadata": {},
   "source": [
    "### Placing the umbrellas "
   ]
  },
  {
   "cell_type": "markdown",
   "id": "d4c191e9-82e7-4228-94be-f51c36a1aab2",
   "metadata": {},
   "source": [
    "We will place the different umbrella centers in equidistantly spaced points. However, the umbrellas could also be placed geometrically, if an uneven potential requires more sampling in a certain region."
   ]
  },
  {
   "cell_type": "code",
   "execution_count": null,
   "id": "39dcf85e-64cb-4c96-b355-0dcbef990f47",
   "metadata": {},
   "outputs": [],
   "source": [
    "M = 10          # number of windows\n",
    "start = 0.25    # First center (in nm)\n",
    "end = 0.7       # Stop before this distance (in nm)\n",
    "\n",
    "# Setting the centers for the umbrellas we'll use\n",
    "umbrella_centers = np.linspace(start, end, M, endpoint=False)\n",
    "\n",
    "# We will save the centers in a .csv for when we need to check it\n",
    "np.savetxt(\"output_files/bias.csv\", umbrella_centers, delimiter = \",\")"
   ]
  },
  {
   "cell_type": "code",
   "execution_count": null,
   "id": "ec7d429e-7420-477a-a8e5-0df2ecc4bd93",
   "metadata": {},
   "outputs": [],
   "source": [
    "# Here you can plot at which distance each umbrella will be placed for each window\n",
    "plt.plot(range(M), umbrella_centers, \"o\")\n",
    "plt.ylabel(\"Distance (nm)\")\n",
    "plt.xlabel(\"Window (#)\")\n",
    "plt.savefig(\"images/lin_spaced_windows.png\")"
   ]
  },
  {
   "cell_type": "markdown",
   "id": "7f6baef2-c4aa-4092-82b0-d601dddcad64",
   "metadata": {},
   "source": [
    "The points in the plot show at which distance each of the potentials is going to be placed. \n",
    "\n",
    "Now that the centers for the harmonic biasing potentials are defined, let's give the force constant a value for biasing the Na-Cl distance. "
   ]
  },
  {
   "cell_type": "code",
   "execution_count": null,
   "id": "98059c7f-957f-47ed-b340-0fed0931fa27",
   "metadata": {},
   "outputs": [],
   "source": [
    "# set force constant K for the biasing potential. \n",
    "# the unit here is kJ*mol^{-1}*nm^{-2}, which is the default unit used in OpenMM\n",
    "K = 25000 * unit.kilojoules_per_mole / ((unit.nano * unit.meter)**2)  # This is app. 60 kcal/(mol*A^2)\n",
    "context.setParameter(\"k\", K)"
   ]
  },
  {
   "cell_type": "markdown",
   "id": "5855fac5-a5ff-4b6f-a616-7cc2a13b1dc1",
   "metadata": {
    "tags": []
   },
   "source": [
    "### Running the umbrella sampling"
   ]
  },
  {
   "cell_type": "markdown",
   "id": "818c61b5-b0eb-4d96-a16e-023e0494cc6b",
   "metadata": {},
   "source": [
    "For running the simulations we will have to create a loop iterating the umbrellas by window _M_, each configuration is minimized and equilibrated with the biasing potential and after that they are sampled and saved."
   ]
  },
  {
   "cell_type": "code",
   "execution_count": null,
   "id": "87c1f047-1baf-44ce-a8ac-27ae445db736",
   "metadata": {},
   "outputs": [],
   "source": [
    "# The main loop to run umbrella sampling window by window\n",
    "st = time.time()\n",
    "\n",
    "for window in range(M):\n",
    "    s = time.time()\n",
    "    print(f\"Sampling at window: {window+1} out of {M}\")\n",
    "\n",
    "    # Set the center of the biasing potential for each window\n",
    "    context.setParameter(\"r0\", umbrella_centers[window]  * (unit.nano * unit.meter))\n",
    "\n",
    "    # Minimizing step\n",
    "    context.setPositions(pdb.positions)\n",
    "    state = context.getState(getEnergy = True)\n",
    "    energy = state.getPotentialEnergy()\n",
    "\n",
    "    for i in tqdm_notebook(range(50), desc=\"Minimization Win {}\".format(window+1)):\n",
    "        omm.LocalEnergyMinimizer_minimize(context, 1, 20)\n",
    "        state = context.getState(getEnergy = True)\n",
    "        energy = state.getPotentialEnergy()\n",
    "\n",
    "    print(\"Minimization in:\", str(time.time() - s), \"seconds\")\n",
    "    s = time.time()\n",
    "\n",
    "    # Initial equilibration step\n",
    "    integrator.step(500)\n",
    "\n",
    "    print(\"Equilibration in:\", str(time.time() - s), \"seconds\")\n",
    "    s = time.time()\n",
    "\n",
    "    # Sampling production. trajectories are saved in dcd files\n",
    "    file_handle = open(f\"trajectories/traj_win{window+1}_US.dcd\", 'bw')\n",
    "    dcd_file = omm_app.dcdfile.DCDFile(file_handle, psf.topology, dt = stepsize)\n",
    "    for i in tqdm_notebook(range(int(steps/dcdfreq)), desc=\"Production\"):\n",
    "        integrator.step(dcdfreq)\n",
    "        state = context.getState(getPositions = True)\n",
    "        positions = state.getPositions()\n",
    "        dcd_file.writeModel(positions)\n",
    "    file_handle.close()\n",
    "\n",
    "    print(\"Production Run done in:\", str(time.time() - s), \"seconds\")"
   ]
  },
  {
   "cell_type": "markdown",
   "id": "36e4ba04-5aff-43ec-bf14-715d462e8ecf",
   "metadata": {},
   "source": [
    "Once the simulations have finished, we will have the corresponding trajectories in the `trajectories/` folder for further analysis. Our next step is to calculate the RC obtained for each window.\n"
   ]
  },
  {
   "cell_type": "markdown",
   "id": "7629c524-85b1-45b0-b777-7efa2c319623",
   "metadata": {
    "tags": []
   },
   "source": [
    "-------"
   ]
  },
  {
   "cell_type": "markdown",
   "id": "c90716cf-b5b9-4afa-b3d4-494bd1e9b1a6",
   "metadata": {
    "tags": []
   },
   "source": [
    "## Optional tasks"
   ]
  },
  {
   "cell_type": "markdown",
   "id": "57316e23-29b0-46c2-ac75-aa5a2cea8c46",
   "metadata": {},
   "source": [
    "\n",
    "We recommend if time allows, or at home, to try the following:\n",
    "- Try changing the number of umbrellas. How does it affect the obtained free energy profile?.\n",
    "<!-- ***Answer:*** A very small number of umbrellas will make your windows very spread and sample very little, whereas having too many umbrellas is computationally expensive.-->\n",
    "- Try also changing the spacing of windows (np.linspace). How is the sampling affecting the free energy profile?.\n",
    "<!-- ***Answer:*** Having an even sampling is helpful to easily sample the whole space, but sometimes a part can be more valuable than the rest and you might want to place more umbrellas.-->\n",
    "- Try modifying the force constant (K) to different values. How does it affect the sampling?.\n",
    "<!-- ***Answer:*** High values will restrict the sampling to a very limited area, thus having no overlap between windows. A very low value will allow the windows to sample all configurations with too much overlap between the windows.-->"
   ]
  },
  {
   "cell_type": "markdown",
   "id": "94b78ca6-69f7-45b3-bfc4-3987c192ca38",
   "metadata": {
    "tags": []
   },
   "source": [
    "# 1.3 Computing the biased CVs"
   ]
  },
  {
   "cell_type": "markdown",
   "id": "e7b732e4-cb36-4b85-83b4-4b8b02ff09d8",
   "metadata": {
    "tags": []
   },
   "source": [
    "## Introduction"
   ]
  },
  {
   "cell_type": "markdown",
   "id": "cd9b8b9d-96cc-414f-955b-bacb8ad7d452",
   "metadata": {},
   "source": [
    "After running the umbrella sampling on the NaCl complex we will have to calculate their distance at each of the windows/trajectories generated in order to reconstruct the free energy profile of the dissociation in water. In our case the reaction coordinate (RC) of the process is the interatomic distance between Na and Cl. For this we will use the mdtraj module which quickly loads the trajectory and calculates the distances for the atoms we specify."
   ]
  },
  {
   "cell_type": "markdown",
   "id": "231d237c-013f-45ce-8097-c46c1386a55c",
   "metadata": {},
   "source": [
    "<center>\n",
    "<img src=\"images/dissociation.png\" alt=\"NaCl\" width=\"500\"/>\n",
    "</center>"
   ]
  },
  {
   "cell_type": "markdown",
   "id": "8b9321ab-e57b-4966-93fc-54a119ee88ad",
   "metadata": {},
   "source": [
    "-------"
   ]
  },
  {
   "cell_type": "markdown",
   "id": "aa0dd5f0-f649-485e-95a5-6eb7ed3d388c",
   "metadata": {
    "tags": []
   },
   "source": [
    "## Hands-on Code"
   ]
  },
  {
   "cell_type": "markdown",
   "id": "2f15b7c0-542b-4189-87d4-c6865e87bf28",
   "metadata": {
    "tags": []
   },
   "source": [
    "### Loading trajectory and calculating distances"
   ]
  },
  {
   "cell_type": "markdown",
   "id": "742e5b68-de99-414f-a7fb-ad9ead455384",
   "metadata": {},
   "source": [
    "In order for mdtraj to calculate the distances we need to specify the topology for the `.dcd` file we saved. Additionally, we will have to provide the atom index for the atoms we want to calculate the distance of. In our case 0 and 1 (python indexing based) are the relevant atoms. Then we will save the data in a `.csv` file for later analysis with the unbiasing tools to recover the profiles."
   ]
  },
  {
   "cell_type": "code",
   "execution_count": null,
   "id": "3f79296d-bbe1-48b6-8116-3ebffbd8b044",
   "metadata": {},
   "outputs": [],
   "source": [
    "#Depending on the number of umbrellas we used we will have the same trajectories\n",
    "all_dists = []\n",
    "for window in range(M):\n",
    "    try:\n",
    "        topology = mdtraj.load_psf('toppar/step3_input.psf')\n",
    "        traj = mdtraj.load_dcd(f\"trajectories/traj_win{window+1}_US.dcd\", topology)\n",
    "    except OSError:\n",
    "        topology = mdtraj.load('trajectories/long_traj/topology_clean.pdb')\n",
    "        traj = mdtraj.load_dcd(f\"trajectories/long_traj/traj_win{window+1}_US_clean.dcd\", topology)\n",
    "    dist = mdtraj.compute_distances(traj, [[0, 1]]) # Calculate distance\n",
    "    np.savetxt(f\"output_files/dist_win_{window+1}.csv\", dist, fmt = \"%.5f\", delimiter = \",\")    # Save them for later analysis\n",
    "    all_dists.append(dist.T[0])     # Append to the list\n",
    "    \n",
    "all_dists = np.array(all_dists) * 10    # We multiply by 10 so it's in Angstroms when we plot them"
   ]
  },
  {
   "cell_type": "markdown",
   "id": "2ea161b4-90aa-4146-987f-a4ba5d42e402",
   "metadata": {},
   "source": [
    "After calculating the distances, we'll make a few checks to see if the sampled datapoints are correct and if they sample the space."
   ]
  },
  {
   "cell_type": "code",
   "execution_count": null,
   "id": "3c6450a8-61a1-4adf-86a8-d0e54c8d7b25",
   "metadata": {},
   "outputs": [],
   "source": [
    "t = np.arange(0, all_dists.shape[1] * dcdfreq * stepsize, dcdfreq * stepsize) * unit.femtosecond_base_unit.conversion_factor_to(unit.nano * unit.second_base_unit)\n",
    "plt.title(\"Sampled Values\")\n",
    "for window in range(M):\n",
    "    plt.plot(t, all_dists[window], label=f\"Win {window+1}\")\n",
    "plt.legend()\n",
    "plt.ylabel(\"Distance (Å)\")\n",
    "plt.xlabel(\"Time (ns)\")"
   ]
  },
  {
   "cell_type": "markdown",
   "id": "73ed61c3-09ab-4787-af13-081aee3e834d",
   "metadata": {},
   "source": [
    "As seen previously the windows sample throughout the RC space, from 2 Å up to 7 Å the endpoint of our umbrella centers. We see some overlapping, but we want to see how well the windows overlap, otherwise the space in between could not be sampled enough to give a good free energy estimation."
   ]
  },
  {
   "cell_type": "code",
   "execution_count": null,
   "id": "7b98a157-c35b-4d33-aecb-d3bd00cf5a2e",
   "metadata": {},
   "outputs": [],
   "source": [
    "plt.title(\"Sampled Distance\")\n",
    "for n, dist in enumerate(all_dists):\n",
    "    counts, bins, _ = plt.hist(dist, bins=50, density=True, alpha=0.5, color=f\"C{n}\")\n",
    "    plt.plot(bins[:-1], counts, c=f\"C{n}\")\n",
    "plt.ylabel(\"PDF\")\n",
    "plt.xlabel(\"Distance (Å)\")"
   ]
  },
  {
   "cell_type": "markdown",
   "id": "56e8c548-96f0-4a7e-a606-e69f620b6153",
   "metadata": {},
   "source": [
    "You can nicely see how each umbrella window has sampled a region of the RC and you see more centers have been placed between 2 Å and 4 Å, which is the region where the energy barrier of the dissociation can be found.\n",
    "We can plot the resulting sampled histogram for all trajectories to see what its profile looks like"
   ]
  },
  {
   "cell_type": "code",
   "execution_count": null,
   "id": "b2b86505-0f8d-4c2c-a817-ecb93ded304c",
   "metadata": {},
   "outputs": [],
   "source": [
    "plt.title(\"Sampled Distance\")\n",
    "counts, bins, _ = plt.hist(np.concatenate(all_dists), bins=50, density=True, alpha=0.5)\n",
    "plt.plot(bins[:-1], counts)\n",
    "plt.ylabel(\"PDF\")\n",
    "plt.xlabel(\"Distance (Å)\")"
   ]
  },
  {
   "cell_type": "markdown",
   "id": "aaa464ca-0342-4e8a-99d4-53f658d9e151",
   "metadata": {},
   "source": [
    "*NOTE*: If the data were to be unbiased, we could have tried to simply construct the profile from the resulting histogram.Clearly, the profile resembles a dissociation, and we did sample throughout the RC, but the umbrellas influence on the final histogramcan be seen from here..."
   ]
  },
  {
   "cell_type": "markdown",
   "id": "2b4333c9-57f5-46ac-a7c7-ef78a8d1cafa",
   "metadata": {},
   "source": [
    "-----"
   ]
  },
  {
   "cell_type": "markdown",
   "id": "2142911b-f8ec-4d4e-adc8-ce5f76d5c2ed",
   "metadata": {
    "tags": []
   },
   "source": [
    "## Optional tasks"
   ]
  },
  {
   "cell_type": "markdown",
   "id": "53807891-94e8-4e78-9392-962232c4a444",
   "metadata": {},
   "source": [
    "These types of simulation can be compute intensive. There will always be a desire to try and solve the problem, to an acceptable accuracy, using as few, and/or as short, simulations as possible. We recommend if time allows, or at home, to try the following to simulate this:\n",
    "- Try generating the histograms with less data using `all_dists[start:end]` i.e. `all_dists[0:500]` or striding the data `all_dists[::10]`."
   ]
  },
  {
   "cell_type": "markdown",
   "id": "1e0767ac-6ab4-4895-a863-fe8eca0a0797",
   "metadata": {
    "tags": []
   },
   "source": [
    "# 1.4 Unbiasing the data"
   ]
  },
  {
   "cell_type": "markdown",
   "id": "a24fc132-34e6-499b-9fe3-c7f6629ed023",
   "metadata": {},
   "source": [
    "## Weighted Histogram Analysis Method (WHAM)"
   ]
  },
  {
   "cell_type": "markdown",
   "id": "e0757c87",
   "metadata": {},
   "source": [
    "The Weighted Histogram Analysis Method [(WHAM)](http://doi.org/10.1002/jcc.540130812) can be used to recover the unbiased potential. WHAM expresses the probability of finding the system in certain bins by using the probabilities obtained at the biased potential. As the width of the bins approach zero, the formalism converges to the equation of Multistate Bennett Acceptance Ratio [(MBAR)](http://doi.org/10.1063/1.2978177). The free energy then takes the following form:\n",
    "\n",
    "$\n",
    "F_i = -\\frac{1}{kT} \\ln\\left(\\sum_{j=1}^S\\sum_{n=1}^{N_j} \\frac{\\exp\\left(-\\frac{V_i(x_{jn})}{kT}\\right)}{\\sum_{k=1}^S N_k \\exp\\left(\\frac{F_k-V_k(x_{jn})}{kT}\\right)} \\right)\n",
    "$\n",
    "\n",
    "where $N_k$ is the sample size of simulation $k$; $V_i(x_j)$ is the biasing potential; $k$ is the Boltzmann constant; $T$ is the temperature.\n",
    "\n",
    "This formalism implies a self-consistent solution, which if provided in a utility script. We can use the data extracted in the previous step, of load it again."
   ]
  },
  {
   "cell_type": "code",
   "execution_count": null,
   "id": "b6fb06a5-5936-4e20-8636-41c31f870dab",
   "metadata": {},
   "outputs": [],
   "source": [
    "# read distance values from the umbrella sampling if not in memory\n",
    "try:\n",
    "    if len(all_dists.shape) == 2: pass\n",
    "except NameError:\n",
    "    all_dists = []\n",
    "    for window in range(M):\n",
    "        dist = np.loadtxt(f\"output_files/dist_win_{window+1}.csv\", delimiter = \",\")\n",
    "        all_dists.append(dist*10) # We convert them to Angstroms\n",
    "    all_dists = np.array(all_dists)"
   ]
  },
  {
   "cell_type": "markdown",
   "id": "31748588",
   "metadata": {},
   "source": [
    "We need to prepare the data for the WHAM implementation. The values of the colvars (short for \"collective variables\" - in this case a single distance) have to be in an 3D array, shaped _(number of sims, points per sims, number of colvars)_ where the last can be omitted if a single variable was biased. Similarly, the force constants and the bias positions have to be in a 2D array, shaped _(number of sims, number of colvars)_ with again the option of ignoring the number of colvars if it is 1.\n",
    "\n",
    "We also need some unit conversion, to go from the openMM base units to the kcal--Å realm."
   ]
  },
  {
   "cell_type": "code",
   "execution_count": null,
   "id": "9c1922bf",
   "metadata": {
    "jupyter": {
     "outputs_hidden": false
    }
   },
   "outputs": [],
   "source": [
    "k_val = [K.value_in_unit(unit.kilocalorie_per_mole / unit.angstrom**2) for _ in range(M)]\n",
    "centers = umbrella_centers * 10 # convert to Angstrom"
   ]
  },
  {
   "cell_type": "code",
   "execution_count": null,
   "id": "3537aa76-98ff-4e06-b6f7-53aa393186f6",
   "metadata": {},
   "outputs": [],
   "source": [
    "from src.wham import WHAM\n",
    "w = WHAM()\n",
    "w.setup(all_dists, T, k_val, centers)\n",
    "w.converge(0.000001)\n",
    "w.project_1d([1], 50)"
   ]
  },
  {
   "cell_type": "markdown",
   "id": "c9f4910f",
   "metadata": {},
   "source": [
    "After the iteration converged, we can reintroduce binning along a selected coordinate. Since we only have one colvar in this example, we give it a weight of 1, and proceed with a moderate 50 bins. We have previously ran for you a very long unbiased MD trajectory, so you can see that with this enhanced sampling method we can get back a pretty accurate profile with much less resources and effort. "
   ]
  },
  {
   "cell_type": "code",
   "execution_count": null,
   "id": "9ef37b81",
   "metadata": {
    "jupyter": {
     "outputs_hidden": false
    }
   },
   "outputs": [],
   "source": [
    "unb_bins, unb_profile = np.load(\"Unbiased_Profile.npy\")"
   ]
  },
  {
   "cell_type": "code",
   "execution_count": null,
   "id": "242d6943-59db-4223-bd48-6027d6099bb0",
   "metadata": {},
   "outputs": [],
   "source": [
    "plt.plot(w.projection_bins, w.profile, label=\"WHAM\")\n",
    "plt.plot(unb_bins, unb_profile, label=\"Unbiased\")\n",
    "plt.xlim(2.4, 6.5)\n",
    "plt.ylabel(\"Free Energy (kcal/mol)\")\n",
    "plt.xlabel(\"Distance (Å)\")\n",
    "plt.legend()"
   ]
  },
  {
   "cell_type": "markdown",
   "id": "459ff985",
   "metadata": {},
   "source": [
    "## Dynamic Histogram Analysis Method (DHAM)"
   ]
  },
  {
   "cell_type": "markdown",
   "id": "24f9cd38",
   "metadata": {},
   "source": [
    "Instead of the probability of being in a certain state, [DHAM](http://doi.org/10.1021/ct500719p) analysis the transitions occurring during the simulation between bins. Based on the transitions histograms, a Markov matrix can be constructed. Solving the eigenvalue problem of the Markov matrix will lead to the equilibrium probabilities in the first eigenvector.\n",
    "\n",
    "DHAM does not require an iterative solution, and it is equivalent to WHAM if the trajectories are uncorrelated. We use it similarly to the WHAM, with a utility class provided. This implementation deals with a single coordinate, hence the required format of the data will be a 2D array shaped _(number of sims, points per sims)_, while the umbrellas are defined in 1D arrays. (Ergo the same arrays we used for WHAM will suffice.)"
   ]
  },
  {
   "cell_type": "code",
   "execution_count": null,
   "id": "4a847273",
   "metadata": {},
   "outputs": [],
   "source": [
    "from src.dham import DHAM\n",
    "d = DHAM()\n",
    "d.setup(all_dists, T, k_val, centers)"
   ]
  },
  {
   "cell_type": "markdown",
   "id": "2d91a630",
   "metadata": {},
   "source": [
    "We can now run a loop of different lagtimes and number of bins and plot the results."
   ]
  },
  {
   "cell_type": "code",
   "execution_count": null,
   "id": "a8cdea05",
   "metadata": {},
   "outputs": [],
   "source": [
    "results = []\n",
    "labels = []\n",
    "for l in [1, 2, 3]:\n",
    "    for n in [60]:\n",
    "        d.lagtime = l\n",
    "        d.numbins = n\n",
    "        results.append(d.run(biased=True, plot=False))\n",
    "        labels.append(\"Lagtime = {0:d}, nbins = {1:d}\".format(l, n))"
   ]
  },
  {
   "cell_type": "code",
   "execution_count": null,
   "id": "97be0024",
   "metadata": {},
   "outputs": [],
   "source": [
    "f, a = plt.subplots()\n",
    "for i in range(len(results)):\n",
    "    a.plot(results[i][0], results[i][1], label=labels[i])\n",
    "plt.xlim(2.4, 6.5)\n",
    "plt.ylabel(\"Free Energy (kcal/mol)\")\n",
    "plt.xlabel(\"Distance (Å)\")\n",
    "plt.legend()"
   ]
  },
  {
   "cell_type": "code",
   "execution_count": null,
   "id": "e2104b5f",
   "metadata": {
    "jupyter": {
     "outputs_hidden": false
    }
   },
   "outputs": [],
   "source": []
  }
 ],
 "metadata": {
  "kernelspec": {
   "display_name": "Python 3 (ipykernel)",
   "language": "python",
   "name": "python3"
  },
  "language_info": {
   "codemirror_mode": {
    "name": "ipython",
    "version": 3
   },
   "file_extension": ".py",
   "mimetype": "text/x-python",
   "name": "python",
   "nbconvert_exporter": "python",
   "pygments_lexer": "ipython3",
   "version": "3.9.15"
  }
 },
 "nbformat": 4,
 "nbformat_minor": 5
}
