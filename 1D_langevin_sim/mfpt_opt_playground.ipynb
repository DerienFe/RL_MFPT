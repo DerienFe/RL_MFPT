{
 "cells": [
  {
   "cell_type": "markdown",
   "metadata": {},
   "source": [
    "# MFPT Optimisation Benchmarking"
   ]
  },
  {
   "cell_type": "code",
   "execution_count": 2,
   "metadata": {},
   "outputs": [],
   "source": [
    "from util_old import Markov_mfpt_calc_jjhunter\n",
    "from scipy.sparse import random,linalg\n",
    "from scipy import eye,diag\n",
    "from scipy.linalg import inv\n",
    "import config"
   ]
  },
  {
   "cell_type": "code",
   "execution_count": 54,
   "metadata": {},
   "outputs": [],
   "source": [
    "MM_sparse = MM_sparse.astype(dtype = np.float64)"
   ]
  },
  {
   "cell_type": "code",
   "execution_count": 4,
   "metadata": {},
   "outputs": [
    {
     "data": {
      "text/plain": [
       "array([[0., 0., 0., ..., 0., 0., 0.],\n",
       "       [0., 0., 0., ..., 0., 0., 0.],\n",
       "       [0., 0., 0., ..., 0., 0., 0.],\n",
       "       ...,\n",
       "       [0., 0., 0., ..., 0., 0., 0.],\n",
       "       [0., 0., 0., ..., 0., 0., 0.],\n",
       "       [0., 0., 0., ..., 0., 0., 0.]], dtype=float128)"
      ]
     },
     "execution_count": 4,
     "metadata": {},
     "output_type": "execute_result"
    }
   ],
   "source": [
    "MM_sparse.toarray() ### run below code to obtain this matrix"
   ]
  },
  {
   "cell_type": "markdown",
   "metadata": {},
   "source": [
    "#### Testing MFPT calc functions:"
   ]
  },
  {
   "cell_type": "code",
   "execution_count": 3,
   "metadata": {},
   "outputs": [],
   "source": [
    "M = random(10000,10000,density = 0.1)"
   ]
  },
  {
   "cell_type": "code",
   "execution_count": 3,
   "metadata": {},
   "outputs": [
    {
     "data": {
      "text/plain": [
       "array([[0.00000000e+00, 0.00000000e+00, 0.00000000e+00, ...,\n",
       "        0.00000000e+00, 0.00000000e+00, 0.00000000e+00],\n",
       "       [0.00000000e+00, 0.00000000e+00, 8.35997066e-01, ...,\n",
       "        0.00000000e+00, 0.00000000e+00, 0.00000000e+00],\n",
       "       [6.42530186e-01, 0.00000000e+00, 0.00000000e+00, ...,\n",
       "        0.00000000e+00, 6.75371364e-04, 4.01847252e-01],\n",
       "       ...,\n",
       "       [3.84817057e-01, 0.00000000e+00, 0.00000000e+00, ...,\n",
       "        5.31113579e-02, 0.00000000e+00, 0.00000000e+00],\n",
       "       [0.00000000e+00, 5.87924133e-01, 0.00000000e+00, ...,\n",
       "        9.02832473e-01, 0.00000000e+00, 0.00000000e+00],\n",
       "       [9.25292982e-01, 0.00000000e+00, 0.00000000e+00, ...,\n",
       "        5.60479910e-01, 0.00000000e+00, 1.12101166e-01]])"
      ]
     },
     "execution_count": 3,
     "metadata": {},
     "output_type": "execute_result"
    }
   ],
   "source": [
    "M.toarray()"
   ]
  },
  {
   "cell_type": "code",
   "execution_count": 4,
   "metadata": {},
   "outputs": [],
   "source": [
    "from util_old import compute_free_energy,compute_fre_energy_sparse, Markov_mfpt_calc_sparse,Markov_mfpt_calc_jjhunter, compute_free_energy_power_method_sparse, Markov_mfpt_calc\n",
    "import numpy as np"
   ]
  },
  {
   "cell_type": "code",
   "execution_count": 5,
   "metadata": {},
   "outputs": [],
   "source": [
    "MM_dense = M.toarray()\n",
    "for i in range(len(MM_dense)):\n",
    "    sum = np.sum(MM_dense[i])\n",
    "    MM_dense[i] = MM_dense[i]/sum"
   ]
  },
  {
   "cell_type": "code",
   "execution_count": 6,
   "metadata": {},
   "outputs": [
    {
     "data": {
      "text/plain": [
       "array([[0.        , 0.        , 0.00063255, ..., 0.        , 0.        ,\n",
       "        0.        ],\n",
       "       [0.        , 0.        , 0.        , ..., 0.        , 0.        ,\n",
       "        0.        ],\n",
       "       [0.        , 0.        , 0.        , ..., 0.        , 0.00165816,\n",
       "        0.        ],\n",
       "       ...,\n",
       "       [0.        , 0.        , 0.        , ..., 0.00191483, 0.        ,\n",
       "        0.        ],\n",
       "       [0.        , 0.        , 0.        , ..., 0.        , 0.        ,\n",
       "        0.00081742],\n",
       "       [0.00142593, 0.        , 0.        , ..., 0.        , 0.        ,\n",
       "        0.        ]])"
      ]
     },
     "execution_count": 6,
     "metadata": {},
     "output_type": "execute_result"
    }
   ],
   "source": [
    "MM_SP = config.csr_matrix(MM_dense)\n",
    "MM_dense"
   ]
  },
  {
   "cell_type": "code",
   "execution_count": 7,
   "metadata": {},
   "outputs": [
    {
     "name": "stdout",
     "output_type": "stream",
     "text": [
      "CPU times: user 32min 3s, sys: 22min 47s, total: 54min 51s\n",
      "Wall time: 4min 16s\n"
     ]
    }
   ],
   "source": [
    "%%time\n",
    "peq = compute_free_energy(MM_dense.T)[0]"
   ]
  },
  {
   "cell_type": "code",
   "execution_count": 8,
   "metadata": {},
   "outputs": [
    {
     "name": "stdout",
     "output_type": "stream",
     "text": [
      "CPU times: user 14min 38s, sys: 38min 57s, total: 53min 36s\n",
      "Wall time: 3min 30s\n"
     ]
    }
   ],
   "source": [
    "%%time\n",
    "peq_SP = compute_fre_energy_sparse(MM_SP.T)[0] ### therefore both functions produce the same result"
   ]
  },
  {
   "cell_type": "code",
   "execution_count": 9,
   "metadata": {},
   "outputs": [
    {
     "name": "stdout",
     "output_type": "stream",
     "text": [
      "CPU times: user 3min 6s, sys: 38.7 s, total: 3min 45s\n",
      "Wall time: 1min 15s\n"
     ]
    }
   ],
   "source": [
    "%%time\n",
    "MFPT1 = Markov_mfpt_calc(peq.T,MM_dense) "
   ]
  },
  {
   "cell_type": "code",
   "execution_count": 14,
   "metadata": {},
   "outputs": [
    {
     "name": "stdout",
     "output_type": "stream",
     "text": [
      "Not enough memory to perform factorization.\n"
     ]
    },
    {
     "ename": "MemoryError",
     "evalue": "",
     "output_type": "error",
     "traceback": [
      "\u001b[0;31m---------------------------------------------------------------------------\u001b[0m",
      "\u001b[0;31mMemoryError\u001b[0m                               Traceback (most recent call last)",
      "File \u001b[0;32m<timed exec>:1\u001b[0m\n",
      "File \u001b[0;32m~/MarkovMastersProject/RL_MFPT/1D_langevin_sim/util_old.py:265\u001b[0m, in \u001b[0;36mMarkov_mfpt_calc_sparse\u001b[0;34m(peq, M)\u001b[0m\n\u001b[1;32m    262\u001b[0m A \u001b[39m=\u001b[39m (peq_new\u001b[39m.\u001b[39mmultiply(onevec\u001b[39m.\u001b[39mT))\u001b[39m.\u001b[39mT\n\u001b[1;32m    263\u001b[0m \u001b[39m#print(M.data)\u001b[39;00m\n\u001b[1;32m    264\u001b[0m \u001b[39m#print(Idn + A - M)\u001b[39;00m\n\u001b[0;32m--> 265\u001b[0m Qinv \u001b[39m=\u001b[39m linalg\u001b[39m.\u001b[39;49minv((Idn \u001b[39m+\u001b[39;49m A \u001b[39m-\u001b[39;49m M)\u001b[39m.\u001b[39;49mastype(\u001b[39m'\u001b[39;49m\u001b[39mfloat64\u001b[39;49m\u001b[39m'\u001b[39;49m))  \u001b[39m# Sparse matrix inversion\u001b[39;00m\n\u001b[1;32m    266\u001b[0m Qinv_diag \u001b[39m=\u001b[39m config\u001b[39m.\u001b[39mcsr_matrix(np\u001b[39m.\u001b[39mtile(Qinv\u001b[39m.\u001b[39mdiagonal(),(Qinv\u001b[39m.\u001b[39mshape[\u001b[39m0\u001b[39m],\u001b[39m1\u001b[39m)))\n\u001b[1;32m    267\u001b[0m term \u001b[39m=\u001b[39m Qinv_diag \u001b[39m-\u001b[39m Qinv \u001b[39m+\u001b[39mIdn\n",
      "File \u001b[0;32m~/miniconda3/envs/biophys_env/lib/python3.11/site-packages/scipy/sparse/linalg/_matfuncs.py:75\u001b[0m, in \u001b[0;36minv\u001b[0;34m(A)\u001b[0m\n\u001b[1;32m     73\u001b[0m \u001b[39m# Use sparse direct solver to solve \"AX = I\" accurately\u001b[39;00m\n\u001b[1;32m     74\u001b[0m I \u001b[39m=\u001b[39m _ident_like(A)\n\u001b[0;32m---> 75\u001b[0m Ainv \u001b[39m=\u001b[39m spsolve(A, I)\n\u001b[1;32m     76\u001b[0m \u001b[39mreturn\u001b[39;00m Ainv\n",
      "File \u001b[0;32m~/miniconda3/envs/biophys_env/lib/python3.11/site-packages/scipy/sparse/linalg/_dsolve/linsolve.py:299\u001b[0m, in \u001b[0;36mspsolve\u001b[0;34m(A, b, permc_spec, use_umfpack)\u001b[0m\n\u001b[1;32m    296\u001b[0m         x \u001b[39m=\u001b[39m x\u001b[39m.\u001b[39mravel()\n\u001b[1;32m    297\u001b[0m \u001b[39melse\u001b[39;00m:\n\u001b[1;32m    298\u001b[0m     \u001b[39m# b is sparse\u001b[39;00m\n\u001b[0;32m--> 299\u001b[0m     Afactsolve \u001b[39m=\u001b[39m factorized(A)\n\u001b[1;32m    301\u001b[0m     \u001b[39mif\u001b[39;00m \u001b[39mnot\u001b[39;00m (b\u001b[39m.\u001b[39mformat \u001b[39m==\u001b[39m \u001b[39m\"\u001b[39m\u001b[39mcsc\u001b[39m\u001b[39m\"\u001b[39m \u001b[39mor\u001b[39;00m is_pydata_spmatrix(b)):\n\u001b[1;32m    302\u001b[0m         warn(\u001b[39m'\u001b[39m\u001b[39mspsolve is more efficient when sparse b \u001b[39m\u001b[39m'\u001b[39m\n\u001b[1;32m    303\u001b[0m              \u001b[39m'\u001b[39m\u001b[39mis in the CSC matrix format\u001b[39m\u001b[39m'\u001b[39m, SparseEfficiencyWarning)\n",
      "File \u001b[0;32m~/miniconda3/envs/biophys_env/lib/python3.11/site-packages/scipy/sparse/linalg/_dsolve/linsolve.py:597\u001b[0m, in \u001b[0;36mfactorized\u001b[0;34m(A)\u001b[0m\n\u001b[1;32m    595\u001b[0m     \u001b[39mreturn\u001b[39;00m solve\n\u001b[1;32m    596\u001b[0m \u001b[39melse\u001b[39;00m:\n\u001b[0;32m--> 597\u001b[0m     \u001b[39mreturn\u001b[39;00m splu(A)\u001b[39m.\u001b[39msolve\n",
      "File \u001b[0;32m~/miniconda3/envs/biophys_env/lib/python3.11/site-packages/scipy/sparse/linalg/_dsolve/linsolve.py:433\u001b[0m, in \u001b[0;36msplu\u001b[0;34m(A, permc_spec, diag_pivot_thresh, relax, panel_size, options)\u001b[0m\n\u001b[1;32m    430\u001b[0m \u001b[39mif\u001b[39;00m (_options[\u001b[39m\"\u001b[39m\u001b[39mColPerm\u001b[39m\u001b[39m\"\u001b[39m] \u001b[39m==\u001b[39m \u001b[39m\"\u001b[39m\u001b[39mNATURAL\u001b[39m\u001b[39m\"\u001b[39m):\n\u001b[1;32m    431\u001b[0m     _options[\u001b[39m\"\u001b[39m\u001b[39mSymmetricMode\u001b[39m\u001b[39m\"\u001b[39m] \u001b[39m=\u001b[39m \u001b[39mTrue\u001b[39;00m\n\u001b[0;32m--> 433\u001b[0m \u001b[39mreturn\u001b[39;00m _superlu\u001b[39m.\u001b[39;49mgstrf(N, A\u001b[39m.\u001b[39;49mnnz, A\u001b[39m.\u001b[39;49mdata, indices, indptr,\n\u001b[1;32m    434\u001b[0m                       csc_construct_func\u001b[39m=\u001b[39;49mcsc_construct_func,\n\u001b[1;32m    435\u001b[0m                       ilu\u001b[39m=\u001b[39;49m\u001b[39mFalse\u001b[39;49;00m, options\u001b[39m=\u001b[39;49m_options)\n",
      "\u001b[0;31mMemoryError\u001b[0m: "
     ]
    }
   ],
   "source": [
    "%%time\n",
    "MFPT2 = Markov_mfpt_calc_sparse(peq.T,MM_SP)"
   ]
  },
  {
   "cell_type": "code",
   "execution_count": 21,
   "metadata": {},
   "outputs": [],
   "source": [
    "M = random(5000,5000,density = 0.1)\n",
    "MM_dense = M.toarray()\n",
    "for i in range(len(MM_dense)):\n",
    "    sum = np.sum(MM_dense[i])\n",
    "    MM_dense[i] = MM_dense[i]/sum\n",
    "MM_SP = config.csr_matrix(MM_dense)\n",
    "peq = compute_free_energy(MM_dense.T)[0]\n"
   ]
  },
  {
   "cell_type": "code",
   "execution_count": 22,
   "metadata": {},
   "outputs": [
    {
     "name": "stdout",
     "output_type": "stream",
     "text": [
      "CPU times: user 29.9 s, sys: 13.2 s, total: 43.1 s\n",
      "Wall time: 15.2 s\n"
     ]
    }
   ],
   "source": [
    "%%time\n",
    "MFPT1 = Markov_mfpt_calc(peq.T,MM_dense) "
   ]
  },
  {
   "cell_type": "code",
   "execution_count": 23,
   "metadata": {},
   "outputs": [
    {
     "name": "stdout",
     "output_type": "stream",
     "text": [
      "CPU times: user 3min 16s, sys: 4min 19s, total: 7min 36s\n",
      "Wall time: 1min 46s\n"
     ]
    }
   ],
   "source": [
    "%%time\n",
    "MFPT2 = Markov_mfpt_calc_sparse(peq.T,MM_SP)"
   ]
  },
  {
   "cell_type": "code",
   "execution_count": 29,
   "metadata": {},
   "outputs": [],
   "source": [
    "M = random(10,10,density = 0.7)\n",
    "MM_dense = M.toarray()\n",
    "for i in range(len(MM_dense)):\n",
    "    sum = np.sum(MM_dense[i])\n",
    "    MM_dense[i] = MM_dense[i]/sum\n",
    "MM_SP = config.csr_matrix(MM_dense)\n",
    "peq = compute_free_energy(MM_dense.T)[0]\n"
   ]
  },
  {
   "cell_type": "code",
   "execution_count": 32,
   "metadata": {},
   "outputs": [],
   "source": [
    "row_sum = []\n",
    "column_sum = []\n",
    "for i in range(len(MM_dense)):\n",
    "    row_sum.append(np.sum(MM_dense[i]))\n",
    "    column_sum.append(np.sum(MM_dense[:,i]))"
   ]
  },
  {
   "cell_type": "code",
   "execution_count": 34,
   "metadata": {},
   "outputs": [
    {
     "data": {
      "text/plain": [
       "([0.9999999999999999,\n",
       "  0.9999999999999999,\n",
       "  0.9999999999999999,\n",
       "  1.0,\n",
       "  1.0,\n",
       "  1.0,\n",
       "  1.0,\n",
       "  1.0,\n",
       "  1.0,\n",
       "  0.9999999999999998],\n",
       " [0.7988900856803383,\n",
       "  1.2968358539453484,\n",
       "  0.5594353852890691,\n",
       "  1.503815846027901,\n",
       "  1.1825253853781035,\n",
       "  1.0216061439648225,\n",
       "  1.1298221699246882,\n",
       "  0.640323955473453,\n",
       "  0.7126881848606981,\n",
       "  1.1540569894555774])"
      ]
     },
     "execution_count": 34,
     "metadata": {},
     "output_type": "execute_result"
    }
   ],
   "source": [
    "row_sum,column_sum"
   ]
  },
  {
   "cell_type": "markdown",
   "metadata": {},
   "source": [
    "#### MFPT Calc time comparison\n",
    "\n",
    "It can be seen that for a Transition Matrix of size 100 with density 0.1 the sparse matrix mean first passage time calculation is quicker. It can also be seen that for a 10000 by 10000 transition matrix with the same density it is even faster with the total time being a 5th. It should be noted that the less sparse the matrix is the less the benefits from the sparse computation.\n",
    "\n",
    "I will now test the try and optim functions independently."
   ]
  },
  {
   "cell_type": "code",
   "execution_count": 26,
   "metadata": {},
   "outputs": [
    {
     "data": {
      "text/plain": [
       "array([[0.01161207, 0.        , 0.27468903, 0.        , 0.        ,\n",
       "        0.09490362, 0.        , 0.        , 0.24908483, 0.36971044],\n",
       "       [0.        , 0.        , 0.32665021, 0.        , 0.02819445,\n",
       "        0.14733389, 0.        , 0.19554049, 0.        , 0.30228096],\n",
       "       [0.18976329, 0.        , 0.15176067, 0.2148473 , 0.        ,\n",
       "        0.14468669, 0.1943436 , 0.10459846, 0.        , 0.        ],\n",
       "       [0.        , 0.31517317, 0.        , 0.        , 0.24026667,\n",
       "        0.31259483, 0.        , 0.13196533, 0.        , 0.        ],\n",
       "       [0.        , 0.0466464 , 0.        , 0.46840608, 0.        ,\n",
       "        0.        , 0.        , 0.        , 0.        , 0.48494752],\n",
       "       [0.        , 0.        , 0.        , 0.        , 0.5883228 ,\n",
       "        0.        , 0.        , 0.4116772 , 0.        , 0.        ],\n",
       "       [0.        , 0.        , 0.        , 0.27787598, 0.        ,\n",
       "        0.25215899, 0.        , 0.        , 0.0884809 , 0.38148413],\n",
       "       [0.07905768, 0.        , 0.        , 0.        , 0.        ,\n",
       "        0.7878141 , 0.        , 0.        , 0.        , 0.13312822],\n",
       "       [0.53183909, 0.        , 0.        , 0.        , 0.23162007,\n",
       "        0.        , 0.08001869, 0.        , 0.        , 0.15652215],\n",
       "       [0.        , 0.        , 0.2308014 , 0.        , 0.10437108,\n",
       "        0.4469311 , 0.        , 0.21789643, 0.        , 0.        ]])"
      ]
     },
     "execution_count": 26,
     "metadata": {},
     "output_type": "execute_result"
    }
   ],
   "source": [
    "MM_dense"
   ]
  },
  {
   "cell_type": "markdown",
   "metadata": {},
   "source": [
    "It is evident above that the dense MFPT calculation is quicker. This can b explained by the dense nature of the output matrix, and the inefficient conditional logic which is difficult to vectorise which is a result of the manually input large values for transitioned observed as impossible. I will now use start testing the JJ_huunter algorithm."
   ]
  },
  {
   "cell_type": "code",
   "execution_count": null,
   "metadata": {},
   "outputs": [],
   "source": [
    "def jjhunter(P): ### correct version\n",
    "    P = np.array(P, dtype=np.float64)  # Using double precision\n",
    "    m = len(P)\n",
    "    I = np.eye(m, dtype=np.float64)\n",
    "    e1 = np.ones((m, 1), dtype=np.float64)\n",
    "    E = np.ones((m, m), dtype=np.float64)\n",
    "    PPD = P.copy()\n",
    "    AASD = np.zeros((m, m), dtype=np.float64)\n",
    "    SD = np.zeros(m)\n",
    "\n",
    "    for n in range(m-1, 0, -1):\n",
    "        #print(n,PPD[n, :n])\n",
    "        SD[n] = np.sum(PPD[n, :n])\n",
    "        #print(SD)\n",
    "        for i in range(n):\n",
    "            for j in range(n):\n",
    "                AASD[i, j] = PPD[i, n] * PPD[n, j] / SD[n]\n",
    "                PPD[i, j] += AASD[i, j]\n",
    "    #print(AASD,'\\n', PPD)\n",
    "\n",
    "    rD = np.zeros(m, dtype=np.float64)\n",
    "    rD[0] = 1\n",
    "    for n in range(1, m):\n",
    "        for i in range(n):\n",
    "            rD[n] += rD[i] * PPD[i, n] / SD[n]\n",
    "\n",
    "    TOTD = np.sum(rD)\n",
    "    pit_1D = rD / TOTD\n",
    "    PiD = e1 @ pit_1D.reshape(1, -1)\n",
    "    ZD = np.linalg.inv(I - P + PiD)\n",
    "    DD = np.linalg.inv(np.diag(np.diag(PiD)))\n",
    "    MD = (I - ZD + E @ np.diag(np.diag(ZD))) @ DD\n",
    "    return MD"
   ]
  },
  {
   "cell_type": "code",
   "execution_count": 48,
   "metadata": {},
   "outputs": [],
   "source": [
    "MFPT = jjhunter(MM_dense)"
   ]
  },
  {
   "cell_type": "code",
   "execution_count": 18,
   "metadata": {},
   "outputs": [],
   "source": [
    "#### kemeny constant check\n",
    "def check_kemeny(MFPT,peq):\n",
    "    n = MFPT.shape[0]\n",
    "    TEST = np.zeros(n)\n",
    "    for i in range(n):\n",
    "        for j in range(n):\n",
    "            TEST[i] += MFPT[i,j] * peq[j]\n",
    "    return TEST"
   ]
  },
  {
   "cell_type": "code",
   "execution_count": 24,
   "metadata": {},
   "outputs": [
    {
     "data": {
      "text/plain": [
       "array([9.73732926, 9.73732926, 9.73732926, 9.73732926, 9.73732926,\n",
       "       9.73732926, 9.73732926, 9.73732926, 9.73732926, 9.73732926])"
      ]
     },
     "execution_count": 24,
     "metadata": {},
     "output_type": "execute_result"
    }
   ],
   "source": [
    "TEST"
   ]
  },
  {
   "cell_type": "code",
   "execution_count": 42,
   "metadata": {},
   "outputs": [],
   "source": [
    "EDINA_MM = np.array([[0.4211  ,  0.4247  ,  0.1542],[0.2808 ,   0.2743 ,   0.4450],[0.9873  ,  0.3257,0.1018]])"
   ]
  },
  {
   "cell_type": "code",
   "execution_count": 67,
   "metadata": {},
   "outputs": [
    {
     "name": "stdout",
     "output_type": "stream",
     "text": [
      "[[0.4211 0.4247 0.1542]\n",
      " [0.2808 0.2743 0.445 ]\n",
      " [0.9873 0.3257 0.1018]]\n"
     ]
    }
   ],
   "source": [
    "print(EDINA_MM)"
   ]
  },
  {
   "cell_type": "code",
   "execution_count": 13,
   "metadata": {},
   "outputs": [
    {
     "name": "stdout",
     "output_type": "stream",
     "text": [
      "0 1\n",
      "0 2\n",
      "1 2\n",
      "0 3\n",
      "1 3\n",
      "2 3\n",
      "0 4\n",
      "1 4\n",
      "2 4\n",
      "3 4\n"
     ]
    }
   ],
   "source": [
    "m = 5\n",
    "for n in range(1,m):\n",
    "    for i in range(n):\n",
    "        print(i,n)"
   ]
  },
  {
   "cell_type": "code",
   "execution_count": 54,
   "metadata": {},
   "outputs": [
    {
     "name": "stdout",
     "output_type": "stream",
     "text": [
      "9 [0.         0.08288717 0.03659691 0.19685122 0.17199895 0.\n",
      " 0.16936991 0.00385645 0.09864392]\n",
      "0.7602045272111011\n",
      "8 [0.         0.14321247 0.00828696 0.         0.21463096 0.1989684\n",
      " 0.         0.07762526]\n",
      "0.6427240514436958\n",
      "7 [0.13952965 0.21919002 0.00063551 0.21375478 0.15063478 0.1681201\n",
      " 0.09515096]\n",
      "0.9870158039749248\n",
      "6 [0.         0.27743434 0.30003719 0.11121692 0.09069613 0.08407764]\n",
      "0.8634622169865923\n",
      "5 [0.08061996 0.15063523 0.14892663 0.22000706 0.22575299]\n",
      "0.8259418713159876\n",
      "4 [0.179356   0.30316423 0.02576148 0.07571393]\n",
      "0.5839956344531279\n",
      "3 [0.24921835 0.12681842 0.19776343]\n",
      "0.5738002005646381\n",
      "2 [0.07672171 0.22693517]\n",
      "0.3036568808141076\n",
      "1 [0.28031611]\n",
      "0.28031610554135106\n",
      "[0.         0.28031611 0.30365688 0.5738002  0.58399563 0.82594187\n",
      " 0.86346222 0.9870158  0.64272405 0.76020453]\n",
      "1.0 1.2949966774248944\n",
      "[[0.0397605  0.05148971 0.11616455 0.07655607 0.11441339 0.09058892\n",
      "  0.10757634 0.1052288  0.16159732 0.1366244 ]]\n"
     ]
    },
    {
     "name": "stderr",
     "output_type": "stream",
     "text": [
      "/tmp/ipykernel_2698/1067571557.py:35: DeprecationWarning: scipy.diag is deprecated and will be removed in SciPy 2.0.0, use numpy.diag instead\n",
      "  DS = inv(diag(diag(PiS)))\n",
      "/tmp/ipykernel_2698/1067571557.py:36: DeprecationWarning: scipy.diag is deprecated and will be removed in SciPy 2.0.0, use numpy.diag instead\n",
      "  MS = (I - ZS + es @ diag(diag(ZS)))@DS\n"
     ]
    }
   ],
   "source": [
    "output = jjhunter(MM_dense)"
   ]
  },
  {
   "cell_type": "code",
   "execution_count": 55,
   "metadata": {},
   "outputs": [
    {
     "data": {
      "text/plain": [
       "array([[25.15059076, 17.25299582,  9.01334739, 11.51042829, 10.15078713,\n",
       "         9.38384467,  9.30058563,  9.49247117,  7.54696898,  9.5411217 ],\n",
       "       [28.94854784, 19.42135543,  9.03885315, 11.69220102,  9.14655973,\n",
       "        11.80455828,  8.6774626 ,  9.23612378,  7.10573953,  7.94098003],\n",
       "       [30.39479644, 21.93912583,  8.60847788, 11.76596716, 10.33007737,\n",
       "         8.75996874,  8.14127052,  8.34712912,  7.24766335,  8.86244786],\n",
       "       [24.43040502, 21.21782977,  8.09505245, 13.06232223, 10.0793307 ,\n",
       "         9.68311496,  8.01397603,  8.93090818,  7.2804021 ,  9.78995028],\n",
       "       [26.41478356, 16.88185393,  9.72597362, 14.98501273,  8.74023536,\n",
       "        11.58952951, 10.74742857,  8.85732762,  6.15928662,  7.47028449],\n",
       "       [28.76869378, 20.14603433,  8.26169934, 13.08062603,  9.13623427,\n",
       "        11.03887769, 10.24488412,  7.74371396,  7.4019737 ,  7.68423868],\n",
       "       [31.91175524, 18.24184136,  6.69983102, 13.53033089, 10.44511379,\n",
       "        11.00271077,  9.2957243 ,  9.40699803,  5.55577748,  9.14099065],\n",
       "       [26.03524095, 17.3505759 ,  9.14567716, 12.06467364,  9.25815594,\n",
       "         9.85104746,  9.54092851,  9.50310212,  7.36022828,  9.28499689],\n",
       "       [31.05930979, 18.55353928,  9.54499684, 15.42829162,  7.98543399,\n",
       "         9.88477325, 11.00346284,  8.7395225 ,  6.18822137,  7.01145742],\n",
       "       [31.03055827, 20.1459024 ,  8.78529046, 12.82345345,  8.86251497,\n",
       "        11.86082105,  8.79369859,  9.72566667,  6.3079378 ,  7.31933696]])"
      ]
     },
     "execution_count": 55,
     "metadata": {},
     "output_type": "execute_result"
    }
   ],
   "source": [
    "check_kemenyoutput"
   ]
  },
  {
   "cell_type": "code",
   "execution_count": 51,
   "metadata": {},
   "outputs": [
    {
     "name": "stdout",
     "output_type": "stream",
     "text": [
      "[[1. 0. 0. 0. 0. 0. 0. 0. 0. 0.]\n",
      " [0. 1. 0. 0. 0. 0. 0. 0. 0. 0.]\n",
      " [0. 0. 1. 0. 0. 0. 0. 0. 0. 0.]\n",
      " [0. 0. 0. 1. 0. 0. 0. 0. 0. 0.]\n",
      " [0. 0. 0. 0. 1. 0. 0. 0. 0. 0.]\n",
      " [0. 0. 0. 0. 0. 1. 0. 0. 0. 0.]\n",
      " [0. 0. 0. 0. 0. 0. 1. 0. 0. 0.]\n",
      " [0. 0. 0. 0. 0. 0. 0. 1. 0. 0.]\n",
      " [0. 0. 0. 0. 0. 0. 0. 0. 1. 0.]\n",
      " [0. 0. 0. 0. 0. 0. 0. 0. 0. 1.]] \n",
      " [[0.         0.09829135 0.         0.         0.11939582 0.36263429\n",
      "  0.41967854 0.         0.         0.        ]\n",
      " [0.         0.03476568 0.         0.         0.18816187 0.\n",
      "  0.32200936 0.         0.45506308 0.        ]\n",
      " [0.         0.         0.         0.6289171  0.         0.\n",
      "  0.3710829  0.         0.         0.        ]\n",
      " [0.         0.         0.         0.         0.36049888 0.\n",
      "  0.18049068 0.15882029 0.08540947 0.21478068]\n",
      " [0.05983032 0.         0.         0.24673552 0.29777809 0.39565607\n",
      "  0.         0.         0.         0.        ]\n",
      " [0.         0.         0.         0.         0.         0.\n",
      "  0.48296896 0.         0.15960806 0.35742297]\n",
      " [0.         0.         0.31801027 0.         0.         0.33087605\n",
      "  0.         0.06456127 0.         0.28655242]\n",
      " [0.         0.17927189 0.         0.4006951  0.         0.04179334\n",
      "  0.         0.37823967 0.         0.        ]\n",
      " [0.11379422 0.         0.         0.04732738 0.04512967 0.11741825\n",
      "  0.         0.19238353 0.23879177 0.24515519]\n",
      " [0.06134503 0.         0.         0.         0.         0.\n",
      "  0.49114802 0.44750694 0.         0.        ]] \n",
      " [[0.00084798 0.         0.03219921 0.00402412 0.22449074 0.05653996\n",
      "  0.12208639 0.09887115 0.34822927 0.1127112 ]\n",
      " [0.00084798 0.         0.03219921 0.00402412 0.22449074 0.05653996\n",
      "  0.12208639 0.09887115 0.34822927 0.1127112 ]\n",
      " [0.00084798 0.         0.03219921 0.00402412 0.22449074 0.05653996\n",
      "  0.12208639 0.09887115 0.34822927 0.1127112 ]\n",
      " [0.00084798 0.         0.03219921 0.00402412 0.22449074 0.05653996\n",
      "  0.12208639 0.09887115 0.34822927 0.1127112 ]\n",
      " [0.00084798 0.         0.03219921 0.00402412 0.22449074 0.05653996\n",
      "  0.12208639 0.09887115 0.34822927 0.1127112 ]\n",
      " [0.00084798 0.         0.03219921 0.00402412 0.22449074 0.05653996\n",
      "  0.12208639 0.09887115 0.34822927 0.1127112 ]\n",
      " [0.00084798 0.         0.03219921 0.00402412 0.22449074 0.05653996\n",
      "  0.12208639 0.09887115 0.34822927 0.1127112 ]\n",
      " [0.00084798 0.         0.03219921 0.00402412 0.22449074 0.05653996\n",
      "  0.12208639 0.09887115 0.34822927 0.1127112 ]\n",
      " [0.00084798 0.         0.03219921 0.00402412 0.22449074 0.05653996\n",
      "  0.12208639 0.09887115 0.34822927 0.1127112 ]\n",
      " [0.00084798 0.         0.03219921 0.00402412 0.22449074 0.05653996\n",
      "  0.12208639 0.09887115 0.34822927 0.1127112 ]]\n"
     ]
    }
   ],
   "source": [
    "print(I,\"\\n\",P,\"\\n\",PiS)"
   ]
  },
  {
   "cell_type": "code",
   "execution_count": 17,
   "metadata": {},
   "outputs": [
    {
     "name": "stdout",
     "output_type": "stream",
     "text": [
      "[0.17180743 0.10448532 0.11258229 0.15526671 0.03888526 0.13608462\n",
      " 0.1192924  0.02166755 0.09429648 0.04563195] 1.0\n"
     ]
    }
   ],
   "source": [
    "print(peq,sum(peq))"
   ]
  },
  {
   "cell_type": "code",
   "execution_count": 76,
   "metadata": {},
   "outputs": [
    {
     "data": {
      "text/plain": [
       "array([11.95679687, 11.54901641, 12.25145595, 11.12650215, 10.73061773,\n",
       "       11.40776633, 11.68518255, 11.91371955, 10.6770274 , 12.50850439])"
      ]
     },
     "execution_count": 76,
     "metadata": {},
     "output_type": "execute_result"
    }
   ],
   "source": [
    "check_kemeny(jjhunter(MM_dense),peq)"
   ]
  },
  {
   "cell_type": "code",
   "execution_count": 10,
   "metadata": {},
   "outputs": [
    {
     "name": "stdout",
     "output_type": "stream",
     "text": [
      "[[ 31.10285408  23.02441596 -38.56907768  14.98261116  21.92636282\n",
      "    7.05513902   5.74140855  27.02275556   3.83818891  -1.47187029]\n",
      " [ 10.15971251  21.33552648  -6.28299714   1.35534866  26.61660501\n",
      "    4.52334593   4.02705787  26.95179024   3.31531652  11.32347308]\n",
      " [ 62.42255791  53.64869269  30.45216301  17.11350825  25.46771442\n",
      "    8.48078099   4.76958098  26.65009551   0.66365234   7.67907685]\n",
      " [ -1.22830632  16.27506794 -32.55884535  10.0440507   22.13204437\n",
      "    4.24543154   3.91933669  24.18587114   3.66618502   2.15425551]\n",
      " [  3.247167    16.5608888  -18.64756936   4.97755095  24.55914908\n",
      "    3.26094832   1.85663865  26.42641635   2.08384062   8.41609015]\n",
      " [ -8.49566322  13.93382126 -47.17461022   6.04421773  15.13988353\n",
      "    6.20336871   4.10144236  26.49567467   2.79739249  -0.88037954]\n",
      " [ -1.90472366  18.38149817 -31.13140922   5.00358446  18.92967177\n",
      "    0.66806971   4.30686457  27.78719082   3.02436466   4.83747414]\n",
      " [ 14.01296938  16.47339529   1.14421667   7.0471957   25.94357809\n",
      "    6.62169439   5.14319277  25.84792258   3.65592921   3.44580788]\n",
      " [  5.61940271  23.81142509 -19.91136881   6.38532221  25.37878874\n",
      "    5.91595022   4.97377579  26.99340677   3.8907762    6.10925862]\n",
      " [ 20.77257999  28.90211872  16.88257526   8.13358698  21.91273027\n",
      "    4.7991435    3.66081424  23.91903958   1.53104889  17.0170969 ]]\n"
     ]
    },
    {
     "data": {
      "text/plain": [
       "array([[ 31.10285408,  23.02441596, -38.56907768,  14.98261116,\n",
       "         21.92636282,   7.05513902,   5.74140855,  27.02275556,\n",
       "          3.83818891,  -1.47187029],\n",
       "       [ 10.15971251,  21.33552648,  -6.28299714,   1.35534866,\n",
       "         26.61660501,   4.52334593,   4.02705787,  26.95179024,\n",
       "          3.31531652,  11.32347308],\n",
       "       [ 62.42255791,  53.64869269,  30.45216301,  17.11350825,\n",
       "         25.46771442,   8.48078099,   4.76958098,  26.65009551,\n",
       "          0.66365234,   7.67907685],\n",
       "       [ -1.22830632,  16.27506794, -32.55884535,  10.0440507 ,\n",
       "         22.13204437,   4.24543154,   3.91933669,  24.18587114,\n",
       "          3.66618502,   2.15425551],\n",
       "       [  3.247167  ,  16.5608888 , -18.64756936,   4.97755095,\n",
       "         24.55914908,   3.26094832,   1.85663865,  26.42641635,\n",
       "          2.08384062,   8.41609015],\n",
       "       [ -8.49566322,  13.93382126, -47.17461022,   6.04421773,\n",
       "         15.13988353,   6.20336871,   4.10144236,  26.49567467,\n",
       "          2.79739249,  -0.88037954],\n",
       "       [ -1.90472366,  18.38149817, -31.13140922,   5.00358446,\n",
       "         18.92967177,   0.66806971,   4.30686457,  27.78719082,\n",
       "          3.02436466,   4.83747414],\n",
       "       [ 14.01296938,  16.47339529,   1.14421667,   7.0471957 ,\n",
       "         25.94357809,   6.62169439,   5.14319277,  25.84792258,\n",
       "          3.65592921,   3.44580788],\n",
       "       [  5.61940271,  23.81142509, -19.91136881,   6.38532221,\n",
       "         25.37878874,   5.91595022,   4.97377579,  26.99340677,\n",
       "          3.8907762 ,   6.10925862],\n",
       "       [ 20.77257999,  28.90211872,  16.88257526,   8.13358698,\n",
       "         21.91273027,   4.7991435 ,   3.66081424,  23.91903958,\n",
       "          1.53104889,  17.0170969 ]])"
      ]
     },
     "execution_count": 10,
     "metadata": {},
     "output_type": "execute_result"
    }
   ],
   "source": [
    "Markov_mfpt_calc_jjhunter(MM_dense.T)"
   ]
  },
  {
   "cell_type": "code",
   "execution_count": 1,
   "metadata": {},
   "outputs": [],
   "source": [
    "from util_old import TIME"
   ]
  },
  {
   "cell_type": "code",
   "execution_count": 1,
   "metadata": {},
   "outputs": [],
   "source": [
    "import numpy as np\n",
    "import matplotlib.pyplot as plt\n",
    "import os\n",
    "import time\n",
    "\n",
    "from tqdm import tqdm\n",
    "\n",
    "import openmm\n",
    "from openmm import unit\n",
    "from openmm.app.topology import Topology\n",
    "from openmm.app.element import Element\n",
    "import mdtraj\n",
    "import csv\n",
    "\n",
    "import config\n",
    "from dham import *\n",
    "from util_old import apply_fes, try_and_optim_M, apply_bias, update_bias, get_total_bias,try_and_optim_sparse_M, Markov_mfpt_calc, TIME\n",
    "from scipy.sparse import csr_matrix"
   ]
  },
  {
   "cell_type": "code",
   "execution_count": 2,
   "metadata": {},
   "outputs": [],
   "source": [
    "def propagate(simulation,\n",
    "              prop_index, \n",
    "              pos_traj,   #this records the trajectory of the particle. in shape: [prop_index, sim_steps, 3]\n",
    "              steps=config.propagation_step,\n",
    "              dcdfreq=config.dcdfreq_mfpt,\n",
    "              stepsize=config.stepsize,\n",
    "              num_bins=config.num_bins,\n",
    "              pbc=config.pbc,\n",
    "              time_tag=None,\n",
    "              top=None,\n",
    "              reach=None\n",
    "              ):\n",
    "    \"\"\"\n",
    "    here we use the openmm context object to propagate the system.\n",
    "    save the CV and append it into the CV_total.\n",
    "    use the DHAM_it to process CV_total, get the partially observed Markov matrix from trajectory.\n",
    "    return the current position, the CV_total, and the partially observed Markov matrix.\n",
    "    \"\"\"\n",
    "    directory_paths = [\"./trajectory/explore\",\"./figs/explore\",\"./params\",\"./visited_states\"]\n",
    "    for i in directory_paths:\n",
    "        if not os.path.exists(i):\n",
    "            os.makedirs(i)\n",
    "    file_handle = open(f\"./trajectory/explore/{time_tag}_langevin_sim_explore_{prop_index}.dcd\", 'bw')\n",
    "    dcd_file = openmm.app.dcdfile.DCDFile(file_handle, top, dt = stepsize) #note top is no longer a global pararm, we need pass this.\n",
    "    for _ in tqdm(range(int(steps/dcdfreq)), desc=f\"Propagation {prop_index}\"):\n",
    "        simulation.integrator.step(dcdfreq)\n",
    "        state = simulation.context.getState(getPositions=True, enforcePeriodicBox=pbc)\n",
    "        dcd_file.writeModel(state.getPositions(asNumpy=True))\n",
    "    file_handle.close()\n",
    "\n",
    "    #save the top to pdb.\n",
    "    with open(f\"./trajectory/explore/{time_tag}_langevin_sim_explore_{prop_index}.pdb\", 'w') as f:\n",
    "        openmm.app.PDBFile.writeFile(simulation.topology, state.getPositions(), f)\n",
    "    \n",
    "    #we load the pdb and pass it to mdtraj_top\n",
    "    mdtraj_top = mdtraj.load(f\"./trajectory/explore/{time_tag}_langevin_sim_explore_{prop_index}.pdb\")\n",
    "\n",
    "    #use mdtraj to get the coordinate of the particle.\n",
    "    traj = mdtraj.load_dcd(f\"./trajectory/explore/{time_tag}_langevin_sim_explore_{prop_index}.dcd\", top = mdtraj_top)#top = mdtraj.Topology.from_openmm(top)) #this will yield error because we using imaginary element X.\n",
    "    coor = traj.xyz[:,0,:] #[all_frames,particle_index,xyz] # we grep the particle 0.\n",
    "\n",
    "    #we digitize the x, y coordinate into meshgrid (0, 2pi, num_bins)\n",
    "    x = np.linspace(0, 2*np.pi, num_bins) #hardcoded.\n",
    "\n",
    "    #we digitize the coor into the meshgrid.\n",
    "    coor_x = coor.squeeze()[:,:1] #we only take the xcoordinate.\n",
    "    #we test.\n",
    "    if False: \n",
    "        plt.figure()\n",
    "        plt.plot(coor_x)\n",
    "        plt.xlim([0, 2*np.pi])\n",
    "        plt.savefig(\"./test.png\")\n",
    "        plt.close()\n",
    "    #we append the coor_xy_digitized into the pos_traj.\n",
    "    pos_traj[prop_index,:] = coor_x.squeeze()\n",
    "\n",
    "    #we take all previous digitized x and feed it into DHAM.\n",
    "    coor_x_total = pos_traj[:prop_index+1,:].squeeze() #note this is in coordinate space np.linspace(0, 2*np.pi, num_bins)\n",
    "    print(\"coor_x_total shape: \", coor_x_total.shape)\n",
    "    #we now reshape it to [cur_propagation+1, num_bins, 1]\n",
    "    coor_x_total = coor_x_total.reshape(prop_index+1, -1, 1)\n",
    "    print(\"coor_x_total shape: \", coor_x_total.shape)\n",
    "\n",
    "    #here we load all the gaussian_params from previous propagations.\n",
    "    #size of gaussian_params: [num_propagation, num_gaussian, 3] (a,b,c),\n",
    "    # note for 2D this would be [num_propagation, num_gaussian, 5] (a,bx,by,cx,cy)\n",
    "    gaussian_params = np.zeros([prop_index+1, config.num_gaussian, 3])\n",
    "    for i in range(prop_index+1):\n",
    "        gaussian_params[i,:,:] = np.loadtxt(f\"./params/{time_tag}_gaussian_fes_param_{i}.txt\").reshape(-1,3)\n",
    "        print(f\"gaussian_params for propagation {i} loaded.\")\n",
    "    print(gaussian_params)\n",
    "\n",
    "    #here we use the DHAM.\n",
    "    F_M, MM = DHAM_it(coor_x_total, \n",
    "                      gaussian_params, \n",
    "                      T=300, \n",
    "                      lagtime=1, \n",
    "                      num_bins=num_bins, \n",
    "                      time_tag=time_tag, \n",
    "                      prop_index=prop_index)\n",
    "    cur_pos = coor_x_total[-1] #the current position of the particle, in ravelled 1D form.\n",
    "    \n",
    "    #determine if the particle has reached the target state.\n",
    "    end_state_xyz = config.end_state.value_in_unit_system(openmm.unit.md_unit_system)[0]\n",
    "    end_state_x = end_state_xyz[:1]\n",
    "    for index_d, d in enumerate(coor_x):\n",
    "        #if the distance of current pos is the config.target_state, we set reach to index_d.\n",
    "        target_distance = np.linalg.norm(d - end_state_x)\n",
    "        if target_distance < 0.1:\n",
    "            reach = index_d * config.dcdfreq_mfpt\n",
    "\n",
    "    return cur_pos, pos_traj, MM, reach, F_M\n",
    "def get_working_MM(M):\n",
    "    zero_rows = np.where(~M.any(axis=1))[0]\n",
    "    zero_cols = np.where(~M.any(axis=0))[0]\n",
    "\n",
    "    keep_indices = np.setdiff1d(range(M.shape[0]), np.union1d(zero_rows, zero_cols))\n",
    "    M_work = M[np.ix_(keep_indices, keep_indices)]\n",
    "    return M_work, keep_indices\n",
    "\n",
    "def find_closest_index(working_indices, final_index, N):\n",
    "    \"\"\"\n",
    "    returns the farest index in 1D.\n",
    "\n",
    "    here we find the closest state to the final state.\n",
    "    first we unravel all the index to 2D.\n",
    "    then we use the lowest RMSD distance to find the closest state.\n",
    "    then we ravel it back to 1D.\n",
    "    note: for now we only find the first-encounted closest state.\n",
    "          we can create a list of all the closest states, and then choose random one.\n",
    "    \"\"\"\n",
    "    def rmsd_dist(a, b):\n",
    "        return np.sqrt(np.sum((a-b)**2))\n",
    "    working_x, working_y = np.unravel_index(working_indices, (N,N), order='C')\n",
    "    working_states = np.stack((working_x, working_y), axis=1)\n",
    "    final_state = np.unravel_index(final_index, (N,N), order='C')\n",
    "    closest_state = working_states[0]\n",
    "    for i in range(len(working_states)):\n",
    "        if rmsd_dist(working_states[i], final_state) < rmsd_dist(closest_state, final_state):\n",
    "            closest_state = working_states[i]\n",
    "        \n",
    "    closest_index = np.ravel_multi_index(closest_state, (N,N), order='C')\n",
    "    return closest_index\n",
    "\n",
    "def DHAM_it(CV, gaussian_params, T=300, lagtime=2, num_bins=150, prop_index=0, time_tag=None):\n",
    "    \"\"\"\n",
    "    intput:\n",
    "    CV: the collective variable we are interested in. now it's 2d.\n",
    "    gaussian_params: the parameters of bias potential. (in our case the 10-gaussian params)\n",
    "     format: (a,bx, by,cx,cy)\n",
    "    T: temperature 300\n",
    "\n",
    "    output:\n",
    "    the Markov Matrix\n",
    "    Free energy surface probed by DHAM.\n",
    "    \"\"\"\n",
    "    d = DHAM(gaussian_params, num_bins=num_bins)\n",
    "    d.setup(CV, T, prop_index=prop_index, time_tag=time_tag)\n",
    "\n",
    "    d.lagtime = lagtime\n",
    "    d.num_bins = num_bins #num of bins, arbitrary.\n",
    "    results = d.run(biased = True, plot=True)\n",
    "    return results\n",
    "\n",
    "def random_initial_bias(initial_position, num_gaussians):\n",
    "    #returns random a,b,c for 10 gaussian functions. around the initial position\n",
    "    # initial position is in Anstrom\n",
    "    initial_position = initial_position.value_in_unit_system(openmm.unit.md_unit_system)[0] #this is in nm\n",
    "    rng = np.random.default_rng()\n",
    "    #a = np.ones(10)\n",
    "    a = np.ones(num_gaussians) * 0.01 * 4.184 #convert to kJ/mol\n",
    "    b = rng.uniform(initial_position[0]-0.5, initial_position[0]+0.5, num_gaussians)\n",
    "    c = rng.uniform(0, 2*np.pi, num_gaussians)\n",
    "    return np.concatenate((a,b,c), axis=None)\n"
   ]
  },
  {
   "cell_type": "code",
   "execution_count": 3,
   "metadata": {},
   "outputs": [
    {
     "name": "stdout",
     "output_type": "stream",
     "text": [
      "system initializing\n",
      "config:  {'__name__': 'config', '__doc__': None, '__package__': '', '__loader__': <_frozen_importlib_external.SourceFileLoader object at 0x7fcad844ead0>, '__spec__': ModuleSpec(name='config', loader=<_frozen_importlib_external.SourceFileLoader object at 0x7fcad844ead0>, origin='/home/gsaba/MarkovMastersProject/RL_MFPT/1D_langevin_sim/config.py'), '__file__': '/home/gsaba/MarkovMastersProject/RL_MFPT/1D_langevin_sim/config.py', '__cached__': '/home/gsaba/MarkovMastersProject/RL_MFPT/1D_langevin_sim/__pycache__/config.cpython-311.pyc', '__builtins__': {'__name__': 'builtins', '__doc__': \"Built-in functions, types, exceptions, and other objects.\\n\\nThis module provides direct access to all 'built-in'\\nidentifiers of Python; for example, builtins.len is\\nthe full name for the built-in function len().\\n\\nThis module is not normally accessed explicitly by most\\napplications, but can be useful in modules that provide\\nobjects with the same name as a built-in value, but in\\nwhich the built-in of that name is also needed.\", '__package__': '', '__loader__': <class '_frozen_importlib.BuiltinImporter'>, '__spec__': ModuleSpec(name='builtins', loader=<class '_frozen_importlib.BuiltinImporter'>, origin='built-in'), '__build_class__': <built-in function __build_class__>, '__import__': <built-in function __import__>, 'abs': <built-in function abs>, 'all': <built-in function all>, 'any': <built-in function any>, 'ascii': <built-in function ascii>, 'bin': <built-in function bin>, 'breakpoint': <built-in function breakpoint>, 'callable': <built-in function callable>, 'chr': <built-in function chr>, 'compile': <built-in function compile>, 'delattr': <built-in function delattr>, 'dir': <built-in function dir>, 'divmod': <built-in function divmod>, 'eval': <built-in function eval>, 'exec': <built-in function exec>, 'format': <built-in function format>, 'getattr': <built-in function getattr>, 'globals': <built-in function globals>, 'hasattr': <built-in function hasattr>, 'hash': <built-in function hash>, 'hex': <built-in function hex>, 'id': <built-in function id>, 'input': <bound method Kernel.raw_input of <ipykernel.ipkernel.IPythonKernel object at 0x7fcb9a4e7210>>, 'isinstance': <built-in function isinstance>, 'issubclass': <built-in function issubclass>, 'iter': <built-in function iter>, 'aiter': <built-in function aiter>, 'len': <built-in function len>, 'locals': <built-in function locals>, 'max': <built-in function max>, 'min': <built-in function min>, 'next': <built-in function next>, 'anext': <built-in function anext>, 'oct': <built-in function oct>, 'ord': <built-in function ord>, 'pow': <built-in function pow>, 'print': <built-in function print>, 'repr': <built-in function repr>, 'round': <built-in function round>, 'setattr': <built-in function setattr>, 'sorted': <built-in function sorted>, 'sum': <built-in function sum>, 'vars': <built-in function vars>, 'None': None, 'Ellipsis': Ellipsis, 'NotImplemented': NotImplemented, 'False': False, 'True': True, 'bool': <class 'bool'>, 'memoryview': <class 'memoryview'>, 'bytearray': <class 'bytearray'>, 'bytes': <class 'bytes'>, 'classmethod': <class 'classmethod'>, 'complex': <class 'complex'>, 'dict': <class 'dict'>, 'enumerate': <class 'enumerate'>, 'filter': <class 'filter'>, 'float': <class 'float'>, 'frozenset': <class 'frozenset'>, 'property': <class 'property'>, 'int': <class 'int'>, 'list': <class 'list'>, 'map': <class 'map'>, 'object': <class 'object'>, 'range': <class 'range'>, 'reversed': <class 'reversed'>, 'set': <class 'set'>, 'slice': <class 'slice'>, 'staticmethod': <class 'staticmethod'>, 'str': <class 'str'>, 'super': <class 'super'>, 'tuple': <class 'tuple'>, 'type': <class 'type'>, 'zip': <class 'zip'>, '__debug__': True, 'BaseException': <class 'BaseException'>, 'BaseExceptionGroup': <class 'BaseExceptionGroup'>, 'Exception': <class 'Exception'>, 'GeneratorExit': <class 'GeneratorExit'>, 'KeyboardInterrupt': <class 'KeyboardInterrupt'>, 'SystemExit': <class 'SystemExit'>, 'ArithmeticError': <class 'ArithmeticError'>, 'AssertionError': <class 'AssertionError'>, 'AttributeError': <class 'AttributeError'>, 'BufferError': <class 'BufferError'>, 'EOFError': <class 'EOFError'>, 'ImportError': <class 'ImportError'>, 'LookupError': <class 'LookupError'>, 'MemoryError': <class 'MemoryError'>, 'NameError': <class 'NameError'>, 'OSError': <class 'OSError'>, 'ReferenceError': <class 'ReferenceError'>, 'RuntimeError': <class 'RuntimeError'>, 'StopAsyncIteration': <class 'StopAsyncIteration'>, 'StopIteration': <class 'StopIteration'>, 'SyntaxError': <class 'SyntaxError'>, 'SystemError': <class 'SystemError'>, 'TypeError': <class 'TypeError'>, 'ValueError': <class 'ValueError'>, 'Warning': <class 'Warning'>, 'FloatingPointError': <class 'FloatingPointError'>, 'OverflowError': <class 'OverflowError'>, 'ZeroDivisionError': <class 'ZeroDivisionError'>, 'BytesWarning': <class 'BytesWarning'>, 'DeprecationWarning': <class 'DeprecationWarning'>, 'EncodingWarning': <class 'EncodingWarning'>, 'FutureWarning': <class 'FutureWarning'>, 'ImportWarning': <class 'ImportWarning'>, 'PendingDeprecationWarning': <class 'PendingDeprecationWarning'>, 'ResourceWarning': <class 'ResourceWarning'>, 'RuntimeWarning': <class 'RuntimeWarning'>, 'SyntaxWarning': <class 'SyntaxWarning'>, 'UnicodeWarning': <class 'UnicodeWarning'>, 'UserWarning': <class 'UserWarning'>, 'BlockingIOError': <class 'BlockingIOError'>, 'ChildProcessError': <class 'ChildProcessError'>, 'ConnectionError': <class 'ConnectionError'>, 'FileExistsError': <class 'FileExistsError'>, 'FileNotFoundError': <class 'FileNotFoundError'>, 'InterruptedError': <class 'InterruptedError'>, 'IsADirectoryError': <class 'IsADirectoryError'>, 'NotADirectoryError': <class 'NotADirectoryError'>, 'PermissionError': <class 'PermissionError'>, 'ProcessLookupError': <class 'ProcessLookupError'>, 'TimeoutError': <class 'TimeoutError'>, 'IndentationError': <class 'IndentationError'>, 'IndexError': <class 'IndexError'>, 'KeyError': <class 'KeyError'>, 'ModuleNotFoundError': <class 'ModuleNotFoundError'>, 'NotImplementedError': <class 'NotImplementedError'>, 'RecursionError': <class 'RecursionError'>, 'UnboundLocalError': <class 'UnboundLocalError'>, 'UnicodeError': <class 'UnicodeError'>, 'BrokenPipeError': <class 'BrokenPipeError'>, 'ConnectionAbortedError': <class 'ConnectionAbortedError'>, 'ConnectionRefusedError': <class 'ConnectionRefusedError'>, 'ConnectionResetError': <class 'ConnectionResetError'>, 'TabError': <class 'TabError'>, 'UnicodeDecodeError': <class 'UnicodeDecodeError'>, 'UnicodeEncodeError': <class 'UnicodeEncodeError'>, 'UnicodeTranslateError': <class 'UnicodeTranslateError'>, 'ExceptionGroup': <class 'ExceptionGroup'>, 'EnvironmentError': <class 'OSError'>, 'IOError': <class 'OSError'>, 'open': <built-in function open>, 'copyright': Copyright (c) 2001-2023 Python Software Foundation.\n",
      "All Rights Reserved.\n",
      "\n",
      "Copyright (c) 2000 BeOpen.com.\n",
      "All Rights Reserved.\n",
      "\n",
      "Copyright (c) 1995-2001 Corporation for National Research Initiatives.\n",
      "All Rights Reserved.\n",
      "\n",
      "Copyright (c) 1991-1995 Stichting Mathematisch Centrum, Amsterdam.\n",
      "All Rights Reserved., 'credits':     Thanks to CWI, CNRI, BeOpen.com, Zope Corporation and a cast of thousands\n",
      "    for supporting Python development.  See www.python.org for more information., 'license': Type license() to see the full license text, 'help': Type help() for interactive help, or help(object) for help about object., 'execfile': <function execfile at 0x7fcb9aa2bec0>, 'runfile': <function runfile at 0x7fcb9a91b4c0>, '__IPYTHON__': True, 'display': <function display at 0x7fcb9b954400>, '__pybind11_internals_v4_gcc_libstdcpp_cxxabi1016__': <capsule object NULL at 0x7fcad704a010>, '__pybind11_internals_v4_gcc_libstdcpp_cxxabi1013__': <capsule object NULL at 0x7fcad6875110>, 'get_ipython': <bound method InteractiveShell.get_ipython of <ipykernel.zmqshell.ZMQInteractiveShell object at 0x7fcb9a504950>>}, 'time': <module 'time' (built-in)>, 'unit': <module 'openmm.unit' from '/home/gsaba/miniconda3/envs/biophys_env/lib/python3.11/site-packages/openmm/unit/__init__.py'>, 'openmm': <module 'openmm' from '/home/gsaba/miniconda3/envs/biophys_env/lib/python3.11/site-packages/openmm/__init__.py'>, 'Quantity': <class 'openmm.unit.quantity.Quantity'>, 'Vec3': <class 'openmm.vec3.Vec3'>, 'csr_matrix': <class 'scipy.sparse._csr.csr_matrix'>, 'csc_matrix': <class 'scipy.sparse._csc.csc_matrix'>, 'coo_matrix': <class 'scipy.sparse._coo.coo_matrix'>, 'jsp': <module 'jax.scipy' from '/home/gsaba/miniconda3/envs/biophys_env/lib/python3.11/site-packages/jax/scipy/__init__.py'>, 'sparse': <module 'jax.scipy.sparse' from '/home/gsaba/miniconda3/envs/biophys_env/lib/python3.11/site-packages/jax/scipy/sparse/__init__.py'>, 'NUMBER_OF_PROCESSES': 4, 'num_sim': 20, 'sim_steps': 5000000, 'sim_steps_unbiased': 10000000, 'pbc': False, 'time_tag': '20231208-015806', 'amp': 6, 'propagation_step': 5000, 'stepsize': Quantity(value=0.002, unit=picosecond), 'stepsize_unbias': Quantity(value=0.2, unit=picosecond), 'num_bins': 1000, 'dcdfreq': 100, 'dcdfreq_mfpt': 1, 'sparse_mat': (<class 'scipy.sparse._coo.coo_matrix'>, <class 'scipy.sparse._csr.csr_matrix'>), 'platform': <openmm.openmm.Platform; proxy of <Swig Object of type 'OpenMM::Platform *' at 0x7fcac445ab50> >, 'num_gaussian': 20, 'start_state': Quantity(value=[Vec3(x=2.0, y=0.0, z=0.0)], unit=nanometer), 'end_state': Quantity(value=[Vec3(x=5.0, y=0.0, z=0.0)], unit=nanometer), 'end_state_unbiased': Quantity(value=[Vec3(x=3.9, y=0.0, z=0.0)], unit=nanometer), 'fes_mode': 'multiwell'}\n",
      "time_tag:  20231208-015806\n",
      "A0*exp(-(x-x00)^2/(2*sigma_x0^2))\n",
      "A1*exp(-(x-x01)^2/(2*sigma_x1^2))\n",
      "A2*exp(-(x-x02)^2/(2*sigma_x2^2))\n",
      "A3*exp(-(x-x03)^2/(2*sigma_x3^2))\n",
      "A4*exp(-(x-x04)^2/(2*sigma_x4^2))\n",
      "A5*exp(-(x-x05)^2/(2*sigma_x5^2))\n",
      "A6*exp(-(x-x06)^2/(2*sigma_x6^2))\n",
      "A7*exp(-(x-x07)^2/(2*sigma_x7^2))\n",
      "A8*exp(-(x-x08)^2/(2*sigma_x8^2))\n",
      "propagation 0 starting\n",
      "Ag0*exp(-(x-x0g0)^2/(2*sigma_xg0^2))\n",
      "Ag1*exp(-(x-x0g1)^2/(2*sigma_xg1^2))\n",
      "Ag2*exp(-(x-x0g2)^2/(2*sigma_xg2^2))\n",
      "Ag3*exp(-(x-x0g3)^2/(2*sigma_xg3^2))\n",
      "Ag4*exp(-(x-x0g4)^2/(2*sigma_xg4^2))\n",
      "Ag5*exp(-(x-x0g5)^2/(2*sigma_xg5^2))\n",
      "Ag6*exp(-(x-x0g6)^2/(2*sigma_xg6^2))\n",
      "Ag7*exp(-(x-x0g7)^2/(2*sigma_xg7^2))\n",
      "Ag8*exp(-(x-x0g8)^2/(2*sigma_xg8^2))\n",
      "Ag9*exp(-(x-x0g9)^2/(2*sigma_xg9^2))\n",
      "Ag10*exp(-(x-x0g10)^2/(2*sigma_xg10^2))\n",
      "Ag11*exp(-(x-x0g11)^2/(2*sigma_xg11^2))\n",
      "Ag12*exp(-(x-x0g12)^2/(2*sigma_xg12^2))\n",
      "Ag13*exp(-(x-x0g13)^2/(2*sigma_xg13^2))\n",
      "Ag14*exp(-(x-x0g14)^2/(2*sigma_xg14^2))\n",
      "Ag15*exp(-(x-x0g15)^2/(2*sigma_xg15^2))\n",
      "Ag16*exp(-(x-x0g16)^2/(2*sigma_xg16^2))\n",
      "Ag17*exp(-(x-x0g17)^2/(2*sigma_xg17^2))\n",
      "Ag18*exp(-(x-x0g18)^2/(2*sigma_xg18^2))\n",
      "Ag19*exp(-(x-x0g19)^2/(2*sigma_xg19^2))\n",
      "system added with bias.\n"
     ]
    },
    {
     "name": "stderr",
     "output_type": "stream",
     "text": [
      "Propagation 0: 100%|██████████| 50/50 [00:00<00:00, 225.35it/s]\n",
      "/home/gsaba/MarkovMastersProject/RL_MFPT/1D_langevin_sim/util.py:114: RuntimeWarning: divide by zero encountered in log\n",
      "  F = -kT * np.log(peq) #add a small number to avoid log(0)) # + 1e-16\n"
     ]
    },
    {
     "name": "stdout",
     "output_type": "stream",
     "text": [
      "coor_x_total shape:  (50,)\n",
      "coor_x_total shape:  (1, 50, 1)\n",
      "gaussian_params for propagation 0 loaded.\n",
      "[[[0.04184    0.04184    0.04184   ]\n",
      "  [0.04184    0.04184    0.04184   ]\n",
      "  [0.04184    0.04184    0.04184   ]\n",
      "  [0.04184    0.04184    0.04184   ]\n",
      "  [0.04184    0.04184    0.04184   ]\n",
      "  [0.04184    0.04184    0.04184   ]\n",
      "  [0.04184    0.04184    1.56308597]\n",
      "  [2.34751419 1.78614938 1.92661616]\n",
      "  [2.36003352 2.29192365 2.14598384]\n",
      "  [1.51887859 1.55436706 1.60366025]\n",
      "  [1.78110518 2.44146902 1.7197599 ]\n",
      "  [2.17136094 1.52273923 2.25431501]\n",
      "  [2.3850129  1.50143909 2.26480035]\n",
      "  [1.69556617 3.36577087 4.50117661]\n",
      "  [0.31255362 4.94708736 1.91117803]\n",
      "  [3.22245053 5.30822555 4.24228276]\n",
      "  [3.50871852 4.39007057 6.04787564]\n",
      "  [0.66892821 4.5670026  5.52091337]\n",
      "  [3.20295515 3.74254357 5.98400451]\n",
      "  [2.17733718 5.72788345 4.34620286]]]\n",
      "sum of peq in dham reconstruction:  1.0000000000000002\n",
      "propagation number 1 starting\n",
      "optimizing to get g_param from start state: 0 to end state: 39 in working indices.\n",
      "converted to xspace that's from: 1.8409732950036188 to 2.494424566950296\n",
      "upper bound: 2.494424566950296 lower bound: 1.8409732950036188\n"
     ]
    },
    {
     "name": "stderr",
     "output_type": "stream",
     "text": [
      "/home/gsaba/MarkovMastersProject/RL_MFPT/1D_langevin_sim/util_old.py:124: RuntimeWarning: invalid value encountered in log\n",
      "  F = -kT * np.log(peq)\n",
      "/home/gsaba/miniconda3/envs/biophys_env/lib/python3.11/site-packages/scipy/sparse/linalg/_dsolve/linsolve.py:412: SparseEfficiencyWarning: splu converted its input to CSC format\n",
      "  warn('splu converted its input to CSC format', SparseEfficiencyWarning)\n",
      "/home/gsaba/miniconda3/envs/biophys_env/lib/python3.11/site-packages/scipy/sparse/linalg/_dsolve/linsolve.py:302: SparseEfficiencyWarning: spsolve is more efficient when sparse b is in the CSC matrix format\n",
      "  warn('spsolve is more efficient when sparse b '\n"
     ]
    },
    {
     "name": "stdout",
     "output_type": "stream",
     "text": [
      "random try: 0 mfpt: 154.16286309398427\n",
      "Performing Kemeny constant check...\n",
      "the min/max of the Kemeny constant is: 1089.2711897154804 1090.3097569502174\n",
      "random try: 100 mfpt: 230.51579511964292\n",
      "Performing Kemeny constant check...\n",
      "the min/max of the Kemeny constant is: 1088.9197022292399 1090.3097569502177\n",
      "random try: 200 mfpt: 209.98945617424602\n",
      "Performing Kemeny constant check...\n",
      "the min/max of the Kemeny constant is: 1089.0482192529435 1090.3097569502174\n",
      "random try: 300 mfpt: 174.96365083255407\n",
      "Performing Kemeny constant check...\n",
      "the min/max of the Kemeny constant is: 1089.2846074512966 1090.3097569502177\n"
     ]
    },
    {
     "ename": "KeyboardInterrupt",
     "evalue": "",
     "output_type": "error",
     "traceback": [
      "\u001b[0;31m---------------------------------------------------------------------------\u001b[0m",
      "\u001b[0;31mKeyboardInterrupt\u001b[0m                         Traceback (most recent call last)",
      "\u001b[1;32m/home/gsaba/MarkovMastersProject/RL_MFPT/1D_langevin_sim/mfpt_opt_playground.ipynb Cell 42\u001b[0m line \u001b[0;36m1\n\u001b[1;32m    <a href='vscode-notebook-cell://wsl%2Bubuntu/home/gsaba/MarkovMastersProject/RL_MFPT/1D_langevin_sim/mfpt_opt_playground.ipynb#X54sdnNjb2RlLXJlbW90ZQ%3D%3D?line=113'>114</a>\u001b[0m most_visited_state \u001b[39m=\u001b[39m np\u001b[39m.\u001b[39margmax(np\u001b[39m.\u001b[39mbincount(last_traj_index)) \u001b[39m#this is in digitized\u001b[39;00m\n\u001b[1;32m    <a href='vscode-notebook-cell://wsl%2Bubuntu/home/gsaba/MarkovMastersProject/RL_MFPT/1D_langevin_sim/mfpt_opt_playground.ipynb#X54sdnNjb2RlLXJlbW90ZQ%3D%3D?line=115'>116</a>\u001b[0m \u001b[39m##### time\u001b[39;00m\n\u001b[1;32m    <a href='vscode-notebook-cell://wsl%2Bubuntu/home/gsaba/MarkovMastersProject/RL_MFPT/1D_langevin_sim/mfpt_opt_playground.ipynb#X54sdnNjb2RlLXJlbW90ZQ%3D%3D?line=116'>117</a>\u001b[0m \u001b[39m#gaussian_params \u001b[39;00m\n\u001b[0;32m--> <a href='vscode-notebook-cell://wsl%2Bubuntu/home/gsaba/MarkovMastersProject/RL_MFPT/1D_langevin_sim/mfpt_opt_playground.ipynb#X54sdnNjb2RlLXJlbW90ZQ%3D%3D?line=117'>118</a>\u001b[0m gaussian_params,time_class\u001b[39m=\u001b[39m try_and_optim_sparse_M(MM_sparse,working_indices,time_class,num_gaussian \u001b[39m=\u001b[39;49m config\u001b[39m.\u001b[39;49mnum_gaussian, start_index \u001b[39m=\u001b[39;49m most_visited_state,end_index \u001b[39m=\u001b[39;49m closest_index,plot \u001b[39m=\u001b[39;49m \u001b[39mFalse\u001b[39;49;00m)\n\u001b[1;32m    <a href='vscode-notebook-cell://wsl%2Bubuntu/home/gsaba/MarkovMastersProject/RL_MFPT/1D_langevin_sim/mfpt_opt_playground.ipynb#X54sdnNjb2RlLXJlbW90ZQ%3D%3D?line=118'>119</a>\u001b[0m \u001b[39m# gaussian_params = try_and_optim_M(working_MM,\u001b[39;00m\n\u001b[1;32m    <a href='vscode-notebook-cell://wsl%2Bubuntu/home/gsaba/MarkovMastersProject/RL_MFPT/1D_langevin_sim/mfpt_opt_playground.ipynb#X54sdnNjb2RlLXJlbW90ZQ%3D%3D?line=119'>120</a>\u001b[0m \u001b[39m#                                 working_indices = working_indices,\u001b[39;00m\n\u001b[1;32m    <a href='vscode-notebook-cell://wsl%2Bubuntu/home/gsaba/MarkovMastersProject/RL_MFPT/1D_langevin_sim/mfpt_opt_playground.ipynb#X54sdnNjb2RlLXJlbW90ZQ%3D%3D?line=120'>121</a>\u001b[0m \u001b[39m#                                 num_gaussian = config.num_gaussian,\u001b[39;00m\n\u001b[0;32m   (...)\u001b[0m\n\u001b[1;32m    <a href='vscode-notebook-cell://wsl%2Bubuntu/home/gsaba/MarkovMastersProject/RL_MFPT/1D_langevin_sim/mfpt_opt_playground.ipynb#X54sdnNjb2RlLXJlbW90ZQ%3D%3D?line=123'>124</a>\u001b[0m \u001b[39m#                                 plot = False,\u001b[39;00m\n\u001b[1;32m    <a href='vscode-notebook-cell://wsl%2Bubuntu/home/gsaba/MarkovMastersProject/RL_MFPT/1D_langevin_sim/mfpt_opt_playground.ipynb#X54sdnNjb2RlLXJlbW90ZQ%3D%3D?line=124'>125</a>\u001b[0m \u001b[39m#                                 )\u001b[39;00m\n\u001b[1;32m    <a href='vscode-notebook-cell://wsl%2Bubuntu/home/gsaba/MarkovMastersProject/RL_MFPT/1D_langevin_sim/mfpt_opt_playground.ipynb#X54sdnNjb2RlLXJlbW90ZQ%3D%3D?line=125'>126</a>\u001b[0m \u001b[39mif\u001b[39;00m \u001b[39mTrue\u001b[39;00m:\n\u001b[1;32m    <a href='vscode-notebook-cell://wsl%2Bubuntu/home/gsaba/MarkovMastersProject/RL_MFPT/1D_langevin_sim/mfpt_opt_playground.ipynb#X54sdnNjb2RlLXJlbW90ZQ%3D%3D?line=126'>127</a>\u001b[0m     \u001b[39m#here we calculate the total bias given the optimized gaussian_params\u001b[39;00m\n",
      "File \u001b[0;32m~/MarkovMastersProject/RL_MFPT/1D_langevin_sim/util_old.py:377\u001b[0m, in \u001b[0;36mtry_and_optim_sparse_M\u001b[0;34m(M, working_indices, time_class, num_gaussian, start_index, end_index, plot)\u001b[0m\n\u001b[1;32m    375\u001b[0m \u001b[39m#return peq, M_biased\u001b[39;00m\n\u001b[1;32m    376\u001b[0m start \u001b[39m=\u001b[39m time\u001b[39m.\u001b[39mtime()\n\u001b[0;32m--> 377\u001b[0m mfpts_biased \u001b[39m=\u001b[39m Markov_mfpt_calc_sparse(peq, M_biased)\n\u001b[1;32m    378\u001b[0m duration \u001b[39m=\u001b[39m time\u001b[39m.\u001b[39mtime() \u001b[39m-\u001b[39m start\n\u001b[1;32m    379\u001b[0m time_class\u001b[39m.\u001b[39mlog_event(duration,\u001b[39m3\u001b[39m)\n",
      "File \u001b[0;32m~/MarkovMastersProject/RL_MFPT/1D_langevin_sim/util_old.py:265\u001b[0m, in \u001b[0;36mMarkov_mfpt_calc_sparse\u001b[0;34m(peq, M)\u001b[0m\n\u001b[1;32m    262\u001b[0m A \u001b[39m=\u001b[39m (peq_new\u001b[39m.\u001b[39mmultiply(onevec\u001b[39m.\u001b[39mT))\u001b[39m.\u001b[39mT\n\u001b[1;32m    263\u001b[0m \u001b[39m#print(M.data)\u001b[39;00m\n\u001b[1;32m    264\u001b[0m \u001b[39m#print(Idn + A - M)\u001b[39;00m\n\u001b[0;32m--> 265\u001b[0m Qinv \u001b[39m=\u001b[39m linalg\u001b[39m.\u001b[39;49minv((Idn \u001b[39m+\u001b[39;49m A \u001b[39m-\u001b[39;49m M)\u001b[39m.\u001b[39;49mastype(\u001b[39m'\u001b[39;49m\u001b[39mfloat64\u001b[39;49m\u001b[39m'\u001b[39;49m))  \u001b[39m# Sparse matrix inversion\u001b[39;00m\n\u001b[1;32m    266\u001b[0m Qinv_diag \u001b[39m=\u001b[39m config\u001b[39m.\u001b[39mcsr_matrix(np\u001b[39m.\u001b[39mtile(Qinv\u001b[39m.\u001b[39mdiagonal(),(Qinv\u001b[39m.\u001b[39mshape[\u001b[39m0\u001b[39m],\u001b[39m1\u001b[39m)))\n\u001b[1;32m    267\u001b[0m term \u001b[39m=\u001b[39m Qinv_diag \u001b[39m-\u001b[39m Qinv \u001b[39m+\u001b[39mIdn\n",
      "File \u001b[0;32m~/miniconda3/envs/biophys_env/lib/python3.11/site-packages/scipy/sparse/linalg/_matfuncs.py:75\u001b[0m, in \u001b[0;36minv\u001b[0;34m(A)\u001b[0m\n\u001b[1;32m     73\u001b[0m \u001b[39m# Use sparse direct solver to solve \"AX = I\" accurately\u001b[39;00m\n\u001b[1;32m     74\u001b[0m I \u001b[39m=\u001b[39m _ident_like(A)\n\u001b[0;32m---> 75\u001b[0m Ainv \u001b[39m=\u001b[39m spsolve(A, I)\n\u001b[1;32m     76\u001b[0m \u001b[39mreturn\u001b[39;00m Ainv\n",
      "File \u001b[0;32m~/miniconda3/envs/biophys_env/lib/python3.11/site-packages/scipy/sparse/linalg/_dsolve/linsolve.py:317\u001b[0m, in \u001b[0;36mspsolve\u001b[0;34m(A, b, permc_spec, use_umfpack)\u001b[0m\n\u001b[1;32m    311\u001b[0m \u001b[39mfor\u001b[39;00m j \u001b[39min\u001b[39;00m \u001b[39mrange\u001b[39m(b\u001b[39m.\u001b[39mshape[\u001b[39m1\u001b[39m]):\n\u001b[1;32m    312\u001b[0m     \u001b[39m# TODO: replace this with\u001b[39;00m\n\u001b[1;32m    313\u001b[0m     \u001b[39m# bj = b[:, j].toarray().ravel()\u001b[39;00m\n\u001b[1;32m    314\u001b[0m     \u001b[39m# once 1D sparse arrays are supported.\u001b[39;00m\n\u001b[1;32m    315\u001b[0m     \u001b[39m# That is a slightly faster code path.\u001b[39;00m\n\u001b[1;32m    316\u001b[0m     bj \u001b[39m=\u001b[39m b[:, [j]]\u001b[39m.\u001b[39mtoarray()\u001b[39m.\u001b[39mravel()\n\u001b[0;32m--> 317\u001b[0m     xj \u001b[39m=\u001b[39m Afactsolve(bj)\n\u001b[1;32m    318\u001b[0m     w \u001b[39m=\u001b[39m np\u001b[39m.\u001b[39mflatnonzero(xj)\n\u001b[1;32m    319\u001b[0m     segment_length \u001b[39m=\u001b[39m w\u001b[39m.\u001b[39mshape[\u001b[39m0\u001b[39m]\n",
      "\u001b[0;31mKeyboardInterrupt\u001b[0m: "
     ]
    }
   ],
   "source": [
    "time_class = TIME(sections=5)\n",
    "if __name__ == \"__main__\":\n",
    "    elem = Element(0, \"X\", \"X\", 1.0)\n",
    "    top = Topology()\n",
    "    top.addChain()\n",
    "    top.addResidue(\"xxx\", top._chains[0])\n",
    "    top.addAtom(\"X\", elem, top._chains[0]._residues[0])\n",
    "    mass = 12.0 * unit.amu\n",
    "    for i_sim in range(1):\n",
    "    #def simulate_once():\n",
    "        print(\"system initializing\")\n",
    "        #print out all the config.\n",
    "        print(\"config: \", config.__dict__)\n",
    "        \n",
    "        time_tag = time.strftime(\"%Y%m%d-%H%M%S\")\n",
    "\n",
    "        #print current time tag.\n",
    "        print(\"time_tag: \", time_tag)\n",
    "\n",
    "        system = openmm.System() #we initialize the system every\n",
    "        system.addParticle(mass)\n",
    "        #gaussian_param = np.loadtxt(\"./params/gaussian_fes_param.txt\")\n",
    "        system, fes = apply_fes(system = system, \n",
    "                                particle_idx=0, \n",
    "                                gaussian_param = None, \n",
    "                                pbc = config.pbc, \n",
    "                                amp = config.amp, \n",
    "                                name = \"FES\",\n",
    "                                mode=config.fes_mode, \n",
    "                                plot = True)\n",
    "        y_pot = openmm.CustomExternalForce(\"1e3 * y^2\") # very large force constant in y\n",
    "        y_pot.addParticle(0)\n",
    "        z_pot = openmm.CustomExternalForce(\"1e3 * z^2\") # very large force constant in z\n",
    "        z_pot.addParticle(0)\n",
    "        system.addForce(z_pot) #on z, large barrier\n",
    "        system.addForce(y_pot) #on y, large barrier\n",
    "\n",
    "        #pbc section\n",
    "        if config.pbc:\n",
    "            a = unit.Quantity((2*np.pi*unit.nanometers, 0*unit.nanometers, 0*unit.nanometers))\n",
    "            b = unit.Quantity((0*unit.nanometers, 2*np.pi*unit.nanometers, 0*unit.nanometers))\n",
    "            c = unit.Quantity((0*unit.nanometers, 0*unit.nanometers, 1*unit.nanometers)) # atom not moving in z so we set it to 1 nm\n",
    "            system.setDefaultPeriodicBoxVectors(a,b,c)\n",
    "\n",
    "        #integrator\n",
    "        integrator = openmm.LangevinIntegrator(300*unit.kelvin, \n",
    "                                            1.0/unit.picoseconds, \n",
    "                                            0.002*unit.picoseconds)\n",
    "\n",
    "        num_propagation = int(config.sim_steps/config.propagation_step)\n",
    "        frame_per_propagation = int(config.propagation_step/config.dcdfreq)\n",
    "        #this stores the digitized, ravelled, x, y coordinates of the particle, for every propagation.\n",
    "        pos_traj = np.zeros([num_propagation, frame_per_propagation]) #shape: [num_propagation, frame_per_propagation]\n",
    "\n",
    "        x = np.linspace(0, 2*np.pi, config.num_bins)\n",
    "\n",
    "        #we start propagation.\n",
    "        #note num_propagation = config.sim_steps/config.propagation_step\n",
    "        reach = None\n",
    "        i_prop = 0\n",
    "        #for i_prop in range(num_propagation):\n",
    "        while reach is None:\n",
    "            if i_prop >= num_propagation:\n",
    "                print(\"propagation number exceeds num_propagation, break\")\n",
    "                break\n",
    "            if i_prop == 0:\n",
    "                print(\"propagation 0 starting\")\n",
    "                gaussian_params = random_initial_bias(initial_position = config.start_state, num_gaussians = config.num_gaussian)\n",
    "\n",
    "                np.savetxt(f\"./params/{time_tag}_gaussian_fes_param_{i_prop}.txt\", gaussian_params)\n",
    "                \n",
    "                #we apply the initial gaussian bias (v small) to the system\n",
    "                system = apply_bias(system = system, particle_idx=0, gaussian_param = gaussian_params, pbc = config.pbc, name = \"BIAS\", num_gaussians = config.num_gaussian)\n",
    "\n",
    "                #create simulation object, this create a context object automatically.\n",
    "                # when we need to pass a context object, we can pass simulation instead.\n",
    "                simulation = openmm.app.Simulation(top, system, integrator, config.platform)\n",
    "                simulation.context.setPositions(config.start_state)\n",
    "                simulation.context.setVelocitiesToTemperature(300*unit.kelvin)\n",
    "\n",
    "                simulation.minimizeEnergy()\n",
    "                if config.pbc:\n",
    "                    simulation.context.setPeriodicBoxVectors(a,b,c)\n",
    "\n",
    "                #now we propagate the system, i.e. run the langevin simulation.\n",
    "                cur_pos, pos_traj, MM, reach, F_M = propagate(simulation = simulation,\n",
    "                                                                    prop_index = i_prop,\n",
    "                                                                    pos_traj = pos_traj,\n",
    "                                                                    steps=config.propagation_step,\n",
    "                                                                    dcdfreq=config.dcdfreq,\n",
    "                                                                    stepsize=config.stepsize,\n",
    "                                                                    num_bins=config.num_bins,\n",
    "                                                                    pbc=config.pbc,\n",
    "                                                                    time_tag = time_tag,\n",
    "                                                                    top=top,\n",
    "                                                                    reach=reach\n",
    "                                                                    )\n",
    "\n",
    "                #working_MM, working_indices = get_working_MM(MM) no longer needed as sparse matrix data structures are more efficient\n",
    "                MM_sparse = config.sparse_mat[0](MM)\n",
    "                working_indices = np.intersect1d(np.unique(MM_sparse.row),np.unique(MM_sparse.col))\n",
    "                MM_sparse = MM_sparse.tocsr()\n",
    "                final_coor = config.end_state.value_in_unit_system(openmm.unit.md_unit_system)[0][:1]\n",
    "                final_index = np.digitize(final_coor, x)\n",
    "                closest_index = working_indices[np.argmin(np.abs(working_indices - final_index))] #find the closest index in working_indices to final_index.\n",
    "                i_prop += 1\n",
    "            else:\n",
    "\n",
    "                print(f\"propagation number {i_prop} starting\")\n",
    "\n",
    "                #find the most visited state in last propagation.\n",
    "                last_traj = pos_traj[i_prop-1,:]\n",
    "                last_traj_index = np.digitize(last_traj, x).astype(np.int64)\n",
    "                most_visited_state = np.argmax(np.bincount(last_traj_index)) #this is in digitized\n",
    "\n",
    "                ##### time\n",
    "                #gaussian_params \n",
    "                gaussian_params,time_class= try_and_optim_sparse_M(MM_sparse,working_indices,time_class,num_gaussian = config.num_gaussian, start_index = most_visited_state,end_index = closest_index,plot = False)\n",
    "                # gaussian_params = try_and_optim_M(working_MM,\n",
    "                #                                 working_indices = working_indices,\n",
    "                #                                 num_gaussian = config.num_gaussian,\n",
    "                #                                 start_index = most_visited_state,\n",
    "                #                                 end_index = closest_index,\n",
    "                #                                 plot = False,\n",
    "                #                                 )\n",
    "                if True:\n",
    "                    #here we calculate the total bias given the optimized gaussian_params\n",
    "                    total_bias = get_total_bias(x, gaussian_params, num_gaussians=config.num_gaussian) * 4.184 #convert to kcal/mol\n",
    "                    plt.figure()\n",
    "                    plt.plot(x, total_bias, label=\"total bias applied\")\n",
    "                    #plt.savefig(f\"./figs/explore/{time_tag}_total_bias_{i_prop}.png\")\n",
    "                    #plt.close()\n",
    "                    \n",
    "                    #here we plot the reconstructed fes from MM.\n",
    "                    # we also plot the most_visited_state and closest_index.\n",
    "                    #plt.figure()\n",
    "                    plt.plot(x, F_M*4.184, label=\"DHAM fes\")\n",
    "                    plt.plot(x[most_visited_state], F_M[most_visited_state]*4.184, marker='o', markersize=3, color=\"blue\", label = \"most visited state (local start)\")\n",
    "                    plt.plot(x[closest_index], F_M[closest_index]*4.184, marker='o', markersize=3, color=\"red\", label = \"closest state (local target)\")\n",
    "                    #plt.legend()\n",
    "                    #plt.savefig(f\"./figs/explore/{time_tag}_reconstructed_fes_{i_prop}.png\")\n",
    "                    #plt.close()\n",
    "\n",
    "                    #we plot here to check the original fes, total_bias and trajectory.\n",
    "                \n",
    "                    #we add the total bias to the fes.\n",
    "                    #fes += total_bias_big\n",
    "                    #plt.figure()\n",
    "                    plt.plot(x, fes, label=\"original fes\")\n",
    "                    plt.xlabel(\"x-coor position (nm)\")\n",
    "                    #plt.xlim([-1, 2*np.pi+1])\n",
    "                    #plt.ylim([-1, 2*np.pi+1])\n",
    "                    plt.ylabel(\"fes (kJ/mol)\")\n",
    "                    plt.title(\"FES mode = multiwell, pbc=False\")\n",
    "                    \n",
    "                    #additionally we plot the trajectory.\n",
    "                    # first we process the pos_traj into x, y coordinate.\n",
    "                    # we plot all, but highlight the last prop_step points with higher alpha.\n",
    "\n",
    "                    history_traj = pos_traj[:i_prop, :].squeeze() #note this is only the x coor.\n",
    "                    recent_traj = pos_traj[i_prop:, :].squeeze()\n",
    "                    #here we digitize this so we can plot it to fes.\n",
    "                    history_traj = np.digitize(history_traj, x)\n",
    "                    recent_traj = np.digitize(recent_traj, x)\n",
    "\n",
    "                    plt.scatter(x[history_traj], fes[history_traj], s=3.5, alpha=0.3, c='grey')\n",
    "                    plt.scatter(x[recent_traj], fes[recent_traj], s=3.5, alpha=0.8, c='black')\n",
    "                    plt.legend(loc='upper left')\n",
    "                    plt.savefig(f\"./figs/explore/{time_tag}_fes_traj_{i_prop}.png\")\n",
    "                    plt.close()\n",
    "\n",
    "\n",
    "                #save the gaussian_params\n",
    "                np.savetxt(f\"./params/{time_tag}_gaussian_fes_param_{i_prop}.txt\", gaussian_params)\n",
    "\n",
    "                #apply the gaussian_params to openmm system.\n",
    "                simulation = update_bias(simulation = simulation,\n",
    "                                        gaussian_param = gaussian_params,\n",
    "                                        name = \"BIAS\",\n",
    "                                        num_gaussians=config.num_gaussian,\n",
    "                                        )\n",
    "                \n",
    "                #we propagate system again\n",
    "                cur_pos, pos_traj, MM, reach, F_M = propagate(simulation = simulation,\n",
    "                                                                    gaussian_params = gaussian_params,\n",
    "                                                                    prop_index = i_prop,\n",
    "                                                                    pos_traj = pos_traj,\n",
    "                                                                    steps=config.propagation_step,\n",
    "                                                                    dcdfreq=config.dcdfreq,\n",
    "                                                                    stepsize=config.stepsize,\n",
    "                                                                    num_bins=config.num_bins,\n",
    "                                                                    pbc=config.pbc,\n",
    "                                                                    time_tag = time_tag,\n",
    "                                                                    top=top,\n",
    "                                                                    reach=reach\n",
    "                                                                    )\n",
    "                #update working_MM and working_indices\n",
    "                MM_sparse = config.sparse_mat[0](MM)\n",
    "                working_indices = np.intersect1d(np.unique(MM_sparse.row),np.unique(MM_sparse.col))\n",
    "                MM_sparse = MM_sparse.tocsr()\n",
    "                #update closest_index\n",
    "                closest_index = working_indices[np.argmin(np.abs(working_indices - final_index))] #find the closest index in working_indices to final_index.\n",
    "                \n",
    "                i_prop += 1\n",
    "\n",
    "        #we have reached target state, thus we record the steps used.\n",
    "        total_steps = i_prop * config.propagation_step + reach * config.dcdfreq\n",
    "        print(\"total steps used: \", total_steps)\n",
    "\n",
    "        with open(\"./total_steps_mfpt.csv\", \"a\") as f:\n",
    "            writer = csv.writer(f)\n",
    "            writer.writerow([total_steps])\n",
    "\n",
    "        #save the pos_traj\n",
    "        np.savetxt(f\"./visited_states/{time_tag}_pos_traj.txt\", pos_traj)\n",
    "\n",
    "    \"\"\"from multiprocessing import Pool\n",
    "    \n",
    "    multi_process_result = []\n",
    "    for _ in range(config.num_sim//config.NUMBER_OF_PROCESSES):\n",
    "        with Pool(config.NUMBER_OF_PROCESSES) as p:\n",
    "            multi_process_result.extend(p.map(simulate_once, range(config.NUMBER_OF_PROCESSES)))\n",
    "\"\"\"\n",
    "print(\"all done\")\n"
   ]
  },
  {
   "cell_type": "code",
   "execution_count": 4,
   "metadata": {},
   "outputs": [
    {
     "data": {
      "text/plain": [
       "490.7893033190003"
      ]
     },
     "execution_count": 4,
     "metadata": {},
     "output_type": "execute_result"
    }
   ],
   "source": [
    "TIME1.best"
   ]
  },
  {
   "cell_type": "code",
   "execution_count": 4,
   "metadata": {},
   "outputs": [
    {
     "data": {
      "text/plain": [
       "array([0.04184   , 0.04184   , 0.04184   , 0.04184   , 0.04184   ,\n",
       "       0.04184   , 0.04184   , 0.04184   , 0.04184   , 0.04184   ,\n",
       "       0.04184   , 0.04184   , 0.04184   , 0.04184   , 0.04184   ,\n",
       "       0.04184   , 0.04184   , 0.04184   , 0.04184   , 0.04184   ,\n",
       "       1.93006573, 1.66835713, 1.8416719 , 2.31597601, 1.55843228,\n",
       "       2.23336044, 2.38793466, 1.86535852, 2.13711174, 1.71808267,\n",
       "       2.40904137, 1.56084391, 1.71245887, 1.92344673, 2.18928872,\n",
       "       2.10560723, 1.88467782, 1.80386112, 2.47301529, 2.21037727,\n",
       "       4.49965069, 6.07742285, 2.58236963, 3.4926577 , 3.61444423,\n",
       "       4.92156731, 4.2370975 , 2.86333773, 3.75117948, 5.03213536,\n",
       "       1.67815781, 0.64870149, 0.20405598, 1.11479101, 6.11502661,\n",
       "       3.01996509, 1.58868883, 3.85506198, 5.62998665, 3.43101277])"
      ]
     },
     "execution_count": 4,
     "metadata": {},
     "output_type": "execute_result"
    }
   ],
   "source": [
    "gaussian_params"
   ]
  },
  {
   "cell_type": "code",
   "execution_count": 5,
   "metadata": {},
   "outputs": [
    {
     "data": {
      "text/plain": [
       "100"
      ]
     },
     "execution_count": 5,
     "metadata": {},
     "output_type": "execute_result"
    }
   ],
   "source": [
    "i_prop"
   ]
  },
  {
   "cell_type": "code",
   "execution_count": 21,
   "metadata": {},
   "outputs": [],
   "source": [
    "def Markov_mfpt_calc_sparse(peq, M):\n",
    "    N = M.shape[0]\n",
    "    onevec = np.ones(N)\n",
    "    Idn = eye(N)  # Sparse identity matrix\n",
    "    print(\"peq: \",peq)\n",
    "    print(\"peq reshaped (-1,1)\",peq.reshape(-1,1))\n",
    "    A = config.sparse_mat[1](((peq.reshape(-1, 1)) @ onevec.T).T)\n",
    "    print(M.data)\n",
    "    print(Idn + A - M)\n",
    "    Qinv = linalg.inv(Idn + A - M)  # Sparse matrix inversion\n",
    "\n",
    "    mfpt = np.zeros((N, N))\n",
    "    for j in range(N):\n",
    "        for i in range(N):\n",
    "            term1 = Qinv[j, j] - Qinv[i, j] + Idn[i, j]\n",
    "            if peq[j] * term1 == 0:\n",
    "                mfpt[i, j] = 1e12  # Use a large number instead of explicit value\n",
    "            else:\n",
    "                mfpt[i, j] = 1/peq[j] * term1\n",
    "    return mfpt"
   ]
  },
  {
   "cell_type": "code",
   "execution_count": 33,
   "metadata": {},
   "outputs": [],
   "source": [
    "from scipy.linalg import inv"
   ]
  },
  {
   "cell_type": "code",
   "execution_count": 32,
   "metadata": {},
   "outputs": [
    {
     "name": "stdout",
     "output_type": "stream",
     "text": [
      "CPU times: user 10.8 ms, sys: 0 ns, total: 10.8 ms\n",
      "Wall time: 10.4 ms\n"
     ]
    },
    {
     "name": "stderr",
     "output_type": "stream",
     "text": [
      "/home/gsaba/miniconda3/envs/biophys_env/lib/python3.11/site-packages/scipy/sparse/linalg/_dsolve/linsolve.py:412: SparseEfficiencyWarning: splu converted its input to CSC format\n",
      "  warn('splu converted its input to CSC format', SparseEfficiencyWarning)\n",
      "/home/gsaba/miniconda3/envs/biophys_env/lib/python3.11/site-packages/scipy/sparse/linalg/_dsolve/linsolve.py:302: SparseEfficiencyWarning: spsolve is more efficient when sparse b is in the CSC matrix format\n",
      "  warn('spsolve is more efficient when sparse b '\n"
     ]
    },
    {
     "data": {
      "text/plain": [
       "<100x100 sparse matrix of type '<class 'numpy.float64'>'\n",
       "\twith 2476 stored elements in Compressed Sparse Row format>"
      ]
     },
     "execution_count": 32,
     "metadata": {},
     "output_type": "execute_result"
    }
   ],
   "source": [
    "%%time\n",
    "linalg.inv((Idn + A - M).astype('float64'))"
   ]
  },
  {
   "cell_type": "code",
   "execution_count": 35,
   "metadata": {},
   "outputs": [],
   "source": [
    "Q_dense = (Idn + A - M).astype('float64').toarray()"
   ]
  },
  {
   "cell_type": "code",
   "execution_count": 36,
   "metadata": {},
   "outputs": [
    {
     "name": "stdout",
     "output_type": "stream",
     "text": [
      "CPU times: user 853 ms, sys: 360 ms, total: 1.21 s\n",
      "Wall time: 82.2 ms\n"
     ]
    },
    {
     "data": {
      "text/plain": [
       "array([[ 1., -0.,  0., ..., -0.,  0., -0.],\n",
       "       [ 0.,  1.,  0., ..., -0.,  0., -0.],\n",
       "       [ 0.,  0.,  1., ..., -0.,  0., -0.],\n",
       "       ...,\n",
       "       [ 0.,  0.,  0., ...,  1.,  0., -0.],\n",
       "       [ 0.,  0.,  0., ...,  0.,  1., -0.],\n",
       "       [ 0.,  0.,  0., ...,  0.,  0.,  1.]])"
      ]
     },
     "execution_count": 36,
     "metadata": {},
     "output_type": "execute_result"
    }
   ],
   "source": [
    "%%time\n",
    "inv(Q_dense)"
   ]
  },
  {
   "cell_type": "code",
   "execution_count": 24,
   "metadata": {},
   "outputs": [
    {
     "data": {
      "text/plain": [
       "(100, 100)"
      ]
     },
     "execution_count": 24,
     "metadata": {},
     "output_type": "execute_result"
    }
   ],
   "source": [
    "Idn.shape"
   ]
  },
  {
   "cell_type": "code",
   "execution_count": 29,
   "metadata": {},
   "outputs": [],
   "source": [
    "peq = peq[:100]"
   ]
  },
  {
   "cell_type": "code",
   "execution_count": 26,
   "metadata": {},
   "outputs": [
    {
     "data": {
      "text/plain": [
       "(100, 108)"
      ]
     },
     "execution_count": 26,
     "metadata": {},
     "output_type": "execute_result"
    }
   ],
   "source": [
    "A.shape"
   ]
  },
  {
   "cell_type": "code",
   "execution_count": 36,
   "metadata": {},
   "outputs": [
    {
     "data": {
      "text/plain": [
       "array([1.00000000e+12, 1.00000000e+12, 1.00000000e+12, 1.00000000e+12,\n",
       "       1.00000000e+12, 1.00000000e+12, 1.00000000e+12, 1.00000000e+12,\n",
       "       1.00000000e+12, 1.00000000e+12, 1.00000000e+12, 1.00000000e+12,\n",
       "       1.00000000e+12, 1.00000000e+12, 1.00000000e+12, 1.00000000e+12,\n",
       "       1.00000000e+12, 1.00000000e+12, 1.00000000e+12, 1.00000000e+12,\n",
       "       1.00000000e+12, 1.00000000e+12, 1.00000000e+12, 1.00000000e+12,\n",
       "       1.00000000e+12, 1.00000000e+12, 1.00000000e+12, 1.00000000e+12,\n",
       "       3.62188324e+01, 3.46966066e+01, 4.48058018e+01, 5.47956375e+01,\n",
       "       4.44540330e+01, 4.67232899e+01, 4.88219649e+01, 3.17381696e+01,\n",
       "       2.44102012e+01, 1.46883066e+01, 6.63215695e+00, 1.08430610e+01,\n",
       "       3.81758771e+01, 2.74186962e+01, 2.31730459e+01, 1.00000000e+12,\n",
       "       1.00000000e+12, 1.00000000e+12, 1.00000000e+12, 1.00000000e+12,\n",
       "       1.00000000e+12, 1.00000000e+12, 1.00000000e+12, 1.00000000e+12,\n",
       "       1.00000000e+12, 1.00000000e+12, 1.00000000e+12, 1.00000000e+12,\n",
       "       1.00000000e+12, 1.00000000e+12, 1.00000000e+12, 1.00000000e+12,\n",
       "       1.00000000e+12, 1.00000000e+12, 1.00000000e+12, 1.00000000e+12,\n",
       "       1.00000000e+12, 1.00000000e+12, 1.00000000e+12, 1.00000000e+12,\n",
       "       1.00000000e+12, 1.00000000e+12, 1.00000000e+12, 1.00000000e+12,\n",
       "       1.00000000e+12, 1.00000000e+12, 1.00000000e+12, 1.00000000e+12,\n",
       "       1.00000000e+12, 1.00000000e+12, 1.00000000e+12, 1.00000000e+12,\n",
       "       1.00000000e+12, 1.00000000e+12, 1.00000000e+12, 1.00000000e+12,\n",
       "       1.00000000e+12, 1.00000000e+12, 1.00000000e+12, 1.00000000e+12,\n",
       "       1.00000000e+12, 1.00000000e+12, 1.00000000e+12, 1.00000000e+12,\n",
       "       1.00000000e+12, 1.00000000e+12, 1.00000000e+12, 1.00000000e+12,\n",
       "       1.00000000e+12, 1.00000000e+12, 1.00000000e+12, 1.00000000e+12])"
      ]
     },
     "execution_count": 36,
     "metadata": {},
     "output_type": "execute_result"
    }
   ],
   "source": [
    "mfpt_optimized_sparse.toarray()[40]"
   ]
  },
  {
   "cell_type": "code",
   "execution_count": 11,
   "metadata": {},
   "outputs": [],
   "source": [
    "from scipy.sparse import diags, eye\n",
    "from scipy.sparse import linalg,diags"
   ]
  },
  {
   "cell_type": "code",
   "execution_count": 12,
   "metadata": {},
   "outputs": [
    {
     "name": "stdout",
     "output_type": "stream",
     "text": [
      "peq:  [0.         0.         0.         0.         0.         0.\n",
      " 0.         0.         0.         0.         0.         0.\n",
      " 0.         0.         0.         0.         0.         0.\n",
      " 0.         0.         0.         0.         0.         0.\n",
      " 0.         0.         0.         0.         0.06067021 0.06146722\n",
      " 0.0622529  0.0630296  0.06380288 0.06458124 0.06537591 0.06620055\n",
      " 0.06707084 0.06800414 0.06901899 0.07013462 0.07137035 0.0727449\n",
      " 0.07427566 0.         0.         0.         0.         0.\n",
      " 0.         0.         0.         0.         0.         0.\n",
      " 0.         0.         0.         0.         0.         0.\n",
      " 0.         0.         0.         0.         0.         0.\n",
      " 0.         0.         0.         0.         0.         0.\n",
      " 0.         0.         0.         0.         0.         0.\n",
      " 0.         0.         0.         0.         0.         0.\n",
      " 0.         0.         0.         0.         0.         0.\n",
      " 0.         0.         0.         0.         0.         0.\n",
      " 0.         0.         0.         0.        ]\n",
      "peq reshaped (-1,1) [[0.        ]\n",
      " [0.        ]\n",
      " [0.        ]\n",
      " [0.        ]\n",
      " [0.        ]\n",
      " [0.        ]\n",
      " [0.        ]\n",
      " [0.        ]\n",
      " [0.        ]\n",
      " [0.        ]\n",
      " [0.        ]\n",
      " [0.        ]\n",
      " [0.        ]\n",
      " [0.        ]\n",
      " [0.        ]\n",
      " [0.        ]\n",
      " [0.        ]\n",
      " [0.        ]\n",
      " [0.        ]\n",
      " [0.        ]\n",
      " [0.        ]\n",
      " [0.        ]\n",
      " [0.        ]\n",
      " [0.        ]\n",
      " [0.        ]\n",
      " [0.        ]\n",
      " [0.        ]\n",
      " [0.        ]\n",
      " [0.06067021]\n",
      " [0.06146722]\n",
      " [0.0622529 ]\n",
      " [0.0630296 ]\n",
      " [0.06380288]\n",
      " [0.06458124]\n",
      " [0.06537591]\n",
      " [0.06620055]\n",
      " [0.06707084]\n",
      " [0.06800414]\n",
      " [0.06901899]\n",
      " [0.07013462]\n",
      " [0.07137035]\n",
      " [0.0727449 ]\n",
      " [0.07427566]\n",
      " [0.        ]\n",
      " [0.        ]\n",
      " [0.        ]\n",
      " [0.        ]\n",
      " [0.        ]\n",
      " [0.        ]\n",
      " [0.        ]\n",
      " [0.        ]\n",
      " [0.        ]\n",
      " [0.        ]\n",
      " [0.        ]\n",
      " [0.        ]\n",
      " [0.        ]\n",
      " [0.        ]\n",
      " [0.        ]\n",
      " [0.        ]\n",
      " [0.        ]\n",
      " [0.        ]\n",
      " [0.        ]\n",
      " [0.        ]\n",
      " [0.        ]\n",
      " [0.        ]\n",
      " [0.        ]\n",
      " [0.        ]\n",
      " [0.        ]\n",
      " [0.        ]\n",
      " [0.        ]\n",
      " [0.        ]\n",
      " [0.        ]\n",
      " [0.        ]\n",
      " [0.        ]\n",
      " [0.        ]\n",
      " [0.        ]\n",
      " [0.        ]\n",
      " [0.        ]\n",
      " [0.        ]\n",
      " [0.        ]\n",
      " [0.        ]\n",
      " [0.        ]\n",
      " [0.        ]\n",
      " [0.        ]\n",
      " [0.        ]\n",
      " [0.        ]\n",
      " [0.        ]\n",
      " [0.        ]\n",
      " [0.        ]\n",
      " [0.        ]\n",
      " [0.        ]\n",
      " [0.        ]\n",
      " [0.        ]\n",
      " [0.        ]\n",
      " [0.        ]\n",
      " [0.        ]\n",
      " [0.        ]\n",
      " [0.        ]\n",
      " [0.        ]\n",
      " [0.        ]]\n"
     ]
    },
    {
     "ename": "ValueError",
     "evalue": "matmul: Input operand 1 has a mismatch in its core dimension 0, with gufunc signature (n?,k),(k,m?)->(n?,m?) (size 100 is different from 1)",
     "output_type": "error",
     "traceback": [
      "\u001b[0;31m---------------------------------------------------------------------------\u001b[0m",
      "\u001b[0;31mValueError\u001b[0m                                Traceback (most recent call last)",
      "\u001b[1;32m/home/gsaba/MarkovMastersProject/RL_MFPT/1D_langevin_sim/mfpt_opt_playground.ipynb Cell 19\u001b[0m line \u001b[0;36m1\n\u001b[0;32m----> <a href='vscode-notebook-cell://wsl%2Bubuntu/home/gsaba/MarkovMastersProject/RL_MFPT/1D_langevin_sim/mfpt_opt_playground.ipynb#X22sdnNjb2RlLXJlbW90ZQ%3D%3D?line=0'>1</a>\u001b[0m Markov_mfpt_calc_sparse(peq, bias_mat)\n",
      "\u001b[1;32m/home/gsaba/MarkovMastersProject/RL_MFPT/1D_langevin_sim/mfpt_opt_playground.ipynb Cell 19\u001b[0m line \u001b[0;36m7\n\u001b[1;32m      <a href='vscode-notebook-cell://wsl%2Bubuntu/home/gsaba/MarkovMastersProject/RL_MFPT/1D_langevin_sim/mfpt_opt_playground.ipynb#X22sdnNjb2RlLXJlbW90ZQ%3D%3D?line=4'>5</a>\u001b[0m \u001b[39mprint\u001b[39m(\u001b[39m\"\u001b[39m\u001b[39mpeq: \u001b[39m\u001b[39m\"\u001b[39m,peq)\n\u001b[1;32m      <a href='vscode-notebook-cell://wsl%2Bubuntu/home/gsaba/MarkovMastersProject/RL_MFPT/1D_langevin_sim/mfpt_opt_playground.ipynb#X22sdnNjb2RlLXJlbW90ZQ%3D%3D?line=5'>6</a>\u001b[0m \u001b[39mprint\u001b[39m(\u001b[39m\"\u001b[39m\u001b[39mpeq reshaped (-1,1)\u001b[39m\u001b[39m\"\u001b[39m,peq\u001b[39m.\u001b[39mreshape(\u001b[39m-\u001b[39m\u001b[39m1\u001b[39m,\u001b[39m1\u001b[39m))\n\u001b[0;32m----> <a href='vscode-notebook-cell://wsl%2Bubuntu/home/gsaba/MarkovMastersProject/RL_MFPT/1D_langevin_sim/mfpt_opt_playground.ipynb#X22sdnNjb2RlLXJlbW90ZQ%3D%3D?line=6'>7</a>\u001b[0m A \u001b[39m=\u001b[39m config\u001b[39m.\u001b[39msparse_mat[\u001b[39m1\u001b[39m](((peq\u001b[39m.\u001b[39;49mreshape(\u001b[39m-\u001b[39;49m\u001b[39m1\u001b[39;49m, \u001b[39m1\u001b[39;49m)) \u001b[39m@\u001b[39;49m onevec\u001b[39m.\u001b[39;49mT)\u001b[39m.\u001b[39mT)\n\u001b[1;32m      <a href='vscode-notebook-cell://wsl%2Bubuntu/home/gsaba/MarkovMastersProject/RL_MFPT/1D_langevin_sim/mfpt_opt_playground.ipynb#X22sdnNjb2RlLXJlbW90ZQ%3D%3D?line=7'>8</a>\u001b[0m \u001b[39mprint\u001b[39m(M\u001b[39m.\u001b[39mdata)\n\u001b[1;32m      <a href='vscode-notebook-cell://wsl%2Bubuntu/home/gsaba/MarkovMastersProject/RL_MFPT/1D_langevin_sim/mfpt_opt_playground.ipynb#X22sdnNjb2RlLXJlbW90ZQ%3D%3D?line=8'>9</a>\u001b[0m \u001b[39mprint\u001b[39m(Idn \u001b[39m+\u001b[39m A \u001b[39m-\u001b[39m M)\n",
      "\u001b[0;31mValueError\u001b[0m: matmul: Input operand 1 has a mismatch in its core dimension 0, with gufunc signature (n?,k),(k,m?)->(n?,m?) (size 100 is different from 1)"
     ]
    }
   ],
   "source": [
    "Markov_mfpt_calc_sparse(peq, bias_mat)"
   ]
  },
  {
   "cell_type": "code",
   "execution_count": 4,
   "metadata": {},
   "outputs": [
    {
     "data": {
      "text/plain": [
       "array([1.        , 0.50259762, 0.49740238, 1.        , 0.20071176,\n",
       "       0.40029615, 0.19969948, 0.19929261, 0.14321546, 0.57157787,\n",
       "       0.28520667, 0.08391362, 0.1669808 , 0.49992177, 0.16627136,\n",
       "       0.08291246, 0.20057046, 0.4002521 , 0.39917744, 0.16790454,\n",
       "       0.16753251, 0.16708269, 0.16652821, 0.16586175, 0.16509031,\n",
       "       0.50306022, 0.49693978, 0.67048231, 0.32951769, 0.50116548,\n",
       "       0.49883452, 0.33642846, 0.66357154], dtype=float128)"
      ]
     },
     "execution_count": 4,
     "metadata": {},
     "output_type": "execute_result"
    }
   ],
   "source": [
    "MM_sparse.data"
   ]
  },
  {
   "cell_type": "code",
   "execution_count": 6,
   "metadata": {},
   "outputs": [
    {
     "name": "stdout",
     "output_type": "stream",
     "text": [
      "[]\n"
     ]
    }
   ],
   "source": [
    "print(csr_matrix(np.zeros((5,5))).data)"
   ]
  },
  {
   "cell_type": "code",
   "execution_count": 4,
   "metadata": {},
   "outputs": [
    {
     "name": "stdout",
     "output_type": "stream",
     "text": [
      "  (29, 29)\t0.3332803572911920194\n",
      "  (29, 30)\t0.6667196427088079806\n",
      "  (30, 29)\t0.33335530786434554548\n",
      "  (30, 31)\t0.6666446921356544545\n",
      "  (31, 29)\t0.25042258794774740468\n",
      "  (31, 30)\t0.2504822962261473101\n",
      "  (31, 33)\t0.24980056624349338352\n",
      "  (31, 34)\t0.24929454958261190167\n",
      "  (32, 31)\t1.0\n",
      "  (33, 33)\t0.33378409375424774843\n",
      "  (33, 34)\t0.66621590624575225157\n",
      "  (34, 32)\t0.2011740994518226312\n",
      "  (34, 33)\t0.20087721366960539249\n",
      "  (34, 35)\t0.19995818209381306999\n",
      "  (34, 36)\t0.19934691037578208208\n",
      "  (34, 37)\t0.19864359440897682424\n",
      "  (35, 34)\t0.40085887530288522926\n",
      "  (35, 35)\t0.39983484787837184025\n",
      "  (35, 36)\t0.19930627681874293048\n",
      "  (36, 34)\t0.25130545563339104994\n",
      "  (36, 35)\t0.2506634748906570818\n",
      "  (36, 37)\t0.49803106947595186826\n",
      "  (37, 35)\t0.16797158512862434545\n",
      "  (37, 36)\t0.33491619273278013137\n",
      "  (37, 38)\t0.33241171407365481302\n",
      "  (37, 40)\t0.16470050806494071014\n",
      "  (38, 39)\t1.0\n",
      "  (39, 37)\t0.3354526787922488724\n",
      "  (39, 39)\t0.49899891592191072395\n",
      "  (39, 40)\t0.16554840528584040366\n",
      "  (40, 37)\t0.25280918856656380746\n",
      "  (40, 39)\t0.25070900508531606158\n",
      "  (40, 40)\t0.24952644980797214942\n",
      "  (40, 42)\t0.24695535654014798154\n",
      "  (42, 40)\t0.3356389245306986798\n",
      "  (42, 42)\t0.66436107546930132017\n"
     ]
    }
   ],
   "source": [
    "print(MM_sparse)"
   ]
  },
  {
   "cell_type": "code",
   "execution_count": null,
   "metadata": {},
   "outputs": [],
   "source": []
  }
 ],
 "metadata": {
  "kernelspec": {
   "display_name": "biophys_env",
   "language": "python",
   "name": "python3"
  },
  "language_info": {
   "codemirror_mode": {
    "name": "ipython",
    "version": 3
   },
   "file_extension": ".py",
   "mimetype": "text/x-python",
   "name": "python",
   "nbconvert_exporter": "python",
   "pygments_lexer": "ipython3",
   "version": "3.11.6"
  }
 },
 "nbformat": 4,
 "nbformat_minor": 2
}
