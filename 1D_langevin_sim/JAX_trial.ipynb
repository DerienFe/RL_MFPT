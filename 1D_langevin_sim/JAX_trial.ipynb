{
 "cells": [
  {
   "cell_type": "markdown",
   "metadata": {},
   "source": [
    "### JAX Implementation experimentation\n",
    "\n",
    "Below I will first eperiment with different sparse matrix structures available in JAX and then I will work on converting all the main functions to Jax sparse format. I will be optimising Markov_mfpt_cal, compute_free_energy, try_and_optim_MM and others."
   ]
  },
  {
   "cell_type": "code",
   "execution_count": 3,
   "metadata": {},
   "outputs": [],
   "source": [
    "import jax.experimental.sparse as jes\n",
    "import jax.numpy as jnp\n",
    "from jax import random\n",
    "import jax.experimental.sparse.csr as csr\n",
    "from scipy.sparse import random\n",
    "from scipy.sparse.linalg import eigs"
   ]
  },
  {
   "cell_type": "code",
   "execution_count": 4,
   "metadata": {},
   "outputs": [
    {
     "ename": "TypeError",
     "evalue": "CSR.__init__() missing 1 required keyword-only argument: 'shape'",
     "output_type": "error",
     "traceback": [
      "\u001b[0;31m---------------------------------------------------------------------------\u001b[0m",
      "\u001b[0;31mTypeError\u001b[0m                                 Traceback (most recent call last)",
      "\u001b[1;32m/home/gsaba/MarkovMastersProject/RL_MFPT/1D_langevin_sim/JAX_trial.ipynb Cell 3\u001b[0m line \u001b[0;36m1\n\u001b[0;32m----> <a href='vscode-notebook-cell://wsl%2Bubuntu/home/gsaba/MarkovMastersProject/RL_MFPT/1D_langevin_sim/JAX_trial.ipynb#W6sdnNjb2RlLXJlbW90ZQ%3D%3D?line=0'>1</a>\u001b[0m csr\u001b[39m.\u001b[39;49mCSR(BCOO_test)\n",
      "\u001b[0;31mTypeError\u001b[0m: CSR.__init__() missing 1 required keyword-only argument: 'shape'"
     ]
    }
   ],
   "source": [
    "csr.CSR(BCOO_test)"
   ]
  },
  {
   "cell_type": "code",
   "execution_count": 3,
   "metadata": {},
   "outputs": [
    {
     "name": "stderr",
     "output_type": "stream",
     "text": [
      "/home/gsaba/miniconda3/envs/biophys_env/lib/python3.11/site-packages/jax/experimental/sparse/random.py:86: UserWarning: Explicitly requested dtype <class 'jax.numpy.float64'>  is not available, and will be truncated to dtype float32. To enable more dtypes, set the jax_enable_x64 configuration option or the JAX_ENABLE_X64 shell environment variable. See https://github.com/google/jax#current-gotchas for more.\n",
      "  data = generator(data_key, shape=data_shape, dtype=dtype, **kwds)\n"
     ]
    }
   ],
   "source": [
    "BCOO_test = jes.random_bcoo(random.PRNGKey(0),shape=(10000,10000))"
   ]
  },
  {
   "cell_type": "code",
   "execution_count": 2,
   "metadata": {},
   "outputs": [],
   "source": [
    "normal_csr_test = random(1000,1000,density=0.2)"
   ]
  },
  {
   "cell_type": "code",
   "execution_count": 23,
   "metadata": {},
   "outputs": [
    {
     "ename": "AttributeError",
     "evalue": "'BCOO' object has no attribute 'matvec'",
     "output_type": "error",
     "traceback": [
      "\u001b[0;31m---------------------------------------------------------------------------\u001b[0m",
      "\u001b[0;31mAttributeError\u001b[0m                            Traceback (most recent call last)",
      "\u001b[1;32mUntitled-1.ipynb Cell 4\u001b[0m line \u001b[0;36m1\n\u001b[0;32m----> <a href='vscode-notebook-cell:Untitled-1.ipynb?jupyter-notebook#W5sdW50aXRsZWQ%3D?line=0'>1</a>\u001b[0m BCOO_test\u001b[39m.\u001b[39;49mmatvec\n",
      "\u001b[0;31mAttributeError\u001b[0m: 'BCOO' object has no attribute 'matvec'"
     ]
    }
   ],
   "source": [
    "BCOO_test.matvec"
   ]
  },
  {
   "cell_type": "code",
   "execution_count": 4,
   "metadata": {},
   "outputs": [
    {
     "name": "stdout",
     "output_type": "stream",
     "text": [
      "CPU times: user 6.99 s, sys: 17 s, total: 24 s\n",
      "Wall time: 2.69 s\n"
     ]
    },
    {
     "data": {
      "text/plain": [
       "(array([100.06540458+0.j        ,   3.40916759+6.9502882j ,\n",
       "          3.40916759-6.9502882j ,   7.70328054+0.j        ,\n",
       "          0.20328932+7.55916309j,   0.20328932-7.55916309j]),\n",
       " array([[ 0.02713508+0.j        , -0.01511249-0.00879057j,\n",
       "         -0.01511249+0.00879057j,  0.00409848+0.j        ,\n",
       "         -0.00871203-0.00102738j, -0.00871203+0.00102738j],\n",
       "        [ 0.02976233+0.j        , -0.02410505-0.01201209j,\n",
       "         -0.02410505+0.01201209j,  0.03043427+0.j        ,\n",
       "          0.01464009+0.00161577j,  0.01464009-0.00161577j],\n",
       "        [ 0.02862622+0.j        , -0.00400549-0.03122786j,\n",
       "         -0.00400549+0.03122786j, -0.03057455+0.j        ,\n",
       "         -0.01222298+0.00755266j, -0.01222298-0.00755266j],\n",
       "        ...,\n",
       "        [ 0.03391066+0.j        , -0.02452753-0.03077573j,\n",
       "         -0.02452753+0.03077573j,  0.00623749+0.j        ,\n",
       "         -0.04350263-0.03361048j, -0.04350263+0.03361048j],\n",
       "        [ 0.03305111+0.j        , -0.02330882+0.01662135j,\n",
       "         -0.02330882-0.01662135j, -0.02572479+0.j        ,\n",
       "         -0.00454336-0.01086687j, -0.00454336+0.01086687j],\n",
       "        [ 0.03343324+0.j        , -0.03415335-0.00911527j,\n",
       "         -0.03415335+0.00911527j,  0.0124838 +0.j        ,\n",
       "         -0.00180288-0.00906537j, -0.00180288+0.00906537j]]))"
      ]
     },
     "execution_count": 4,
     "metadata": {},
     "output_type": "execute_result"
    }
   ],
   "source": [
    "%%time\n",
    "jes.linalg.linalg.eigs(normal_csr_test)"
   ]
  },
  {
   "cell_type": "code",
   "execution_count": 5,
   "metadata": {},
   "outputs": [
    {
     "name": "stdout",
     "output_type": "stream",
     "text": [
      "CPU times: user 5.45 s, sys: 16.9 s, total: 22.3 s\n",
      "Wall time: 1.62 s\n"
     ]
    },
    {
     "data": {
      "text/plain": [
       "(array([100.06540458+0.j        ,   0.20328932+7.55916309j,\n",
       "          0.20328932-7.55916309j,   7.70328054+0.j        ,\n",
       "         -6.71714218+3.486716j  ,  -6.71714218-3.486716j  ]),\n",
       " array([[ 0.02713508+0.j        , -0.00872776-0.00088381j,\n",
       "         -0.00872776+0.00088381j,  0.00409848+0.j        ,\n",
       "         -0.0030725 +0.04991164j, -0.0030725 -0.04991164j],\n",
       "        [ 0.02976233+0.j        ,  0.01466471+0.00137453j,\n",
       "          0.01466471-0.00137453j,  0.03043427+0.j        ,\n",
       "         -0.0082053 -0.02453507j, -0.0082053 +0.02453507j],\n",
       "        [ 0.02862622+0.j        , -0.01209698+0.00775286j,\n",
       "         -0.01209698-0.00775286j, -0.03057455+0.j        ,\n",
       "          0.00962322-0.02494968j,  0.00962322+0.02494968j],\n",
       "        ...,\n",
       "        [ 0.03391066+0.j        , -0.04405006-0.03288974j,\n",
       "         -0.04405006+0.03288974j,  0.00623749+0.j        ,\n",
       "         -0.0058116 +0.01184868j, -0.0058116 -0.01184868j],\n",
       "        [ 0.03305111+0.j        , -0.00472165-0.0107906j ,\n",
       "         -0.00472165+0.0107906j , -0.02572479+0.j        ,\n",
       "         -0.0034409 +0.0244817j , -0.0034409 -0.0244817j ],\n",
       "        [ 0.03343324+0.j        , -0.00195187-0.00903446j,\n",
       "         -0.00195187+0.00903446j,  0.0124838 +0.j        ,\n",
       "          0.02887941-0.0141087j ,  0.02887941+0.0141087j ]]))"
      ]
     },
     "execution_count": 5,
     "metadata": {},
     "output_type": "execute_result"
    }
   ],
   "source": [
    "%%time\n",
    "eigs(normal_csr_test)"
   ]
  },
  {
   "cell_type": "code",
   "execution_count": null,
   "metadata": {},
   "outputs": [],
   "source": []
  },
  {
   "cell_type": "code",
   "execution_count": null,
   "metadata": {},
   "outputs": [],
   "source": [
    "jes.linalg.linag.eigs()"
   ]
  }
 ],
 "metadata": {
  "kernelspec": {
   "display_name": "biophys_env",
   "language": "python",
   "name": "python3"
  },
  "language_info": {
   "codemirror_mode": {
    "name": "ipython",
    "version": 3
   },
   "file_extension": ".py",
   "mimetype": "text/x-python",
   "name": "python",
   "nbconvert_exporter": "python",
   "pygments_lexer": "ipython3",
   "version": "3.11.6"
  }
 },
 "nbformat": 4,
 "nbformat_minor": 2
}
