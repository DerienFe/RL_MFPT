{
 "cells": [
  {
   "cell_type": "code",
   "execution_count": 2,
   "metadata": {},
   "outputs": [],
   "source": [
    "from numba import prange, njit\n",
    "from tqdm import tqdm\n",
    "import matplotlib.pyplot as plt"
   ]
  },
  {
   "cell_type": "code",
   "execution_count": 61,
   "metadata": {},
   "outputs": [],
   "source": [
    "import numpy as np\n",
    "from numba import njit\n",
    "from scipy.sparse import random,csr_matrix\n",
    "from util_old import Markov_mfpt_calc, compute_free_energy\n",
    "\n",
    "def test_MM(size,density = 0.4):\n",
    "    M = random(size,size,density = density)\n",
    "    MM_dense = M.toarray()\n",
    "    for i in range(len(MM_dense)):\n",
    "        sum = np.sum(MM_dense[i])\n",
    "        MM_dense[i] = MM_dense[i]/sum\n",
    "    return MM_dense\n",
    "def check_kemeny(MFPT,peq):\n",
    "    n = MFPT.shape[0]\n",
    "    TEST = np.zeros(n)\n",
    "    for i in range(n):\n",
    "        for j in range(n):\n",
    "            TEST[i] += MFPT[i,j] * peq[j]\n",
    "    return TEST\n",
    "\n",
    "def jjhunter(P):\n",
    "    P = np.array(P, dtype=np.float64)  # Using double precision\n",
    "    m = len(P)\n",
    "    I = np.eye(m, dtype=np.float64)\n",
    "    e1 = np.ones((m, 1), dtype=np.float64)\n",
    "    E = np.ones((m, m), dtype=np.float64)\n",
    "    PPD = P.copy()\n",
    "    AASD = np.zeros((m, m), dtype=np.float64)\n",
    "    SD = np.zeros(m)\n",
    "\n",
    "    for n in range(m-1, 0, -1):\n",
    "        #print(n,PPD[n, :n])\n",
    "        SD[n] = np.sum(PPD[n, :n])\n",
    "        #print(SD)\n",
    "        for i in range(n):\n",
    "            for j in range(n):\n",
    "                AASD[i, j] = PPD[i, n] * PPD[n, j] / SD[n]\n",
    "                PPD[i, j] += AASD[i, j]\n",
    "    #print(AASD,'\\n', PPD)\n",
    "\n",
    "    rD = np.zeros(m, dtype=np.float64)\n",
    "    rD[0] = 1\n",
    "    for n in range(1, m):\n",
    "        for i in range(n):\n",
    "            rD[n] += rD[i] * PPD[i, n] / SD[n]\n",
    "\n",
    "    TOTD = np.sum(rD)\n",
    "    pit_1D = rD / TOTD\n",
    "    PiD = e1 @ pit_1D.reshape(1, -1)\n",
    "    ZD = np.linalg.inv(I - P + PiD)\n",
    "    DD = np.linalg.inv(np.diag(np.diag(PiD)))\n",
    "    MD = (I - ZD + E @ np.diag(np.diag(ZD))) @ DD\n",
    "    return MD\n",
    "\n",
    "\n",
    "def jjhunter_wrapped(P):\n",
    "    @njit()\n",
    "    def jjhelper(m,PPD,SD,rD):\n",
    "        for n in range(m-1, 0, -1):\n",
    "            #print(n,PPD[n, :n])\n",
    "            SD[n] = np.sum(PPD[n, :n])\n",
    "            #print(SD)\n",
    "            for i in range(n):\n",
    "                for j in range(n):\n",
    "                    PPD[i,j] += PPD[i, n] * PPD[n, j] / SD[n]\n",
    "        rD[0] = 1\n",
    "        for n in range(1, m):\n",
    "            for i in range(n):\n",
    "                rD[n] += rD[i] * PPD[i, n] / SD[n]\n",
    "        return PPD,rD\n",
    "    \n",
    "    P = np.array(P, dtype=np.float64)  # Using double precision\n",
    "    m = len(P)\n",
    "    I = np.eye(m, dtype=np.float64)\n",
    "    e1 = np.ones((m, 1), dtype=np.float64)\n",
    "    E = np.ones((m, m), dtype=np.float64)\n",
    "    PPD = P.copy()\n",
    "    rD = np.zeros(m, dtype=np.float64)\n",
    "    \n",
    "    PPD, rD = jjhelper(m,PPD,rD.copy(),rD)\n",
    "    TOTD = np.sum(rD)\n",
    "    pit_1D = rD / TOTD\n",
    "    PiD = e1 @ pit_1D.reshape(1, -1)\n",
    "    ZD = np.linalg.inv(I - P + PiD)\n",
    "    DD = np.linalg.inv(np.diag(np.diag(PiD)))\n",
    "    MD = (I - ZD + E @ np.diag(np.diag(ZD))) @ DD\n",
    "    return MD\n",
    "\n",
    "@njit(parallel=True)\n",
    "def jjhelper(m,PPD,SD,rD):\n",
    "    for n in range(m-1, 0, -1):\n",
    "        #print(n,PPD[n, :n])\n",
    "        SD[n] = np.sum(PPD[n, :n])\n",
    "        #print(SD)\n",
    "        for i in range(n):\n",
    "            for j in range(n):\n",
    "                PPD[i,j] += PPD[i, n] * PPD[n, j] / SD[n]\n",
    "    rD[0] = 1\n",
    "    for n in prange(1, m):\n",
    "        for i in range(n):\n",
    "            rD[n] += rD[i] * PPD[i, n] / SD[n]\n",
    "    return PPD,rD\n",
    "\n",
    "\n",
    "def jjhunter_numba(P):\n",
    "    P = np.array(P, dtype=np.float64)  # Using double precision\n",
    "    m = len(P)\n",
    "    I = np.eye(m, dtype=np.float64)\n",
    "    e1 = np.ones((m, 1), dtype=np.float64)\n",
    "    E = np.ones((m, m), dtype=np.float64)\n",
    "    PPD = P.copy()\n",
    "    rD = np.zeros(m, dtype=np.float64)\n",
    "    \n",
    "    PPD, rD = jjhelper(m,PPD,rD.copy(),rD)\n",
    "    TOTD = np.sum(rD)\n",
    "    pit_1D = rD / TOTD\n",
    "    PiD = e1 @ pit_1D.reshape(1, -1)\n",
    "    ZD = np.linalg.inv(I - P + PiD)\n",
    "    DD = np.linalg.inv(np.diag(np.diag(PiD)))\n",
    "    MD = (I - ZD + E @ np.diag(np.diag(ZD))) @ DD\n",
    "    return MD\n"
   ]
  },
  {
   "cell_type": "code",
   "execution_count": null,
   "metadata": {},
   "outputs": [],
   "source": [
    "M_1000 = "
   ]
  },
  {
   "cell_type": "code",
   "execution_count": 32,
   "metadata": {},
   "outputs": [
    {
     "data": {
      "text/plain": [
       "array([[3.43923244, 2.72729497, 2.17656639],\n",
       "       [3.39112654, 3.17428735, 1.62641053],\n",
       "       [1.58963005, 2.85398055, 2.53674406]])"
      ]
     },
     "execution_count": 32,
     "metadata": {},
     "output_type": "execute_result"
    }
   ],
   "source": [
    "Markov_mfpt_calc(compute_free_energy(P.T)[0],P)"
   ]
  },
  {
   "cell_type": "code",
   "execution_count": 71,
   "metadata": {},
   "outputs": [
    {
     "data": {
      "text/plain": [
       "array([[2.12465365, 2.41503427, 5.288825  ],\n",
       "       [2.10789656, 2.82436685, 3.95190861],\n",
       "       [1.03325414, 2.57366158, 5.70537237]])"
      ]
     },
     "execution_count": 71,
     "metadata": {},
     "output_type": "execute_result"
    }
   ],
   "source": [
    "jjhunter_wrapped(P)"
   ]
  },
  {
   "cell_type": "code",
   "execution_count": 56,
   "metadata": {},
   "outputs": [
    {
     "data": {
      "text/plain": [
       "array([[2.12465365, 2.41503427, 5.288825  ],\n",
       "       [2.10789656, 2.82436685, 3.95190861],\n",
       "       [1.03325414, 2.57366158, 5.70537237]])"
      ]
     },
     "execution_count": 56,
     "metadata": {},
     "output_type": "execute_result"
    }
   ],
   "source": [
    "jjhunter(P)"
   ]
  },
  {
   "cell_type": "code",
   "execution_count": 8,
   "metadata": {},
   "outputs": [
    {
     "data": {
      "text/plain": [
       "array([[2.12465365, 2.41503427, 5.288825  ],\n",
       "       [2.10789656, 2.82436685, 3.95190861],\n",
       "       [1.03325414, 2.57366158, 5.70537237]])"
      ]
     },
     "execution_count": 8,
     "metadata": {},
     "output_type": "execute_result"
    }
   ],
   "source": [
    "# Example matrix P\n",
    "P = np.array([[0.4211, 0.4247, 0.1542],\n",
    "              [0.2808, 0.2743, 0.445 ],\n",
    "              [0.9873, 0.3257, 0.1018]])\n",
    "\n",
    "# Running the function with the provided matrix\n",
    "jjhunter(P)"
   ]
  },
  {
   "cell_type": "code",
   "execution_count": 6,
   "metadata": {},
   "outputs": [
    {
     "name": "stdout",
     "output_type": "stream",
     "text": [
      "CPU times: user 404 µs, sys: 249 µs, total: 653 µs\n",
      "Wall time: 479 µs\n"
     ]
    },
    {
     "data": {
      "text/plain": [
       "array([[2.12465365, 2.41503427, 5.288825  ],\n",
       "       [2.10789656, 2.82436685, 3.95190861],\n",
       "       [1.03325414, 2.57366158, 5.70537237]])"
      ]
     },
     "execution_count": 6,
     "metadata": {},
     "output_type": "execute_result"
    }
   ],
   "source": [
    "%%time\n",
    "jjhunter(P)"
   ]
  },
  {
   "cell_type": "code",
   "execution_count": 5,
   "metadata": {},
   "outputs": [
    {
     "name": "stderr",
     "output_type": "stream",
     "text": [
      "/home/gsaba/miniconda3/envs/biophys_env/lib/python3.11/site-packages/numba/np/ufunc/parallel.py:371: NumbaWarning: The TBB threading layer requires TBB version 2021 update 6 or later i.e., TBB_INTERFACE_VERSION >= 12060. Found TBB_INTERFACE_VERSION = 12050. The TBB threading layer is disabled.\n",
      "  warnings.warn(problem)\n"
     ]
    },
    {
     "name": "stdout",
     "output_type": "stream",
     "text": [
      "CPU times: user 1.36 s, sys: 34 ms, total: 1.39 s\n",
      "Wall time: 1.51 s\n"
     ]
    },
    {
     "data": {
      "text/plain": [
       "array([[2.12465365, 2.41503427, 5.288825  ],\n",
       "       [2.10789656, 2.82436685, 3.95190861],\n",
       "       [1.03325414, 2.57366158, 5.70537237]])"
      ]
     },
     "execution_count": 5,
     "metadata": {},
     "output_type": "execute_result"
    }
   ],
   "source": [
    "%%time\n",
    "jjhunter_numba(P)"
   ]
  },
  {
   "cell_type": "code",
   "execution_count": 8,
   "metadata": {},
   "outputs": [
    {
     "name": "stdout",
     "output_type": "stream",
     "text": [
      "CPU times: user 8.59 ms, sys: 4.33 ms, total: 12.9 ms\n",
      "Wall time: 5.74 ms\n"
     ]
    },
    {
     "data": {
      "text/plain": [
       "array([[3.43923244, 2.72729497, 2.17656639],\n",
       "       [3.39112654, 3.17428735, 1.62641053],\n",
       "       [1.58963005, 2.85398055, 2.53674406]])"
      ]
     },
     "execution_count": 8,
     "metadata": {},
     "output_type": "execute_result"
    }
   ],
   "source": [
    "%%time\n",
    "peq = compute_free_energy(P)[0]\n",
    "Markov_mfpt_calc(peq.T,P)"
   ]
  },
  {
   "cell_type": "code",
   "execution_count": 9,
   "metadata": {},
   "outputs": [],
   "source": [
    "def test_MFPT(func1, func2):\n",
    "    for i in np.linspace(10,500,10):\n",
    "        MM = test_MM(int(i))\n",
    "        assert np.allclose(func1(MM),func2(MM))\n",
    "    return 'all good'"
   ]
  },
  {
   "cell_type": "code",
   "execution_count": 10,
   "metadata": {},
   "outputs": [
    {
     "data": {
      "text/plain": [
       "'all good'"
      ]
     },
     "execution_count": 10,
     "metadata": {},
     "output_type": "execute_result"
    }
   ],
   "source": [
    "test_MFPT(jjhunter,jjhunter_numba)"
   ]
  },
  {
   "cell_type": "code",
   "execution_count": 11,
   "metadata": {},
   "outputs": [],
   "source": [
    "#### cross checked with matlab implementation\n",
    "jj_test = np.array([[0.10527377, 0.1817953 , 0.0708085 , 0.03873914, 0.18655596,\n",
    "        0.05958668, 0.05948819, 0.0272113 , 0.13918155, 0.13135961],\n",
    "       [0.00363416, 0.08425522, 0.16957946, 0.12625847, 0.05253766,\n",
    "        0.10727298, 0.20501035, 0.06345117, 0.03550366, 0.15249685],\n",
    "       [0.14614697, 0.02061316, 0.15096585, 0.18595542, 0.07533686,\n",
    "        0.11858288, 0.10736863, 0.06428107, 0.00865713, 0.12209203],\n",
    "       [0.15780383, 0.2008256 , 0.02980625, 0.1843092 , 0.04394148,\n",
    "        0.01010617, 0.05958006, 0.17966403, 0.02727216, 0.10669121],\n",
    "       [0.03509584, 0.21903654, 0.01662006, 0.03393923, 0.03569386,\n",
    "        0.14582061, 0.00321775, 0.27285368, 0.09819675, 0.13952568],\n",
    "       [0.07175213, 0.1681485 , 0.01510959, 0.148823  , 0.036687  ,\n",
    "        0.05274501, 0.18675568, 0.00683182, 0.12230998, 0.19083728],\n",
    "       [0.05244913, 0.02907043, 0.0975587 , 0.05025271, 0.02216286,\n",
    "        0.17713026, 0.06328293, 0.20496622, 0.1713011 , 0.13182566],\n",
    "       [0.14689875, 0.02455911, 0.01327026, 0.1102367 , 0.19563813,\n",
    "        0.09531382, 0.05910418, 0.093803  , 0.13929018, 0.12188586],\n",
    "       [0.10158382, 0.07613131, 0.17190665, 0.03884681, 0.06059491,\n",
    "        0.05792382, 0.1240157 , 0.0682159 , 0.1556297 , 0.14515137],\n",
    "       [0.13143423, 0.06999549, 0.13050877, 0.15466744, 0.05662536,\n",
    "        0.1508679 , 0.05977656, 0.07543566, 0.11605682, 0.05463179]])\n",
    "JJ = jjhunter_numba(jj_test)"
   ]
  },
  {
   "cell_type": "code",
   "execution_count": 13,
   "metadata": {},
   "outputs": [
    {
     "data": {
      "text/plain": [
       "0.9999999999999999"
      ]
     },
     "execution_count": 13,
     "metadata": {},
     "output_type": "execute_result"
    }
   ],
   "source": [
    "np.sum(jj_test[0])"
   ]
  },
  {
   "cell_type": "code",
   "execution_count": 15,
   "metadata": {},
   "outputs": [
    {
     "name": "stdout",
     "output_type": "stream",
     "text": [
      "[9.97614044 9.97614046 9.97614044 9.97614045 9.97614044 9.97614045\n",
      " 9.97614044 9.97614045 9.97614045 9.97614042] [10.10998828 10.13988282 10.1317884  10.1636292  10.1663076  10.17746943\n",
      " 10.14551257 10.11060195 10.12394789 10.1280951 ]\n"
     ]
    }
   ],
   "source": [
    "peq = compute_free_energy(jj_test)[0]\n",
    "mfpt1 = Markov_mfpt_calc(peq.T,jj_test)\n",
    "mfpt2 = jjhunter(jj_test)\n",
    "k1 = check_kemeny(mfpt1,peq)\n",
    "k2 = check_kemeny(mfpt2,peq)\n",
    "print(k1,k2)"
   ]
  },
  {
   "cell_type": "code",
   "execution_count": 93,
   "metadata": {},
   "outputs": [
    {
     "data": {
      "text/plain": [
       "array([0.09970465, 0.09999713, 0.09991889, 0.10024037, 0.10026492,\n",
       "       0.10037112, 0.10005989, 0.09971094, 0.09984852, 0.09988357])"
      ]
     },
     "execution_count": 93,
     "metadata": {},
     "output_type": "execute_result"
    }
   ],
   "source": [
    "compute_free_energy(JJ)[0]\n",
    "check_kemeny()"
   ]
  },
  {
   "cell_type": "code",
   "execution_count": 91,
   "metadata": {},
   "outputs": [],
   "source": [
    "for i in jj_test:\n",
    "    assert np.allclose(np.sum(i),1)\n"
   ]
  },
  {
   "cell_type": "code",
   "execution_count": 17,
   "metadata": {},
   "outputs": [],
   "source": [
    "A = test_MM(2000)\n",
    "peq = compute_free_energy(A)[0]\n",
    "mfpt1 = Markov_mfpt_calc(peq,A)\n",
    "mfpt2 = jjhunter_numba(A)\n",
    "k1 = check_kemeny(mfpt1,peq)\n",
    "k2 = check_kemeny(mfpt2,peq)"
   ]
  },
  {
   "cell_type": "code",
   "execution_count": 73,
   "metadata": {},
   "outputs": [],
   "source": [
    "def compare_runtime_dense(size_list):\n",
    "    @njit(parallel=True)\n",
    "    def normalise_transition(MM):\n",
    "        for i in prange(len(MM)):\n",
    "            sum = np.sum(MM[i])\n",
    "            MM[i] = MM[i]/sum\n",
    "        return MM\n",
    "    def mfpt_calc(matrix):\n",
    "        peq = compute_free_energy(matrix)[0]\n",
    "        mfpt = Markov_mfpt_calc(peq,matrix)\n",
    "        return peq, mfpt\n",
    "    \n",
    "    TIME1 = []\n",
    "    TIME2 = []\n",
    "\n",
    "    for i in tqdm(size_list):\n",
    "        matrix = np.random.random((i,i))\n",
    "        matrix = normalise_transition(matrix)\n",
    "        time1 = %timeit -o -q mfpt_calc(matrix)\n",
    "        time2 = %timeit -o -q jjhunter_numba(matrix)\n",
    "        TIME1.append(time1.best)\n",
    "        TIME2.append(time2.best)\n",
    "    return TIME1,TIME2"
   ]
  },
  {
   "cell_type": "code",
   "execution_count": 17,
   "metadata": {},
   "outputs": [
    {
     "name": "stderr",
     "output_type": "stream",
     "text": [
      "100%|██████████| 6/6 [12:59<00:00, 129.91s/it]\n"
     ]
    }
   ],
   "source": [
    "t1, t2 = compare_runtime_dense([10,100,1000,2000,3000,4000])"
   ]
  },
  {
   "cell_type": "code",
   "execution_count": 75,
   "metadata": {},
   "outputs": [
    {
     "name": "stderr",
     "output_type": "stream",
     "text": [
      "  0%|          | 0/10 [00:00<?, ?it/s]"
     ]
    },
    {
     "name": "stderr",
     "output_type": "stream",
     "text": [
      "100%|██████████| 10/10 [02:36<00:00, 15.66s/it]\n"
     ]
    }
   ],
   "source": [
    "T1, T2 = compare_runtime_dense(np.linspace(1,500,10).astype(int))"
   ]
  },
  {
   "cell_type": "code",
   "execution_count": 77,
   "metadata": {},
   "outputs": [
    {
     "name": "stderr",
     "output_type": "stream",
     "text": [
      "100%|██████████| 14/14 [03:10<00:00, 13.64s/it]\n"
     ]
    }
   ],
   "source": [
    "T_1, T_2 = compare_runtime_dense(np.linspace(10,1500,14).astype(int))"
   ]
  },
  {
   "cell_type": "code",
   "execution_count": 21,
   "metadata": {},
   "outputs": [
    {
     "data": {
      "text/plain": [
       "<matplotlib.legend.Legend at 0x7f29b78467d0>"
      ]
     },
     "execution_count": 21,
     "metadata": {},
     "output_type": "execute_result"
    },
    {
     "data": {
      "image/png": "[encoded data removed]",
      "text/plain": [
       "<Figure size 640x480 with 1 Axes>"
      ]
     },
     "metadata": {},
     "output_type": "display_data"
    }
   ],
   "source": [
    "plt.figure()\n",
    "plt.plot([10,100,1000,2000,3000,4000],t1,label='mfpt_calc')\n",
    "plt.plot([10,100,1000,2000,3000,4000],t2,label='jjhunter')\n",
    "plt.legend(loc='best')"
   ]
  },
  {
   "cell_type": "code",
   "execution_count": 76,
   "metadata": {},
   "outputs": [
    {
     "data": {
      "text/plain": [
       "<matplotlib.legend.Legend at 0x7fe95cce36d0>"
      ]
     },
     "execution_count": 76,
     "metadata": {},
     "output_type": "execute_result"
    },
    {
     "data": {
      "image/png": "[encoded data removed]",
      "text/plain": [
       "<Figure size 640x480 with 1 Axes>"
      ]
     },
     "metadata": {},
     "output_type": "display_data"
    }
   ],
   "source": [
    "plt.figure()\n",
    "plt.plot(np.linspace(1,500,10).astype(int),T1,label='mfpt_calc')\n",
    "plt.plot(np.linspace(1,500,10).astype(int),T2,label='jjhunter')\n",
    "plt.legend(loc='best')"
   ]
  },
  {
   "cell_type": "code",
   "execution_count": 78,
   "metadata": {},
   "outputs": [
    {
     "data": {
      "text/plain": [
       "<matplotlib.legend.Legend at 0x7fe966a4b110>"
      ]
     },
     "execution_count": 78,
     "metadata": {},
     "output_type": "execute_result"
    },
    {
     "data": {
      "image/png": "[encoded data removed]",
      "text/plain": [
       "<Figure size 640x480 with 1 Axes>"
      ]
     },
     "metadata": {},
     "output_type": "display_data"
    }
   ],
   "source": [
    "plt.figure()\n",
    "plt.plot(np.linspace(10,1500,14).astype(int),T_1,label='mfpt_calc')\n",
    "plt.plot(np.linspace(10,1500,14).astype(int),T_2,label='jjhunter')\n",
    "plt.legend(loc='best')"
   ]
  },
  {
   "cell_type": "code",
   "execution_count": null,
   "metadata": {},
   "outputs": [
    {
     "data": {
      "text/plain": [
       "array([99.89532036, 99.89532036, 99.89532036, 99.89532036, 99.89532036,\n",
       "       99.89532036, 99.89532036, 99.89532036, 99.89532036, 99.89532036,\n",
       "       99.89532036, 99.89532036, 99.89532036, 99.89532036, 99.89532036,\n",
       "       99.89532036, 99.89532036, 99.89532036, 99.89532036, 99.89532036,\n",
       "       99.89532036, 99.89532036, 99.89532036, 99.89532036, 99.89532036,\n",
       "       99.89532036, 99.89532036, 99.89532036, 99.89532036, 99.89532036,\n",
       "       99.89532036, 99.89532036, 99.89532036, 99.89532036, 99.89532036,\n",
       "       99.89532036, 99.89532036, 99.89532036, 99.89532036, 99.89532036,\n",
       "       99.89532036, 99.89532036, 99.89532036, 99.89532036, 99.89532036,\n",
       "       99.89532036, 99.89532036, 99.89532036, 99.89532036, 99.89532036,\n",
       "       99.89532036, 99.89532036, 99.89532036, 99.89532036, 99.89532036,\n",
       "       99.89532036, 99.89532036, 99.89532036, 99.89532036, 99.89532036,\n",
       "       99.89532036, 99.89532036, 99.89532036, 99.89532036, 99.89532036,\n",
       "       99.89532036, 99.89532036, 99.89532036, 99.89532036, 99.89532036,\n",
       "       99.89532036, 99.89532036, 99.89532036, 99.89532036, 99.89532036,\n",
       "       99.89532036, 99.89532036, 99.89532036, 99.89532036, 99.89532036,\n",
       "       99.89532036, 99.89532036, 99.89532036, 99.89532036, 99.89532036,\n",
       "       99.89532036, 99.89532036, 99.89532036, 99.89532036, 99.89532036,\n",
       "       99.89532036, 99.89532036, 99.89532036, 99.89532036, 99.89532036,\n",
       "       99.89532036, 99.89532036, 99.89532036, 99.89532036, 99.89532036])"
      ]
     },
     "execution_count": 95,
     "metadata": {},
     "output_type": "execute_result"
    }
   ],
   "source": [
    "k1"
   ]
  },
  {
   "cell_type": "code",
   "execution_count": 96,
   "metadata": {},
   "outputs": [
    {
     "data": {
      "text/plain": [
       "array([102.45847389, 102.47020634, 102.48809658, 102.43592254,\n",
       "       102.46362989, 102.44462813, 102.48853149, 102.47176222,\n",
       "       102.43653372, 102.44397124, 102.49371759, 102.44331937,\n",
       "       102.4582134 , 102.47044974, 102.48138516, 102.50711931,\n",
       "       102.46856627, 102.4764424 , 102.47029355, 102.48279344,\n",
       "       102.44205585, 102.43190379, 102.52214933, 102.53815542,\n",
       "       102.51031316, 102.49869685, 102.42421809, 102.48720642,\n",
       "       102.50260516, 102.45372292, 102.46762989, 102.44598391,\n",
       "       102.48856279, 102.51905617, 102.47532857, 102.48136783,\n",
       "       102.45281255, 102.52251925, 102.44809197, 102.45296867,\n",
       "       102.47974728, 102.44426694, 102.47410157, 102.486912  ,\n",
       "       102.45437949, 102.4389593 , 102.44787987, 102.50527229,\n",
       "       102.49998913, 102.48964122, 102.48919303, 102.4873894 ,\n",
       "       102.4969996 , 102.5019802 , 102.42592613, 102.43007937,\n",
       "       102.50837901, 102.4925062 , 102.46172993, 102.46704442,\n",
       "       102.51214818, 102.44849088, 102.45203869, 102.44165992,\n",
       "       102.47962426, 102.4644369 , 102.47973314, 102.46533615,\n",
       "       102.41602209, 102.46649998, 102.44943532, 102.46937412,\n",
       "       102.50315276, 102.44460412, 102.48397821, 102.49349952,\n",
       "       102.46742926, 102.45156799, 102.45438706, 102.44543368,\n",
       "       102.49119358, 102.50404413, 102.43150016, 102.46958076,\n",
       "       102.46192804, 102.50392056, 102.46433646, 102.50265165,\n",
       "       102.51225878, 102.45680114, 102.46447424, 102.44026577,\n",
       "       102.47640128, 102.46146056, 102.47292158, 102.47733745,\n",
       "       102.4955567 , 102.48154277, 102.51373613, 102.44866081])"
      ]
     },
     "execution_count": 96,
     "metadata": {},
     "output_type": "execute_result"
    }
   ],
   "source": [
    "k2"
   ]
  },
  {
   "cell_type": "code",
   "execution_count": null,
   "metadata": {},
   "outputs": [],
   "source": []
  }
 ],
 "metadata": {
  "kernelspec": {
   "display_name": "biophys_env",
   "language": "python",
   "name": "python3"
  },
  "language_info": {
   "codemirror_mode": {
    "name": "ipython",
    "version": 3
   },
   "file_extension": ".py",
   "mimetype": "text/x-python",
   "name": "python",
   "nbconvert_exporter": "python",
   "pygments_lexer": "ipython3",
   "version": "3.11.6"
  }
 },
 "nbformat": 4,
 "nbformat_minor": 2
}
