{
 "cells": [
  {
   "cell_type": "code",
   "execution_count": 24,
   "metadata": {},
   "outputs": [],
   "source": [
    "import numpy as np\n",
    "\n",
    "def jjhunter(P):\n",
    "    P = np.array(P, dtype=np.float64)  # Using double precision\n",
    "    m = len(P)\n",
    "    I = np.eye(m, dtype=np.float64)\n",
    "    e1 = np.ones((m, 1), dtype=np.float64)\n",
    "    E = np.ones((m, m), dtype=np.float64)\n",
    "    PPD = P.copy()\n",
    "    AASD = np.zeros((m, m), dtype=np.float64)\n",
    "    SD = np.zeros(m)\n",
    "\n",
    "    for n in range(m-1, 0, -1):\n",
    "        #print(n,PPD[n, :n])\n",
    "        SD[n] = np.sum(PPD[n, :n])\n",
    "        #print(SD)\n",
    "        for i in range(n):\n",
    "            for j in range(n):\n",
    "                AASD[i, j] = PPD[i, n] * PPD[n, j] / SD[n]\n",
    "                PPD[i, j] += AASD[i, j]\n",
    "    #print(AASD,'\\n', PPD)\n",
    "\n",
    "    rD = np.zeros(m, dtype=np.float64)\n",
    "    rD[0] = 1\n",
    "    for n in range(1, m):\n",
    "        for i in range(n):\n",
    "            rD[n] += rD[i] * PPD[i, n] / SD[n]\n",
    "    #print(rD)\n",
    "\n",
    "    TOTD = np.sum(rD)\n",
    "    pit_1D = rD / TOTD\n",
    "    PiD = e1 @ pit_1D.reshape(1, -1)\n",
    "    #print(PiD)\n",
    "    ZD = np.linalg.inv(I - P + PiD)\n",
    "    #print(ZD)\n",
    "    DD = np.linalg.inv(np.diag(np.diag(PiD)))\n",
    "    #print(DD)\n",
    "    MD = (I - ZD + E @ np.diag(np.diag(ZD))) @ DD\n",
    "    print(MD)\n",
    "    return MD"
   ]
  },
  {
   "cell_type": "code",
   "execution_count": 25,
   "metadata": {},
   "outputs": [
    {
     "name": "stdout",
     "output_type": "stream",
     "text": [
      "[[2.12465365 2.41503427 5.288825  ]\n",
      " [2.10789656 2.82436685 3.95190861]\n",
      " [1.03325414 2.57366158 5.70537237]]\n"
     ]
    },
    {
     "data": {
      "text/plain": [
       "array([[2.12465365, 2.41503427, 5.288825  ],\n",
       "       [2.10789656, 2.82436685, 3.95190861],\n",
       "       [1.03325414, 2.57366158, 5.70537237]])"
      ]
     },
     "execution_count": 25,
     "metadata": {},
     "output_type": "execute_result"
    }
   ],
   "source": [
    "# Example matrix P\n",
    "P = np.array([[0.4211, 0.4247, 0.1542],\n",
    "              [0.2808, 0.2743, 0.445 ],\n",
    "              [0.9873, 0.3257, 0.1018]])\n",
    "\n",
    "# Running the function with the provided matrix\n",
    "jjhunter(P)"
   ]
  },
  {
   "cell_type": "code",
   "execution_count": null,
   "metadata": {},
   "outputs": [],
   "source": []
  }
 ],
 "metadata": {
  "kernelspec": {
   "display_name": "biophys_env",
   "language": "python",
   "name": "python3"
  },
  "language_info": {
   "codemirror_mode": {
    "name": "ipython",
    "version": 3
   },
   "file_extension": ".py",
   "mimetype": "text/x-python",
   "name": "python",
   "nbconvert_exporter": "python",
   "pygments_lexer": "ipython3",
   "version": "3.11.6"
  }
 },
 "nbformat": 4,
 "nbformat_minor": 2
}
