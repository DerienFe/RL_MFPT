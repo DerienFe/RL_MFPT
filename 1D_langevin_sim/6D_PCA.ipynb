{
 "cells": [
  {
   "cell_type": "code",
   "execution_count": 1,
   "metadata": {},
   "outputs": [],
   "source": [
    "import numpy as np\n",
    "import matplotlib.pyplot as plt\n",
    "\n",
    "import time\n",
    "\n",
    "from tqdm import tqdm\n",
    "\n",
    "import openmm\n",
    "from openmm import unit\n",
    "from openmm.app.topology import Topology\n",
    "from openmm.app.element import Element\n",
    "import mdtraj\n",
    "import csv\n",
    "\n",
    "import config\n",
    "from dham import *\n",
    "from util import *"
   ]
  },
  {
   "cell_type": "code",
   "execution_count": 2,
   "metadata": {},
   "outputs": [
    {
     "data": {
      "text/plain": [
       "1"
      ]
     },
     "execution_count": 2,
     "metadata": {},
     "output_type": "execute_result"
    }
   ],
   "source": [
    "elem = Element(0, \"X\", \"X\", 1.0)\n",
    "top = Topology()\n",
    "top.addChain()\n",
    "top.addResidue(\"xxx\", top._chains[0])\n",
    "top.addAtom(\"X1\", elem, top._chains[0]._residues[0])\n",
    "top.addAtom(\"X2\", elem, top._chains[0]._residues[0])\n",
    "mass = 12.0 * unit.amu\n",
    "system = openmm.System() #we initialize the system every\n",
    "system.addParticle(mass)\n",
    "system.addParticle(mass)"
   ]
  },
  {
   "cell_type": "code",
   "execution_count": 3,
   "metadata": {},
   "outputs": [],
   "source": [
    "def random_initial_bias3D(initial_position, num_gaussians):\n",
    "    initial_position = initial_position.value_in_unit_system(openmm.unit.md_unit_system)[0]\n",
    "    rng = np.random.default_rng()\n",
    "    a = np.ones(num_gaussians)\n",
    "    bx = rng.uniform(initial_position[0] - 0.5,initial_position[0]+0.5,num_gaussians)\n",
    "    by = rng.uniform(initial_position[0] - 0.5,initial_position[0]+0.5,num_gaussians)\n",
    "    bz = rng.uniform(initial_position[0] - 0.5,initial_position[0]+0.5,num_gaussians)\n",
    "    cx = rng.uniform(1,5,num_gaussians)\n",
    "    cy = rng.uniform(1,5,num_gaussians)\n",
    "    cz = rng.uniform(1,5,num_gaussians)\n",
    "    return np.concatenate((a,bx,by,bz,cx,cy,cz))"
   ]
  },
  {
   "cell_type": "code",
   "execution_count": 4,
   "metadata": {},
   "outputs": [
    {
     "name": "stdout",
     "output_type": "stream",
     "text": [
      "A0*exp(-(x-x00)^2/(2*sigma_x0^2))\n",
      "A1*exp(-(x-x01)^2/(2*sigma_x1^2))\n",
      "A2*exp(-(x-x02)^2/(2*sigma_x2^2))\n",
      "A3*exp(-(x-x03)^2/(2*sigma_x3^2))\n",
      "A4*exp(-(x-x04)^2/(2*sigma_x4^2))\n",
      "A5*exp(-(x-x05)^2/(2*sigma_x5^2))\n",
      "A6*exp(-(x-x06)^2/(2*sigma_x6^2))\n",
      "A7*exp(-(x-x07)^2/(2*sigma_x7^2))\n",
      "A8*exp(-(x-x08)^2/(2*sigma_x8^2))\n",
      "A0*exp(-(x-x00)^2/(2*sigma_x0^2))\n",
      "A1*exp(-(x-x01)^2/(2*sigma_x1^2))\n",
      "A2*exp(-(x-x02)^2/(2*sigma_x2^2))\n",
      "A3*exp(-(x-x03)^2/(2*sigma_x3^2))\n",
      "A4*exp(-(x-x04)^2/(2*sigma_x4^2))\n",
      "A5*exp(-(x-x05)^2/(2*sigma_x5^2))\n",
      "A6*exp(-(x-x06)^2/(2*sigma_x6^2))\n",
      "A7*exp(-(x-x07)^2/(2*sigma_x7^2))\n",
      "A8*exp(-(x-x08)^2/(2*sigma_x8^2))\n"
     ]
    },
    {
     "data": {
      "text/plain": [
       "27"
      ]
     },
     "execution_count": 4,
     "metadata": {},
     "output_type": "execute_result"
    }
   ],
   "source": [
    "system, fes1 = apply_fes(system = system, \n",
    "                        particle_idx=0, \n",
    "                        gaussian_param = None, \n",
    "                        pbc = config.pbc, \n",
    "                        amp = config.amp, \n",
    "                        name = \"FES\",\n",
    "                        mode=config.fes_mode, \n",
    "                        plot = True)\n",
    "\n",
    "system, fes2 = apply_fes(system = system, \n",
    "                        particle_idx=1, \n",
    "                        gaussian_param = None, \n",
    "                        pbc = config.pbc, \n",
    "                        amp = config.amp, \n",
    "                        name = \"FES\",\n",
    "                        mode=config.fes_mode, \n",
    "                        plot = True)\n",
    "y1_pot = openmm.CustomExternalForce(\"1e2 * y^2\") # reduced force constant in y for particle 1\n",
    "y1_pot.addParticle(0)\n",
    "z1_pot = openmm.CustomExternalForce(\"1e2 * z^2\") # large force constant in z for particle 1\n",
    "z1_pot.addParticle(0)\n",
    "y2_pot, z2_pot = openmm.CustomExternalForce(\"1e2 * y^2\"),openmm.CustomExternalForce(\"1e2 * y^2\")\n",
    "y2_pot.addParticle(1)\n",
    "z2_pot.addParticle(1)\n",
    "\n",
    "\n",
    "system.addForce(z1_pot) #on z, large barrier\n",
    "system.addForce(y1_pot) #on y, large barrier\n",
    "system.addForce(z2_pot)\n",
    "system.addForce(y2_pot)"
   ]
  },
  {
   "cell_type": "code",
   "execution_count": 5,
   "metadata": {},
   "outputs": [],
   "source": [
    "if config.pbc:\n",
    "    a = unit.Quantity((2*np.pi*unit.nanometers, 0*unit.nanometers, 0*unit.nanometers))\n",
    "    b = unit.Quantity((0*unit.nanometers, 2*np.pi*unit.nanometers, 0*unit.nanometers))\n",
    "    c = unit.Quantity((0*unit.nanometers, 0*unit.nanometers, 2*np.pi*unit.nanometers)) # atom not moving in z so we set it to 1 nm\n",
    "    system.setDefaultPeriodicBoxVectors(a,b,c)\n",
    "\n",
    "#integrator\n",
    "integrator = openmm.LangevinIntegrator(300*unit.kelvin, \n",
    "                                    1.0/unit.picoseconds, \n",
    "                                    0.002*unit.picoseconds)\n",
    "\n",
    "num_propagation = int(config.sim_steps/config.propagation_step)\n",
    "frame_per_propagation = int(config.propagation_step/config.dcdfreq_mfpt)\n",
    "#this stores the digitized, ravelled, x, y coordinates of the particle, for every propagation.\n",
    "pos_traj = np.zeros([num_propagation, frame_per_propagation]) #shape: [num_propagation, frame_per_propagation]\n"
   ]
  },
  {
   "cell_type": "code",
   "execution_count": 6,
   "metadata": {},
   "outputs": [],
   "source": [
    "qs = []\n",
    "for i in range(6):\n",
    "    qs.append(np.linspace(0,2*np.pi,config.num_bins))\n",
    "qspace = np.meshgrid(*qs)\n",
    "x,y,dim3,dim4,dim5,dim6 = qspace"
   ]
  },
  {
   "cell_type": "code",
   "execution_count": 7,
   "metadata": {},
   "outputs": [
    {
     "name": "stdout",
     "output_type": "stream",
     "text": [
      "propagation 0 starting\n"
     ]
    },
    {
     "ename": "AssertionError",
     "evalue": "gaussian_param should be in A, x0, sigma_x, format.",
     "output_type": "error",
     "traceback": [
      "\u001b[0;31m---------------------------------------------------------------------------\u001b[0m",
      "\u001b[0;31mAssertionError\u001b[0m                            Traceback (most recent call last)",
      "Cell \u001b[0;32mIn[7], line 21\u001b[0m\n\u001b[1;32m     14\u001b[0m gaussian_params \u001b[38;5;241m=\u001b[39m random_initial_bias6D(initial_position \u001b[38;5;241m=\u001b[39m config\u001b[38;5;241m.\u001b[39mstart_state, num_gaussians \u001b[38;5;241m=\u001b[39m config\u001b[38;5;241m.\u001b[39mnum_gaussian)\n\u001b[1;32m     16\u001b[0m \u001b[38;5;66;03m#global_gaussian_params = gaussian_params.reshape(1, config.num_gaussian, 3) #this is in shape [1, num_gaussian, 3]\u001b[39;00m\n\u001b[1;32m     17\u001b[0m \u001b[38;5;66;03m#we save the gaussian_params as prop_0 params. later this will be loaded in dham.\u001b[39;00m\n\u001b[1;32m     18\u001b[0m \u001b[38;5;66;03m#np.savetxt(f\"./params/{time_tag}_gaussian_fes_param_{i_prop}.txt\", gaussian_params)\u001b[39;00m\n\u001b[1;32m     19\u001b[0m \n\u001b[1;32m     20\u001b[0m \u001b[38;5;66;03m#we apply the initial gaussian bias (v small) to the system\u001b[39;00m\n\u001b[0;32m---> 21\u001b[0m system \u001b[38;5;241m=\u001b[39m \u001b[43mapply_bias\u001b[49m\u001b[43m(\u001b[49m\u001b[43msystem\u001b[49m\u001b[43m \u001b[49m\u001b[38;5;241;43m=\u001b[39;49m\u001b[43m \u001b[49m\u001b[43msystem\u001b[49m\u001b[43m,\u001b[49m\u001b[43m \u001b[49m\u001b[43mparticle_idx\u001b[49m\u001b[38;5;241;43m=\u001b[39;49m\u001b[38;5;241;43m0\u001b[39;49m\u001b[43m,\u001b[49m\u001b[43m \u001b[49m\u001b[43mgaussian_param\u001b[49m\u001b[43m \u001b[49m\u001b[38;5;241;43m=\u001b[39;49m\u001b[43m \u001b[49m\u001b[43mgaussian_params\u001b[49m\u001b[43m,\u001b[49m\u001b[43m \u001b[49m\u001b[43mpbc\u001b[49m\u001b[43m \u001b[49m\u001b[38;5;241;43m=\u001b[39;49m\u001b[43m \u001b[49m\u001b[43mconfig\u001b[49m\u001b[38;5;241;43m.\u001b[39;49m\u001b[43mpbc\u001b[49m\u001b[43m,\u001b[49m\u001b[43m \u001b[49m\u001b[43mname\u001b[49m\u001b[43m \u001b[49m\u001b[38;5;241;43m=\u001b[39;49m\u001b[43m \u001b[49m\u001b[38;5;124;43m\"\u001b[39;49m\u001b[38;5;124;43mBIAS\u001b[39;49m\u001b[38;5;124;43m\"\u001b[39;49m\u001b[43m,\u001b[49m\u001b[43m \u001b[49m\u001b[43mnum_gaussians\u001b[49m\u001b[43m \u001b[49m\u001b[38;5;241;43m=\u001b[39;49m\u001b[43m \u001b[49m\u001b[43mconfig\u001b[49m\u001b[38;5;241;43m.\u001b[39;49m\u001b[43mnum_gaussian\u001b[49m\u001b[43m)\u001b[49m\n\u001b[1;32m     22\u001b[0m system \u001b[38;5;241m=\u001b[39m apply_bias(system \u001b[38;5;241m=\u001b[39m system, particle_idx\u001b[38;5;241m=\u001b[39m\u001b[38;5;241m1\u001b[39m, gaussian_param \u001b[38;5;241m=\u001b[39m gaussian_params, pbc \u001b[38;5;241m=\u001b[39m config\u001b[38;5;241m.\u001b[39mpbc, name \u001b[38;5;241m=\u001b[39m \u001b[38;5;124m\"\u001b[39m\u001b[38;5;124mBIAS\u001b[39m\u001b[38;5;124m\"\u001b[39m, num_gaussians \u001b[38;5;241m=\u001b[39m config\u001b[38;5;241m.\u001b[39mnum_gaussian)\n\u001b[1;32m     23\u001b[0m \u001b[38;5;66;03m#create simulation object, this create a context object automatically.\u001b[39;00m\n\u001b[1;32m     24\u001b[0m \u001b[38;5;66;03m# when we need to pass a context object, we can pass simulation instead.\u001b[39;00m\n",
      "File \u001b[0;32m~/George_Saba/github_repo/RL_MFPT/1D_langevin_sim/util.py:540\u001b[0m, in \u001b[0;36mapply_bias\u001b[0;34m(system, particle_idx, gaussian_param, pbc, name, num_gaussians)\u001b[0m\n\u001b[1;32m    533\u001b[0m \u001b[38;5;28;01mdef\u001b[39;00m \u001b[38;5;21mapply_bias\u001b[39m(system, particle_idx, gaussian_param, pbc \u001b[38;5;241m=\u001b[39m \u001b[38;5;28;01mFalse\u001b[39;00m, name \u001b[38;5;241m=\u001b[39m \u001b[38;5;124m\"\u001b[39m\u001b[38;5;124mBIAS\u001b[39m\u001b[38;5;124m\"\u001b[39m, num_gaussians \u001b[38;5;241m=\u001b[39m \u001b[38;5;241m20\u001b[39m):\n\u001b[1;32m    534\u001b[0m \u001b[38;5;250m    \u001b[39m\u001b[38;5;124;03m\"\"\"\u001b[39;00m\n\u001b[1;32m    535\u001b[0m \u001b[38;5;124;03m    this applies a bias using customexternal force class. similar as apply_fes.\u001b[39;00m\n\u001b[1;32m    536\u001b[0m \u001b[38;5;124;03m    note this leaves a set of global parameters Ag, x0g, sigma_xg\u001b[39;00m\n\u001b[1;32m    537\u001b[0m \u001b[38;5;124;03m    as these parameters can be called and updated later.\u001b[39;00m\n\u001b[1;32m    538\u001b[0m \u001b[38;5;124;03m    note this is done while preparing the system before assembling the context.\u001b[39;00m\n\u001b[1;32m    539\u001b[0m \u001b[38;5;124;03m    \"\"\"\u001b[39;00m\n\u001b[0;32m--> 540\u001b[0m     \u001b[38;5;28;01massert\u001b[39;00m \u001b[38;5;28mlen\u001b[39m(gaussian_param) \u001b[38;5;241m==\u001b[39m \u001b[38;5;241m3\u001b[39m \u001b[38;5;241m*\u001b[39m num_gaussians, \u001b[38;5;124m\"\u001b[39m\u001b[38;5;124mgaussian_param should be in A, x0, sigma_x, format.\u001b[39m\u001b[38;5;124m\"\u001b[39m\n\u001b[1;32m    542\u001b[0m     \u001b[38;5;66;03m#unpack gaussian parameters gaussian_params = np.concatenate((a, bx, cx))\u001b[39;00m\n\u001b[1;32m    543\u001b[0m     num_gaussians \u001b[38;5;241m=\u001b[39m \u001b[38;5;28mlen\u001b[39m(gaussian_param)\u001b[38;5;241m/\u001b[39m\u001b[38;5;241m/\u001b[39m\u001b[38;5;241m3\u001b[39m\n",
      "\u001b[0;31mAssertionError\u001b[0m: gaussian_param should be in A, x0, sigma_x, format."
     ]
    }
   ],
   "source": [
    "#x = np.linspace(0, 2*np.pi, config.num_bins)\n",
    "\n",
    "#we start propagation.\n",
    "#note num_propagation = config.sim_steps/config.propagation_step\n",
    "reach = None\n",
    "i_prop = 0\n",
    "#for i_prop in range(num_propagation):\n",
    "while reach is None:\n",
    "    if i_prop >= num_propagation:\n",
    "        print(\"propagation number exceeds num_propagation, break\")\n",
    "        break\n",
    "    if i_prop == 0:\n",
    "        print(\"propagation 0 starting\")\n",
    "        gaussian_params1 = random_initial_bias3D(initial_position = config.start_state, num_gaussians = config.num_gaussian)\n",
    "        gaussian_params2 = random_intial_bias3D(initial_position = config.start_date, num_gaussians = config.num_gaussian)\n",
    "        \n",
    "        #global_gaussian_params = gaussian_params.reshape(1, config.num_gaussian, 3) #this is in shape [1, num_gaussian, 3]\n",
    "        #we save the gaussian_params as prop_0 params. later this will be loaded in dham.\n",
    "        #np.savetxt(f\"./params/{time_tag}_gaussian_fes_param_{i_prop}.txt\", gaussian_params)\n",
    "\n",
    "        #we apply the initial gaussian bias (v small) to the system\n",
    "        system = apply_bias(system = system, particle_idx=0, gaussian_param = gaussian_params, pbc = config.pbc, name = \"BIAS\", num_gaussians = config.num_gaussian)\n",
    "        system = apply_bias(system = system, particle_idx=1, gaussian_param = gaussian_params, pbc = config.pbc, name = \"BIAS\", num_gaussians = config.num_gaussian)\n",
    "        #create simulation object, this create a context object automatically.\n",
    "        # when we need to pass a context object, we can pass simulation instead.\n",
    "        simulation = openmm.app.Simulation(top, system, integrator, config.platform)\n",
    "        simulation.context.setPositions(config.start_state)\n",
    "        simulation.context.setVelocitiesToTemperature(300*unit.kelvin)\n",
    "\n",
    "        simulation.minimizeEnergy()\n",
    "        if config.pbc:\n",
    "            simulation.context.setPeriodicBoxVectors(a,b,c)"
   ]
  },
  {
   "cell_type": "code",
   "execution_count": 8,
   "metadata": {},
   "outputs": [
    {
     "data": {
      "text/plain": [
       "260"
      ]
     },
     "execution_count": 8,
     "metadata": {},
     "output_type": "execute_result"
    }
   ],
   "source": [
    "len(gaussian_params)"
   ]
  },
  {
   "cell_type": "code",
   "execution_count": 9,
   "metadata": {},
   "outputs": [
    {
     "ename": "NameError",
     "evalue": "name 'num_gaussians' is not defined",
     "output_type": "error",
     "traceback": [
      "\u001b[0;31m---------------------------------------------------------------------------\u001b[0m",
      "\u001b[0;31mNameError\u001b[0m                                 Traceback (most recent call last)",
      "Cell \u001b[0;32mIn[9], line 1\u001b[0m\n\u001b[0;32m----> 1\u001b[0m \u001b[43mnum_gaussians\u001b[49m\n",
      "\u001b[0;31mNameError\u001b[0m: name 'num_gaussians' is not defined"
     ]
    }
   ],
   "source": [
    "num_gaussians"
   ]
  },
  {
   "cell_type": "code",
   "execution_count": 10,
   "metadata": {},
   "outputs": [
    {
     "data": {
      "text/plain": [
       "60"
      ]
     },
     "execution_count": 10,
     "metadata": {},
     "output_type": "execute_result"
    }
   ],
   "source": [
    "3 * 20"
   ]
  },
  {
   "cell_type": "code",
   "execution_count": null,
   "metadata": {},
   "outputs": [],
   "source": []
  }
 ],
 "metadata": {
  "kernelspec": {
   "display_name": "biophys_env",
   "language": "python",
   "name": "python3"
  },
  "language_info": {
   "codemirror_mode": {
    "name": "ipython",
    "version": 3
   },
   "file_extension": ".py",
   "mimetype": "text/x-python",
   "name": "python",
   "nbconvert_exporter": "python",
   "pygments_lexer": "ipython3",
   "version": "3.11.4"
  }
 },
 "nbformat": 4,
 "nbformat_minor": 2
}
